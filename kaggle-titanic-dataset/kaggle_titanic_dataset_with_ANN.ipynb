{
 "cells": [
  {
   "cell_type": "markdown",
   "metadata": {
    "colab_type": "text",
    "id": "QJcPRRWPOaDv"
   },
   "source": [
    "# Titanic Machine Learning from Disaster using an ANN"
   ]
  },
  {
   "cell_type": "markdown",
   "metadata": {
    "colab_type": "text",
    "id": "ksyyTNKhOaEA"
   },
   "source": [
    "## About the dataset:\n",
    "This dataset is taken from Kaggle Competition 'Titanic: Machine Learning from Disaster'."
   ]
  },
  {
   "cell_type": "markdown",
   "metadata": {
    "colab_type": "text",
    "id": "_ECjJrjszHqq"
   },
   "source": [
    "**Setting up Google Colab.**"
   ]
  },
  {
   "cell_type": "code",
   "execution_count": 43,
   "metadata": {
    "colab": {
     "base_uri": "https://localhost:8080/",
     "height": 35
    },
    "colab_type": "code",
    "executionInfo": {
     "elapsed": 7727,
     "status": "ok",
     "timestamp": 1554212973283,
     "user": {
      "displayName": "Mohit Raj",
      "photoUrl": "https://lh4.googleusercontent.com/-THuQGyH-qf0/AAAAAAAAAAI/AAAAAAAAAKE/sT7jOYuqFyI/s64/photo.jpg",
      "userId": "17943522262909727589"
     },
     "user_tz": -330
    },
    "id": "EyX89a5Jgws-",
    "outputId": "36314216-2d4d-4960-ba46-2f0e4c5fd6ff"
   },
   "outputs": [
    {
     "name": "stdout",
     "output_type": "stream",
     "text": [
      "Found GPU at: /device:GPU:0\n"
     ]
    }
   ],
   "source": [
    "import tensorflow as tf \n",
    "device_name = tf.test.gpu_device_name() \n",
    "if device_name != '/device:GPU:0': raise SystemError('GPU device not found') \n",
    "print('Found GPU at: {}'.format(device_name))"
   ]
  },
  {
   "cell_type": "code",
   "execution_count": 0,
   "metadata": {
    "colab": {
     "base_uri": "https://localhost:8080/",
     "height": 129
    },
    "colab_type": "code",
    "executionInfo": {
     "elapsed": 107205,
     "status": "ok",
     "timestamp": 1554210983025,
     "user": {
      "displayName": "Mohit Raj",
      "photoUrl": "https://lh4.googleusercontent.com/-THuQGyH-qf0/AAAAAAAAAAI/AAAAAAAAAKE/sT7jOYuqFyI/s64/photo.jpg",
      "userId": "17943522262909727589"
     },
     "user_tz": -330
    },
    "id": "uJnsj_IQhGLt",
    "outputId": "79943d23-aefc-4431-df4b-f402b54eda80"
   },
   "outputs": [
    {
     "name": "stdout",
     "output_type": "stream",
     "text": [

      "Mounted at /content/drive\n"
     ]
    }
   ],
   "source": [
    "from google.colab import drive\n",
    "drive.mount('/content/drive')"
   ]
  },
  {
   "cell_type": "markdown",
   "metadata": {
    "colab_type": "text",
    "id": "SYv93LELOaEb"
   },
   "source": [
    "## Importing the libraries"
   ]
  },
  {
   "cell_type": "code",
   "execution_count": 0,
   "metadata": {
    "colab": {},
    "colab_type": "code",
    "id": "F5BZr0pzOaEf"
   },
   "outputs": [],
   "source": [
    "import numpy as np\n",
    "np.set_printoptions(precision=4)\n",
    "\n",
    "import pandas as pd"
   ]
  },
  {
   "cell_type": "code",
   "execution_count": 0,
   "metadata": {
    "colab": {},
    "colab_type": "code",
    "id": "ncxpvWZbbQwX"
   },
   "outputs": [],
   "source": [
    "import matplotlib.pyplot as plt"
   ]
  },
  {
   "cell_type": "code",
   "execution_count": 0,
   "metadata": {
    "colab": {},
    "colab_type": "code",
    "id": "xhmV6KBaOaE0"
   },
   "outputs": [],
   "source": [
    "from sklearn.preprocessing import LabelEncoder\n",
    "from sklearn.preprocessing import OneHotEncoder\n",
    "from sklearn.preprocessing import MinMaxScaler"
   ]
  },
  {
   "cell_type": "code",
   "execution_count": 0,
   "metadata": {
    "colab": {},
    "colab_type": "code",
    "id": "DsgbAoyYOaFL"
   },
   "outputs": [],
   "source": [
    "from sklearn.ensemble import RandomForestClassifier"
   ]
  },
  {
   "cell_type": "code",
   "execution_count": 0,
   "metadata": {
    "colab": {},
    "colab_type": "code",
    "id": "1h3EBYXHOaHX"
   },
   "outputs": [],
   "source": [
    "from sklearn.model_selection import cross_val_score"
   ]
  },
  {
   "cell_type": "code",
   "execution_count": 0,
   "metadata": {
    "colab": {},
    "colab_type": "code",
    "id": "YNatzJqsOaH9"
   },
   "outputs": [],
   "source": [
    "from tensorflow import keras"
   ]
  },
  {
   "cell_type": "code",
   "execution_count": 0,
   "metadata": {
    "colab": {},
    "colab_type": "code",
    "id": "W6qLZCD4Wbdl"
   },
   "outputs": [],
   "source": [
    "from keras.models import Sequential\n",
    "from keras.layers import Dense, Dropout"
   ]
  },
  {
   "cell_type": "code",
   "execution_count": 0,
   "metadata": {
    "colab": {},
    "colab_type": "code",
    "id": "Tf2ZVYsihXt8"
   },
   "outputs": [],
   "source": [
    "from keras.wrappers.scikit_learn import KerasClassifier"
   ]
  },
  {
   "cell_type": "code",
   "execution_count": 0,
   "metadata": {
    "colab": {},
    "colab_type": "code",
    "id": "-4kFj3Q9XVpw"
   },
   "outputs": [],
   "source": [
    "from sklearn.model_selection import GridSearchCV"
   ]
  },
  {
   "cell_type": "code",
   "execution_count": 0,
   "metadata": {
    "colab": {},
    "colab_type": "code",
    "id": "KtcgKEh7hi7E"
   },
   "outputs": [],
   "source": []
  },
  {
   "cell_type": "markdown",
   "metadata": {
    "colab_type": "text",
    "id": "eRKgKtJ-OaIK"
   },
   "source": [
    "## Importing the dataset"
   ]
  },
  {
   "cell_type": "code",
   "execution_count": 48,
   "metadata": {
    "colab": {
     "base_uri": "https://localhost:8080/",
     "height": 345
    },
    "colab_type": "code",
    "executionInfo": {
     "elapsed": 3087,
     "status": "ok",
     "timestamp": 1554213011081,
     "user": {
      "displayName": "Mohit Raj",
      "photoUrl": "https://lh4.googleusercontent.com/-THuQGyH-qf0/AAAAAAAAAAI/AAAAAAAAAKE/sT7jOYuqFyI/s64/photo.jpg",
      "userId": "17943522262909727589"
     },
     "user_tz": -330
    },
    "id": "XYNn7n_bOaIh",
    "outputId": "1b29d6ae-e8a7-4d6b-8489-39dce041a57f"
   },
   "outputs": [
    {
     "data": {
      "text/html": [
       "<div>\n",
       "<style scoped>\n",
       "    .dataframe tbody tr th:only-of-type {\n",
       "        vertical-align: middle;\n",
       "    }\n",
       "\n",
       "    .dataframe tbody tr th {\n",
       "        vertical-align: top;\n",
       "    }\n",
       "\n",
       "    .dataframe thead th {\n",
       "        text-align: right;\n",
       "    }\n",
       "</style>\n",
       "<table border=\"1\" class=\"dataframe\">\n",
       "  <thead>\n",
       "    <tr style=\"text-align: right;\">\n",
       "      <th></th>\n",
       "      <th>PassengerId</th>\n",
       "      <th>Survived</th>\n",
       "      <th>Pclass</th>\n",
       "      <th>Name</th>\n",
       "      <th>Sex</th>\n",
       "      <th>Age</th>\n",
       "      <th>SibSp</th>\n",
       "      <th>Parch</th>\n",
       "      <th>Ticket</th>\n",
       "      <th>Fare</th>\n",
       "      <th>Cabin</th>\n",
       "      <th>Embarked</th>\n",
       "    </tr>\n",
       "  </thead>\n",
       "  <tbody>\n",
       "    <tr>\n",
       "      <th>0</th>\n",
       "      <td>1</td>\n",
       "      <td>0</td>\n",
       "      <td>3</td>\n",
       "      <td>Braund, Mr. Owen Harris</td>\n",
       "      <td>male</td>\n",
       "      <td>22.0</td>\n",
       "      <td>1</td>\n",
       "      <td>0</td>\n",
       "      <td>A/5 21171</td>\n",
       "      <td>7.2500</td>\n",
       "      <td>NaN</td>\n",
       "      <td>S</td>\n",
       "    </tr>\n",
       "    <tr>\n",
       "      <th>1</th>\n",
       "      <td>2</td>\n",
       "      <td>1</td>\n",
       "      <td>1</td>\n",
       "      <td>Cumings, Mrs. John Bradley (Florence Briggs Th...</td>\n",
       "      <td>female</td>\n",
       "      <td>38.0</td>\n",
       "      <td>1</td>\n",
       "      <td>0</td>\n",
       "      <td>PC 17599</td>\n",
       "      <td>71.2833</td>\n",
       "      <td>C85</td>\n",
       "      <td>C</td>\n",
       "    </tr>\n",
       "    <tr>\n",
       "      <th>2</th>\n",
       "      <td>3</td>\n",
       "      <td>1</td>\n",
       "      <td>3</td>\n",
       "      <td>Heikkinen, Miss. Laina</td>\n",
       "      <td>female</td>\n",
       "      <td>26.0</td>\n",
       "      <td>0</td>\n",
       "      <td>0</td>\n",
       "      <td>STON/O2. 3101282</td>\n",
       "      <td>7.9250</td>\n",
       "      <td>NaN</td>\n",
       "      <td>S</td>\n",
       "    </tr>\n",
       "    <tr>\n",
       "      <th>3</th>\n",
       "      <td>4</td>\n",
       "      <td>1</td>\n",
       "      <td>1</td>\n",
       "      <td>Futrelle, Mrs. Jacques Heath (Lily May Peel)</td>\n",
       "      <td>female</td>\n",
       "      <td>35.0</td>\n",
       "      <td>1</td>\n",
       "      <td>0</td>\n",
       "      <td>113803</td>\n",
       "      <td>53.1000</td>\n",
       "      <td>C123</td>\n",
       "      <td>S</td>\n",
       "    </tr>\n",
       "    <tr>\n",
       "      <th>4</th>\n",
       "      <td>5</td>\n",
       "      <td>0</td>\n",
       "      <td>3</td>\n",
       "      <td>Allen, Mr. William Henry</td>\n",
       "      <td>male</td>\n",
       "      <td>35.0</td>\n",
       "      <td>0</td>\n",
       "      <td>0</td>\n",
       "      <td>373450</td>\n",
       "      <td>8.0500</td>\n",
       "      <td>NaN</td>\n",
       "      <td>S</td>\n",
       "    </tr>\n",
       "  </tbody>\n",
       "</table>\n",
       "</div>"
      ],
      "text/plain": [
       "   PassengerId  Survived  Pclass  \\\n",
       "0            1         0       3   \n",
       "1            2         1       1   \n",
       "2            3         1       3   \n",
       "3            4         1       1   \n",
       "4            5         0       3   \n",
       "\n",
       "                                                Name     Sex   Age  SibSp  \\\n",
       "0                            Braund, Mr. Owen Harris    male  22.0      1   \n",
       "1  Cumings, Mrs. John Bradley (Florence Briggs Th...  female  38.0      1   \n",
       "2                             Heikkinen, Miss. Laina  female  26.0      0   \n",
       "3       Futrelle, Mrs. Jacques Heath (Lily May Peel)  female  35.0      1   \n",
       "4                           Allen, Mr. William Henry    male  35.0      0   \n",
       "\n",
       "   Parch            Ticket     Fare Cabin Embarked  \n",
       "0      0         A/5 21171   7.2500   NaN        S  \n",
       "1      0          PC 17599  71.2833   C85        C  \n",
       "2      0  STON/O2. 3101282   7.9250   NaN        S  \n",
       "3      0            113803  53.1000  C123        S  \n",
       "4      0            373450   8.0500   NaN        S  "
      ]
     },
     "execution_count": 48,
     "metadata": {
      "tags": []
     },
     "output_type": "execute_result"
    }
   ],
   "source": [
    "df_train = pd.read_csv('/content/drive/My Drive/Colab Notebooks/Internships/Titanic/data/train.csv')\n",
    "df_train.head()"
   ]
  },
  {
   "cell_type": "markdown",
   "metadata": {
    "colab_type": "text",
    "id": "U4u4hdTZOaI2"
   },
   "source": [
    "## Analyzing and modifying the train set"
   ]
  },
  {
   "cell_type": "code",
   "execution_count": 49,
   "metadata": {
    "colab": {
     "base_uri": "https://localhost:8080/",
     "height": 329
    },
    "colab_type": "code",
    "executionInfo": {
     "elapsed": 4693,
     "status": "ok",
     "timestamp": 1554213018086,
     "user": {
      "displayName": "Mohit Raj",
      "photoUrl": "https://lh4.googleusercontent.com/-THuQGyH-qf0/AAAAAAAAAAI/AAAAAAAAAKE/sT7jOYuqFyI/s64/photo.jpg",
      "userId": "17943522262909727589"
     },
     "user_tz": -330
    },
    "id": "6TLrTC4QOaJC",
    "outputId": "ed7a196f-ca4f-42a3-e9f9-980b3dcb77c5"
   },
   "outputs": [
    {
     "name": "stdout",
     "output_type": "stream",
     "text": [
      "<class 'pandas.core.frame.DataFrame'>\n",
      "RangeIndex: 891 entries, 0 to 890\n",
      "Data columns (total 12 columns):\n",
      "PassengerId    891 non-null int64\n",
      "Survived       891 non-null int64\n",
      "Pclass         891 non-null int64\n",
      "Name           891 non-null object\n",
      "Sex            891 non-null object\n",
      "Age            714 non-null float64\n",
      "SibSp          891 non-null int64\n",
      "Parch          891 non-null int64\n",
      "Ticket         891 non-null object\n",
      "Fare           891 non-null float64\n",
      "Cabin          204 non-null object\n",
      "Embarked       889 non-null object\n",
      "dtypes: float64(2), int64(5), object(5)\n",
      "memory usage: 83.6+ KB\n"
     ]
    }
   ],
   "source": [
    "df_train.info()"
   ]
  },
  {
   "cell_type": "code",
   "execution_count": 50,
   "metadata": {
    "colab": {
     "base_uri": "https://localhost:8080/",
     "height": 90
    },
    "colab_type": "code",
    "executionInfo": {
     "elapsed": 3250,
     "status": "ok",
     "timestamp": 1554213023860,
     "user": {
      "displayName": "Mohit Raj",
      "photoUrl": "https://lh4.googleusercontent.com/-THuQGyH-qf0/AAAAAAAAAAI/AAAAAAAAAKE/sT7jOYuqFyI/s64/photo.jpg",
      "userId": "17943522262909727589"
     },
     "user_tz": -330
    },
    "id": "tMDDy2QfOaJ4",
    "outputId": "4510c325-8696-46c7-b287-da545a03d27c"
   },
   "outputs": [
    {
     "data": {
      "text/plain": [
       "3    491\n",
       "1    216\n",
       "2    184\n",
       "Name: Pclass, dtype: int64"
      ]
     },
     "execution_count": 50,
     "metadata": {
      "tags": []
     },
     "output_type": "execute_result"
    }
   ],
   "source": [
    "# Checking for uniformity in each column.\n",
    "df_train.Pclass.value_counts()"
   ]
  },
  {
   "cell_type": "code",
   "execution_count": 51,
   "metadata": {
    "colab": {
     "base_uri": "https://localhost:8080/",
     "height": 72
    },
    "colab_type": "code",
    "executionInfo": {
     "elapsed": 4403,
     "status": "ok",
     "timestamp": 1554213046576,
     "user": {
      "displayName": "Mohit Raj",
      "photoUrl": "https://lh4.googleusercontent.com/-THuQGyH-qf0/AAAAAAAAAAI/AAAAAAAAAKE/sT7jOYuqFyI/s64/photo.jpg",
      "userId": "17943522262909727589"
     },
     "user_tz": -330
    },
    "id": "YiuVPQJiOaKH",
    "outputId": "e42caa11-e78a-4e9d-81e7-b2f978b7bd60"
   },
   "outputs": [
    {
     "data": {
      "text/plain": [
       "male      577\n",
       "female    314\n",
       "Name: Sex, dtype: int64"
      ]
     },
     "execution_count": 51,
     "metadata": {
      "tags": []
     },
     "output_type": "execute_result"
    }
   ],
   "source": [
    "df_train.Sex.value_counts()"
   ]
  },
  {
   "cell_type": "code",
   "execution_count": 52,
   "metadata": {
    "colab": {
     "base_uri": "https://localhost:8080/",
     "height": 35
    },
    "colab_type": "code",
    "executionInfo": {
     "elapsed": 3449,
     "status": "ok",
     "timestamp": 1554213051060,
     "user": {
      "displayName": "Mohit Raj",
      "photoUrl": "https://lh4.googleusercontent.com/-THuQGyH-qf0/AAAAAAAAAAI/AAAAAAAAAKE/sT7jOYuqFyI/s64/photo.jpg",
      "userId": "17943522262909727589"
     },
     "user_tz": -330
    },
    "id": "MkENfdhBOaKU",
    "outputId": "a1db1b45-6475-4711-80c7-878116f1b2d7"
   },
   "outputs": [
    {
     "data": {
      "text/plain": [
       "89"
      ]
     },
     "execution_count": 52,
     "metadata": {
      "tags": []
     },
     "output_type": "execute_result"
    }
   ],
   "source": [
    "len(df_train.Age.unique())"
   ]
  },
  {
   "cell_type": "code",
   "execution_count": 53,
   "metadata": {
    "colab": {
     "base_uri": "https://localhost:8080/",
     "height": 35
    },
    "colab_type": "code",
    "executionInfo": {
     "elapsed": 4174,
     "status": "ok",
     "timestamp": 1554213056182,
     "user": {
      "displayName": "Mohit Raj",
      "photoUrl": "https://lh4.googleusercontent.com/-THuQGyH-qf0/AAAAAAAAAAI/AAAAAAAAAKE/sT7jOYuqFyI/s64/photo.jpg",
      "userId": "17943522262909727589"
     },
     "user_tz": -330
    },
    "id": "C3oHx6AsOaK2",
    "outputId": "0e6aa999-2edd-4c2c-9dd8-e1c89ede2fd1"
   },
   "outputs": [
    {
     "data": {
      "text/plain": [
       "177"
      ]
     },
     "execution_count": 53,
     "metadata": {
      "tags": []
     },
     "output_type": "execute_result"
    }
   ],
   "source": [
    "df_train.Age.isnull().sum()"
   ]
  },
  {
   "cell_type": "code",
   "execution_count": 0,
   "metadata": {
    "colab": {},
    "colab_type": "code",
    "id": "QSMiKFQaOaLK"
   },
   "outputs": [],
   "source": [
    "# Filling the missing values in Age with 0 in a new column.\n",
    "df_train['Age_No_NA'] = df_train.Age.fillna(0)"
   ]
  },
  {
   "cell_type": "code",
   "execution_count": 55,
   "metadata": {
    "colab": {
     "base_uri": "https://localhost:8080/",
     "height": 164
    },
    "colab_type": "code",
    "executionInfo": {
     "elapsed": 4639,
     "status": "ok",
     "timestamp": 1554213066308,
     "user": {
      "displayName": "Mohit Raj",
      "photoUrl": "https://lh4.googleusercontent.com/-THuQGyH-qf0/AAAAAAAAAAI/AAAAAAAAAKE/sT7jOYuqFyI/s64/photo.jpg",
      "userId": "17943522262909727589"
     },
     "user_tz": -330
    },
    "id": "rBy8KT5hOaLS",
    "outputId": "1f4f682c-cf86-4ebe-a9cd-2734a4b1424a"
   },
   "outputs": [
    {
     "data": {
      "text/plain": [
       "0    608\n",
       "1    209\n",
       "2     28\n",
       "4     18\n",
       "3     16\n",
       "8      7\n",
       "5      5\n",
       "Name: SibSp, dtype: int64"
      ]
     },
     "execution_count": 55,
     "metadata": {
      "tags": []
     },
     "output_type": "execute_result"
    }
   ],
   "source": [
    "df_train.SibSp.value_counts()"
   ]
  },
  {
   "cell_type": "code",
   "execution_count": 56,
   "metadata": {
    "colab": {
     "base_uri": "https://localhost:8080/",
     "height": 164
    },
    "colab_type": "code",
    "executionInfo": {
     "elapsed": 5333,
     "status": "ok",
     "timestamp": 1554213072839,
     "user": {
      "displayName": "Mohit Raj",
      "photoUrl": "https://lh4.googleusercontent.com/-THuQGyH-qf0/AAAAAAAAAAI/AAAAAAAAAKE/sT7jOYuqFyI/s64/photo.jpg",
      "userId": "17943522262909727589"
     },
     "user_tz": -330
    },
    "id": "ZyWtc8TuOaLk",
    "outputId": "4677a014-31e9-449c-9b3f-d4373520202a"
   },
   "outputs": [
    {
     "data": {
      "text/plain": [
       "0    678\n",
       "1    118\n",
       "2     80\n",
       "5      5\n",
       "3      5\n",
       "4      4\n",
       "6      1\n",
       "Name: Parch, dtype: int64"
      ]
     },
     "execution_count": 56,
     "metadata": {
      "tags": []
     },
     "output_type": "execute_result"
    }
   ],
   "source": [
    "df_train.Parch.value_counts()"
   ]
  },
  {
   "cell_type": "code",
   "execution_count": 57,
   "metadata": {
    "colab": {
     "base_uri": "https://localhost:8080/",
     "height": 35
    },
    "colab_type": "code",
    "executionInfo": {
     "elapsed": 3725,
     "status": "ok",
     "timestamp": 1554213077621,
     "user": {
      "displayName": "Mohit Raj",
      "photoUrl": "https://lh4.googleusercontent.com/-THuQGyH-qf0/AAAAAAAAAAI/AAAAAAAAAKE/sT7jOYuqFyI/s64/photo.jpg",
      "userId": "17943522262909727589"
     },
     "user_tz": -330
    },
    "id": "JaWtzkJ9OaMU",
    "outputId": "2c8b2f7c-0de3-4912-a332-de61f3d36ce4"
   },
   "outputs": [
    {
     "data": {
      "text/plain": [
       "681"
      ]
     },
     "execution_count": 57,
     "metadata": {
      "tags": []
     },
     "output_type": "execute_result"
    }
   ],
   "source": [
    "len(df_train.Ticket.unique())"
   ]
  },
  {
   "cell_type": "code",
   "execution_count": 58,
   "metadata": {
    "colab": {
     "base_uri": "https://localhost:8080/",
     "height": 35
    },
    "colab_type": "code",
    "executionInfo": {
     "elapsed": 4141,
     "status": "ok",
     "timestamp": 1554213082768,
     "user": {
      "displayName": "Mohit Raj",
      "photoUrl": "https://lh4.googleusercontent.com/-THuQGyH-qf0/AAAAAAAAAAI/AAAAAAAAAKE/sT7jOYuqFyI/s64/photo.jpg",
      "userId": "17943522262909727589"
     },
     "user_tz": -330
    },
    "id": "1lWiiWyhOaNk",
    "outputId": "3d5cbc4e-faef-4c25-d51d-dffc012bac9b"
   },
   "outputs": [
    {
     "data": {
      "text/plain": [
       "248"
      ]
     },
     "execution_count": 58,
     "metadata": {
      "tags": []
     },
     "output_type": "execute_result"
    }
   ],
   "source": [
    "len(df_train.Fare.unique())"
   ]
  },
  {
   "cell_type": "code",
   "execution_count": 59,
   "metadata": {
    "colab": {
     "base_uri": "https://localhost:8080/",
     "height": 35
    },
    "colab_type": "code",
    "executionInfo": {
     "elapsed": 2526,
     "status": "ok",
     "timestamp": 1554213092654,
     "user": {
      "displayName": "Mohit Raj",
      "photoUrl": "https://lh4.googleusercontent.com/-THuQGyH-qf0/AAAAAAAAAAI/AAAAAAAAAKE/sT7jOYuqFyI/s64/photo.jpg",
      "userId": "17943522262909727589"
     },
     "user_tz": -330
    },
    "id": "J7M_IqNbOaN5",
    "outputId": "dc58f11b-e3d3-4d47-b35c-9ea40e9f43f6"
   },
   "outputs": [
    {
     "data": {
      "text/plain": [
       "148"
      ]
     },
     "execution_count": 59,
     "metadata": {
      "tags": []
     },
     "output_type": "execute_result"
    }
   ],
   "source": [
    "len(df_train.Cabin.unique())"
   ]
  },
  {
   "cell_type": "code",
   "execution_count": 60,
   "metadata": {
    "colab": {
     "base_uri": "https://localhost:8080/",
     "height": 35
    },
    "colab_type": "code",
    "executionInfo": {
     "elapsed": 1671,
     "status": "ok",
     "timestamp": 1554213095546,
     "user": {
      "displayName": "Mohit Raj",
      "photoUrl": "https://lh4.googleusercontent.com/-THuQGyH-qf0/AAAAAAAAAAI/AAAAAAAAAKE/sT7jOYuqFyI/s64/photo.jpg",
      "userId": "17943522262909727589"
     },
     "user_tz": -330
    },
    "id": "vJTGot16OaO6",
    "outputId": "a93b57f4-7e41-45c6-a979-d763fd4935a3"
   },
   "outputs": [
    {
     "data": {
      "text/plain": [
       "687"
      ]
     },
     "execution_count": 60,
     "metadata": {
      "tags": []
     },
     "output_type": "execute_result"
    }
   ],
   "source": [
    "df_train.Cabin.isnull().sum()"
   ]
  },
  {
   "cell_type": "code",
   "execution_count": 61,
   "metadata": {
    "colab": {
     "base_uri": "https://localhost:8080/",
     "height": 90
    },
    "colab_type": "code",
    "executionInfo": {
     "elapsed": 2754,
     "status": "ok",
     "timestamp": 1554213099054,
     "user": {
      "displayName": "Mohit Raj",
      "photoUrl": "https://lh4.googleusercontent.com/-THuQGyH-qf0/AAAAAAAAAAI/AAAAAAAAAKE/sT7jOYuqFyI/s64/photo.jpg",
      "userId": "17943522262909727589"
     },
     "user_tz": -330
    },
    "id": "cbaY1qQROaPE",
    "outputId": "952fc2f3-7fc7-48ff-f2cd-dd40011b2302"
   },
   "outputs": [
    {
     "data": {
      "text/plain": [
       "S    644\n",
       "C    168\n",
       "Q     77\n",
       "Name: Embarked, dtype: int64"
      ]
     },
     "execution_count": 61,
     "metadata": {
      "tags": []
     },
     "output_type": "execute_result"
    }
   ],
   "source": [
    "df_train.Embarked.value_counts()"
   ]
  },
  {
   "cell_type": "code",
   "execution_count": 62,
   "metadata": {
    "colab": {
     "base_uri": "https://localhost:8080/",
     "height": 35
    },
    "colab_type": "code",
    "executionInfo": {
     "elapsed": 4857,
     "status": "ok",
     "timestamp": 1554213104810,
     "user": {
      "displayName": "Mohit Raj",
      "photoUrl": "https://lh4.googleusercontent.com/-THuQGyH-qf0/AAAAAAAAAAI/AAAAAAAAAKE/sT7jOYuqFyI/s64/photo.jpg",
      "userId": "17943522262909727589"
     },
     "user_tz": -330
    },
    "id": "pcq-5kPKOaPb",
    "outputId": "5f1d24a7-1526-491a-fe1d-e784b7a7b0ae"
   },
   "outputs": [
    {
     "data": {
      "text/plain": [
       "2"
      ]
     },
     "execution_count": 62,
     "metadata": {
      "tags": []
     },
     "output_type": "execute_result"
    }
   ],
   "source": [
    "df_train.Embarked.isnull().sum()"
   ]
  },
  {
   "cell_type": "code",
   "execution_count": 0,
   "metadata": {
    "colab": {},
    "colab_type": "code",
    "id": "XgWJA1EBOaPq"
   },
   "outputs": [],
   "source": [
    "# Dropping the rows with NA value from Embarked column.\n",
    "df_train.drop(df_train[df_train.Embarked.isnull()].index, inplace=True)"
   ]
  },
  {
   "cell_type": "code",
   "execution_count": 64,
   "metadata": {
    "colab": {
     "base_uri": "https://localhost:8080/",
     "height": 90
    },
    "colab_type": "code",
    "executionInfo": {
     "elapsed": 5017,
     "status": "ok",
     "timestamp": 1554213114937,
     "user": {
      "displayName": "Mohit Raj",
      "photoUrl": "https://lh4.googleusercontent.com/-THuQGyH-qf0/AAAAAAAAAAI/AAAAAAAAAKE/sT7jOYuqFyI/s64/photo.jpg",
      "userId": "17943522262909727589"
     },
     "user_tz": -330
    },
    "id": "GDvNt1XkOaP2",
    "outputId": "20465547-1ac4-4dc4-9eb8-9a1f3a4cd9ab"
   },
   "outputs": [
    {
     "data": {
      "text/plain": [
       "1    174\n",
       "2     16\n",
       "3     12\n",
       "Name: Pclass, dtype: int64"
      ]
     },
     "execution_count": 64,
     "metadata": {
      "tags": []
     },
     "output_type": "execute_result"
    }
   ],
   "source": [
    "df_train[df_train.Cabin.notnull()].Pclass.value_counts()"
   ]
  },
  {
   "cell_type": "code",
   "execution_count": 65,
   "metadata": {
    "colab": {
     "base_uri": "https://localhost:8080/",
     "height": 72
    },
    "colab_type": "code",
    "executionInfo": {
     "elapsed": 4095,
     "status": "ok",
     "timestamp": 1554213120185,
     "user": {
      "displayName": "Mohit Raj",
      "photoUrl": "https://lh4.googleusercontent.com/-THuQGyH-qf0/AAAAAAAAAAI/AAAAAAAAAKE/sT7jOYuqFyI/s64/photo.jpg",
      "userId": "17943522262909727589"
     },
     "user_tz": -330
    },
    "id": "iRqQAzPGOaRK",
    "outputId": "0c863a52-c507-4864-9a6b-2ba168b462d2"
   },
   "outputs": [
    {
     "data": {
      "text/plain": [
       "0    549\n",
       "1    340\n",
       "Name: Survived, dtype: int64"
      ]
     },
     "execution_count": 65,
     "metadata": {
      "tags": []
     },
     "output_type": "execute_result"
    }
   ],
   "source": [
    "df_train.Survived.value_counts()"
   ]
  },
  {
   "cell_type": "code",
   "execution_count": 66,
   "metadata": {
    "colab": {
     "base_uri": "https://localhost:8080/",
     "height": 348
    },
    "colab_type": "code",
    "executionInfo": {
     "elapsed": 4092,
     "status": "ok",
     "timestamp": 1554213125298,
     "user": {
      "displayName": "Mohit Raj",
      "photoUrl": "https://lh4.googleusercontent.com/-THuQGyH-qf0/AAAAAAAAAAI/AAAAAAAAAKE/sT7jOYuqFyI/s64/photo.jpg",
      "userId": "17943522262909727589"
     },
     "user_tz": -330
    },
    "id": "WcBNXbRaOaRt",
    "outputId": "963b9eba-6532-4fdd-89f5-90d9c53a24c4"
   },
   "outputs": [
    {
     "name": "stdout",
     "output_type": "stream",
     "text": [
      "<class 'pandas.core.frame.DataFrame'>\n",
      "Int64Index: 889 entries, 0 to 890\n",
      "Data columns (total 13 columns):\n",
      "PassengerId    889 non-null int64\n",
      "Survived       889 non-null int64\n",
      "Pclass         889 non-null int64\n",
      "Name           889 non-null object\n",
      "Sex            889 non-null object\n",
      "Age            712 non-null float64\n",
      "SibSp          889 non-null int64\n",
      "Parch          889 non-null int64\n",
      "Ticket         889 non-null object\n",
      "Fare           889 non-null float64\n",
      "Cabin          202 non-null object\n",
      "Embarked       889 non-null object\n",
      "Age_No_NA      889 non-null float64\n",
      "dtypes: float64(3), int64(5), object(5)\n",
      "memory usage: 97.2+ KB\n"
     ]
    }
   ],
   "source": [
    "df_train.info()"
   ]
  },
  {
   "cell_type": "code",
   "execution_count": 0,
   "metadata": {
    "colab": {},
    "colab_type": "code",
    "id": "39qTAeoDOaSC"
   },
   "outputs": [],
   "source": []
  },
  {
   "cell_type": "markdown",
   "metadata": {
    "colab_type": "text",
    "id": "Bi05NN7fOaSH"
   },
   "source": [
    "## Preparing a Baseline Model"
   ]
  },
  {
   "cell_type": "code",
   "execution_count": 0,
   "metadata": {
    "colab": {},
    "colab_type": "code",
    "id": "yNi41SHBOaSL"
   },
   "outputs": [],
   "source": [
    "X = df_train.iloc[:, [2,4,6,7,9,11,12]].values"
   ]
  },
  {
   "cell_type": "code",
   "execution_count": 68,
   "metadata": {
    "colab": {
     "base_uri": "https://localhost:8080/",
     "height": 35
    },
    "colab_type": "code",
    "executionInfo": {
     "elapsed": 3162,
     "status": "ok",
     "timestamp": 1554213135604,
     "user": {
      "displayName": "Mohit Raj",
      "photoUrl": "https://lh4.googleusercontent.com/-THuQGyH-qf0/AAAAAAAAAAI/AAAAAAAAAKE/sT7jOYuqFyI/s64/photo.jpg",
      "userId": "17943522262909727589"
     },
     "user_tz": -330
    },
    "id": "gH9eOyGhOaSQ",
    "outputId": "8f371e1c-49d9-493c-b936-eabc6823411d"
   },
   "outputs": [
    {
     "data": {
      "text/plain": [
       "array([3, 'male', 1, 0, 7.25, 'S', 22.0], dtype=object)"
      ]
     },
     "execution_count": 68,
     "metadata": {
      "tags": []
     },
     "output_type": "execute_result"
    }
   ],
   "source": [
    "X[0]"
   ]
  },
  {
   "cell_type": "code",
   "execution_count": 0,
   "metadata": {
    "colab": {},
    "colab_type": "code",
    "id": "BfW10qwTOaSf"
   },
   "outputs": [],
   "source": [
    "y = df_train.iloc[:, 1].values"
   ]
  },
  {
   "cell_type": "code",
   "execution_count": 0,
   "metadata": {
    "colab": {},
    "colab_type": "code",
    "id": "Bu_9TpreOaSm"
   },
   "outputs": [],
   "source": [
    "# Label Encoding various features.\n",
    "labelencoder_sex = LabelEncoder()\n",
    "X[:, 1] = labelencoder_sex.fit_transform(X[:, 1])"
   ]
  },
  {
   "cell_type": "code",
   "execution_count": 0,
   "metadata": {
    "colab": {},
    "colab_type": "code",
    "id": "lpZb1FhvOaSs"
   },
   "outputs": [],
   "source": [
    "labelencoder_embarked = LabelEncoder()\n",
    "X[:, 5] = labelencoder_embarked.fit_transform(X[:, 5])"
   ]
  },
  {
   "cell_type": "code",
   "execution_count": 0,
   "metadata": {
    "colab": {},
    "colab_type": "code",
    "id": "Uvc-xtt6OaTH"
   },
   "outputs": [],
   "source": [
    "# Creating a baseline Random Forest Classifier.\n",
    "classifier = RandomForestClassifier(n_estimators=300, random_state=42, oob_score=True)"
   ]
  },
  {
   "cell_type": "code",
   "execution_count": 0,
   "metadata": {
    "colab": {},
    "colab_type": "code",
    "id": "zBeRAIY_OaTk"
   },
   "outputs": [],
   "source": [
    "# Performing K-fold Cross-validation.\n",
    "scores = cross_val_score(estimator=classifier, X=X, y=y, cv=5, scoring='accuracy')"
   ]
  },
  {
   "cell_type": "code",
   "execution_count": 75,
   "metadata": {
    "colab": {
     "base_uri": "https://localhost:8080/",
     "height": 35
    },
    "colab_type": "code",
    "executionInfo": {
     "elapsed": 2965,
     "status": "ok",
     "timestamp": 1554213185133,
     "user": {
      "displayName": "Mohit Raj",
      "photoUrl": "https://lh4.googleusercontent.com/-THuQGyH-qf0/AAAAAAAAAAI/AAAAAAAAAKE/sT7jOYuqFyI/s64/photo.jpg",
      "userId": "17943522262909727589"
     },
     "user_tz": -330
    },
    "id": "dm5e18d8OaUO",
    "outputId": "ea60f2be-40d9-4a5f-e704-15578a54a397"
   },
   "outputs": [
    {
     "data": {
      "text/plain": [
       "array([0.7809, 0.8034, 0.8483, 0.7697, 0.8249])"
      ]
     },
     "execution_count": 75,
     "metadata": {
      "tags": []
     },
     "output_type": "execute_result"
    }
   ],
   "source": [
    "scores"
   ]
  },
  {
   "cell_type": "code",
   "execution_count": 76,
   "metadata": {
    "colab": {
     "base_uri": "https://localhost:8080/",
     "height": 35
    },
    "colab_type": "code",
    "executionInfo": {
     "elapsed": 1974,
     "status": "ok",
     "timestamp": 1554213189953,
     "user": {
      "displayName": "Mohit Raj",
      "photoUrl": "https://lh4.googleusercontent.com/-THuQGyH-qf0/AAAAAAAAAAI/AAAAAAAAAKE/sT7jOYuqFyI/s64/photo.jpg",
      "userId": "17943522262909727589"
     },
     "user_tz": -330
    },
    "id": "Y6Jziyc7OaUU",
    "outputId": "066fea66-9e8d-49ab-afb1-128f792cda84"
   },
   "outputs": [
    {
     "data": {
      "text/plain": [
       "0.8054211896146766"
      ]
     },
     "execution_count": 76,
     "metadata": {
      "tags": []
     },
     "output_type": "execute_result"
    }
   ],
   "source": [
    "scores.mean()"
   ]
  },
  {
   "cell_type": "code",
   "execution_count": 77,
   "metadata": {
    "colab": {
     "base_uri": "https://localhost:8080/",
     "height": 35
    },
    "colab_type": "code",
    "executionInfo": {
     "elapsed": 1322,
     "status": "ok",
     "timestamp": 1554213194116,
     "user": {
      "displayName": "Mohit Raj",
      "photoUrl": "https://lh4.googleusercontent.com/-THuQGyH-qf0/AAAAAAAAAAI/AAAAAAAAAKE/sT7jOYuqFyI/s64/photo.jpg",
      "userId": "17943522262909727589"
     },
     "user_tz": -330
    },
    "id": "lGVgYKZOOaUg",
    "outputId": "ed6be155-2be3-40f2-991e-61df1201ae71"
   },
   "outputs": [
    {
     "data": {
      "text/plain": [
       "0.028642157769790434"
      ]
     },
     "execution_count": 77,
     "metadata": {
      "tags": []
     },
     "output_type": "execute_result"
    }
   ],
   "source": [
    "scores.std()"
   ]
  },
  {
   "cell_type": "code",
   "execution_count": 78,
   "metadata": {
    "colab": {
     "base_uri": "https://localhost:8080/",
     "height": 127
    },
    "colab_type": "code",
    "executionInfo": {
     "elapsed": 2840,
     "status": "ok",
     "timestamp": 1554213201780,
     "user": {
      "displayName": "Mohit Raj",
      "photoUrl": "https://lh4.googleusercontent.com/-THuQGyH-qf0/AAAAAAAAAAI/AAAAAAAAAKE/sT7jOYuqFyI/s64/photo.jpg",
      "userId": "17943522262909727589"
     },
     "user_tz": -330
    },
    "id": "GGKfG2fAOaUu",
    "outputId": "29733068-8b0f-44e1-a6b6-254b9cb6f9da"
   },
   "outputs": [
    {
     "data": {
      "text/plain": [
       "RandomForestClassifier(bootstrap=True, class_weight=None, criterion='gini',\n",
       "            max_depth=None, max_features='auto', max_leaf_nodes=None,\n",
       "            min_impurity_decrease=0.0, min_impurity_split=None,\n",
       "            min_samples_leaf=1, min_samples_split=2,\n",
       "            min_weight_fraction_leaf=0.0, n_estimators=300, n_jobs=None,\n",
       "            oob_score=True, random_state=42, verbose=0, warm_start=False)"
      ]
     },
     "execution_count": 78,
     "metadata": {
      "tags": []
     },
     "output_type": "execute_result"
    }
   ],
   "source": [
    "# Fitting the model on whole dataset, for more train samples.\n",
    "classifier.fit(X, y)"
   ]
  },
  {
   "cell_type": "code",
   "execution_count": 79,
   "metadata": {
    "colab": {
     "base_uri": "https://localhost:8080/",
     "height": 35
    },
    "colab_type": "code",
    "executionInfo": {
     "elapsed": 2074,
     "status": "ok",
     "timestamp": 1554213205050,
     "user": {
      "displayName": "Mohit Raj",
      "photoUrl": "https://lh4.googleusercontent.com/-THuQGyH-qf0/AAAAAAAAAAI/AAAAAAAAAKE/sT7jOYuqFyI/s64/photo.jpg",
      "userId": "17943522262909727589"
     },
     "user_tz": -330
    },
    "id": "XT5HksTLOaU9",
    "outputId": "f725bcd2-c925-4b01-cae0-f7bef1da5ef0"
   },
   "outputs": [
    {
     "data": {
      "text/plain": [
       "0.8076490438695163"
      ]
     },
     "execution_count": 79,
     "metadata": {
      "tags": []
     },
     "output_type": "execute_result"
    }
   ],
   "source": [
    "# Classifier's score on the samples which were not seen by the Random Forest algorithm.\n",
    "# oob_score works as a prediction on a validation or train set.\n",
    "classifier.oob_score_"
   ]
  },
  {
   "cell_type": "code",
   "execution_count": 0,
   "metadata": {
    "colab": {},
    "colab_type": "code",
    "id": "bR8KowR6OaVC"
   },
   "outputs": [],
   "source": []
  },
  {
   "cell_type": "markdown",
   "metadata": {
    "colab_type": "text",
    "id": "KDrPGBPTOaVF"
   },
   "source": [
    "## Creating an ANN"
   ]
  },
  {
   "cell_type": "code",
   "execution_count": 97,
   "metadata": {
    "colab": {
     "base_uri": "https://localhost:8080/",
     "height": 35
    },
    "colab_type": "code",
    "executionInfo": {
     "elapsed": 1770,
     "status": "ok",
     "timestamp": 1554214029072,
     "user": {
      "displayName": "Mohit Raj",
      "photoUrl": "https://lh4.googleusercontent.com/-THuQGyH-qf0/AAAAAAAAAAI/AAAAAAAAAKE/sT7jOYuqFyI/s64/photo.jpg",
      "userId": "17943522262909727589"
     },
     "user_tz": -330
    },
    "id": "1_coRPBhOaVH",
    "outputId": "2b2d4b92-417d-4a79-b094-aaae307b5e5a"
   },
   "outputs": [
    {
     "data": {
      "text/plain": [
       "array([3, 'male', 1, 0, 7.25, 'S', 22.0], dtype=object)"
      ]
     },
     "execution_count": 97,
     "metadata": {
      "tags": []
     },
     "output_type": "execute_result"
    }
   ],
   "source": [
    "X = df_train.iloc[:, [2,4,6,7,9,11,12]].values\n",
    "X[0]"
   ]
  },
  {
   "cell_type": "code",
   "execution_count": 0,
   "metadata": {
    "colab": {},
    "colab_type": "code",
    "id": "4My0MgA9OaVk"
   },
   "outputs": [],
   "source": [
    "y = df_train.iloc[:, 1].values"
   ]
  },
  {
   "cell_type": "code",
   "execution_count": 0,
   "metadata": {
    "colab": {},
    "colab_type": "code",
    "id": "8MUdXeqiOaWN"
   },
   "outputs": [],
   "source": [
    "labelencoder_sex = LabelEncoder()\n",
    "X[:, 1] = labelencoder_sex.fit_transform(X[:, 1])\n",
    "\n",
    "labelencoder_embarked = LabelEncoder()\n",
    "X[:, 5] = labelencoder_embarked.fit_transform(X[:, 5])"
   ]
  },
  {
   "cell_type": "code",
   "execution_count": 0,
   "metadata": {
    "colab": {},
    "colab_type": "code",
    "id": "myPhkZE1OaW0"
   },
   "outputs": [],
   "source": [
    "# One-Hot Encoding categorical features ie. Sex and Embarked.\n",
    "ohe = OneHotEncoder(categorical_features=[1,5])\n",
    "X = ohe.fit_transform(X).toarray()"
   ]
  },
  {
   "cell_type": "code",
   "execution_count": 0,
   "metadata": {
    "colab": {},
    "colab_type": "code",
    "id": "vk6oP4RPOaX6"
   },
   "outputs": [],
   "source": [
    "X = X[:, [1,3,4,5,6,7,8,9]]"
   ]
  },
  {
   "cell_type": "code",
   "execution_count": 0,
   "metadata": {
    "colab": {},
    "colab_type": "code",
    "id": "iPcDssB9OaX-"
   },
   "outputs": [],
   "source": [
    "# Normalizing all the features \n",
    "norm = MinMaxScaler()\n",
    "X = norm.fit_transform(X)"
   ]
  },
  {
   "cell_type": "code",
   "execution_count": 0,
   "metadata": {
    "colab": {},
    "colab_type": "code",
    "id": "kamFTZx-OaYL"
   },
   "outputs": [],
   "source": [
    "# Building the ANN Model\n",
    "model = Sequential()\n",
    "model.add(Dense(16, activation='relu', input_shape=(8,)))\n",
    "model.add(Dropout(0.5))\n",
    "model.add(Dense(16, activation='relu'))\n",
    "model.add(Dropout(0.5))\n",
    "model.add(Dense(1, activation='sigmoid'))       "
   ]
  },
  {
   "cell_type": "code",
   "execution_count": 106,
   "metadata": {
    "colab": {
     "base_uri": "https://localhost:8080/",
     "height": 329
    },
    "colab_type": "code",
    "executionInfo": {
     "elapsed": 3003,
     "status": "ok",
     "timestamp": 1554214284840,
     "user": {
      "displayName": "Mohit Raj",
      "photoUrl": "https://lh4.googleusercontent.com/-THuQGyH-qf0/AAAAAAAAAAI/AAAAAAAAAKE/sT7jOYuqFyI/s64/photo.jpg",
      "userId": "17943522262909727589"
     },
     "user_tz": -330
    },
    "id": "ybzi_qcLY1-_",
    "outputId": "51352f8a-51b2-4269-9bfd-d00336144b17"
   },
   "outputs": [
    {
     "name": "stdout",
     "output_type": "stream",
     "text": [
      "_________________________________________________________________\n",
      "Layer (type)                 Output Shape              Param #   \n",
      "=================================================================\n",
      "dense_1 (Dense)              (None, 16)                144       \n",
      "_________________________________________________________________\n",
      "dropout_1 (Dropout)          (None, 16)                0         \n",
      "_________________________________________________________________\n",
      "dense_2 (Dense)              (None, 16)                272       \n",
      "_________________________________________________________________\n",
      "dropout_2 (Dropout)          (None, 16)                0         \n",
      "_________________________________________________________________\n",
      "dense_3 (Dense)              (None, 1)                 17        \n",
      "=================================================================\n",
      "Total params: 433\n",
      "Trainable params: 433\n",
      "Non-trainable params: 0\n",
      "_________________________________________________________________\n"
     ]
    }
   ],
   "source": [
    "model.summary()"
   ]
  },
  {
   "cell_type": "code",
   "execution_count": 0,
   "metadata": {
    "colab": {},
    "colab_type": "code",
    "id": "R8EV0PJsYwe2"
   },
   "outputs": [],
   "source": [
    "# Compiling the model\n",
    "model.compile(optimizer='adam', loss='binary_crossentropy', metrics=['acc'])"
   ]
  },
  {
   "cell_type": "code",
   "execution_count": 110,
   "metadata": {
    "colab": {
     "base_uri": "https://localhost:8080/",
     "height": 3729
    },
    "colab_type": "code",
    "executionInfo": {
     "elapsed": 16535,
     "status": "ok",
     "timestamp": 1554214848990,
     "user": {
      "displayName": "Mohit Raj",
      "photoUrl": "https://lh4.googleusercontent.com/-THuQGyH-qf0/AAAAAAAAAAI/AAAAAAAAAKE/sT7jOYuqFyI/s64/photo.jpg",
      "userId": "17943522262909727589"
     },
     "user_tz": -330
    },
    "id": "pHesA82EYwbA",
    "outputId": "2fc69899-0571-4fa5-f4d6-ca1b7ec78510"
   },
   "outputs": [
    {
     "name": "stdout",
     "output_type": "stream",
     "text": [
      "Train on 711 samples, validate on 178 samples\n",
      "Epoch 1/100\n",
      "711/711 [==============================] - 0s 195us/step - loss: 0.5069 - acc: 0.7862 - val_loss: 0.4150 - val_acc: 0.8371\n",
      "Epoch 2/100\n",
      "711/711 [==============================] - 0s 185us/step - loss: 0.4941 - acc: 0.7862 - val_loss: 0.4165 - val_acc: 0.8315\n",
      "Epoch 3/100\n",
      "711/711 [==============================] - 0s 189us/step - loss: 0.4877 - acc: 0.7932 - val_loss: 0.4143 - val_acc: 0.8315\n",
      "Epoch 4/100\n",
      "711/711 [==============================] - 0s 200us/step - loss: 0.4892 - acc: 0.7792 - val_loss: 0.4115 - val_acc: 0.8371\n",
      "Epoch 5/100\n",
      "711/711 [==============================] - 0s 188us/step - loss: 0.5014 - acc: 0.7876 - val_loss: 0.4120 - val_acc: 0.8315\n",
      "Epoch 6/100\n",
      "711/711 [==============================] - 0s 170us/step - loss: 0.4849 - acc: 0.7904 - val_loss: 0.4137 - val_acc: 0.8315\n",
      "Epoch 7/100\n",
      "711/711 [==============================] - 0s 192us/step - loss: 0.5085 - acc: 0.7989 - val_loss: 0.4142 - val_acc: 0.8371\n",
      "Epoch 8/100\n",
      "711/711 [==============================] - 0s 200us/step - loss: 0.4781 - acc: 0.7975 - val_loss: 0.4152 - val_acc: 0.8371\n",
      "Epoch 9/100\n",
      "711/711 [==============================] - 0s 201us/step - loss: 0.4901 - acc: 0.7890 - val_loss: 0.4136 - val_acc: 0.8258\n",
      "Epoch 10/100\n",
      "711/711 [==============================] - 0s 188us/step - loss: 0.4826 - acc: 0.7848 - val_loss: 0.4116 - val_acc: 0.8315\n",
      "Epoch 11/100\n",
      "711/711 [==============================] - 0s 176us/step - loss: 0.4916 - acc: 0.7848 - val_loss: 0.4111 - val_acc: 0.8315\n",
      "Epoch 12/100\n",
      "711/711 [==============================] - 0s 183us/step - loss: 0.4744 - acc: 0.7876 - val_loss: 0.4119 - val_acc: 0.8371\n",
      "Epoch 13/100\n",
      "711/711 [==============================] - 0s 198us/step - loss: 0.4855 - acc: 0.8045 - val_loss: 0.4107 - val_acc: 0.8371\n",
      "Epoch 14/100\n",
      "711/711 [==============================] - 0s 182us/step - loss: 0.5042 - acc: 0.7918 - val_loss: 0.4107 - val_acc: 0.8315\n",
      "Epoch 15/100\n",
      "711/711 [==============================] - 0s 187us/step - loss: 0.4813 - acc: 0.7848 - val_loss: 0.4119 - val_acc: 0.8258\n",
      "Epoch 16/100\n",
      "711/711 [==============================] - 0s 200us/step - loss: 0.4714 - acc: 0.7862 - val_loss: 0.4099 - val_acc: 0.8315\n",
      "Epoch 17/100\n",
      "711/711 [==============================] - 0s 169us/step - loss: 0.4898 - acc: 0.7862 - val_loss: 0.4095 - val_acc: 0.8315\n",
      "Epoch 18/100\n",
      "711/711 [==============================] - 0s 171us/step - loss: 0.5066 - acc: 0.7862 - val_loss: 0.4104 - val_acc: 0.8315\n",
      "Epoch 19/100\n",
      "711/711 [==============================] - 0s 191us/step - loss: 0.4947 - acc: 0.7876 - val_loss: 0.4118 - val_acc: 0.8258\n",
      "Epoch 20/100\n",
      "711/711 [==============================] - 0s 178us/step - loss: 0.4981 - acc: 0.7750 - val_loss: 0.4128 - val_acc: 0.8258\n",
      "Epoch 21/100\n",
      "711/711 [==============================] - 0s 191us/step - loss: 0.4809 - acc: 0.7848 - val_loss: 0.4118 - val_acc: 0.8258\n",
      "Epoch 22/100\n",
      "711/711 [==============================] - 0s 186us/step - loss: 0.5020 - acc: 0.7961 - val_loss: 0.4123 - val_acc: 0.8427\n",
      "Epoch 23/100\n",
      "711/711 [==============================] - 0s 183us/step - loss: 0.4919 - acc: 0.7904 - val_loss: 0.4127 - val_acc: 0.8427\n",
      "Epoch 24/100\n",
      "711/711 [==============================] - 0s 216us/step - loss: 0.4879 - acc: 0.7890 - val_loss: 0.4113 - val_acc: 0.8258\n",
      "Epoch 25/100\n",
      "711/711 [==============================] - 0s 188us/step - loss: 0.5092 - acc: 0.7862 - val_loss: 0.4134 - val_acc: 0.8258\n",
      "Epoch 26/100\n",
      "711/711 [==============================] - 0s 185us/step - loss: 0.4939 - acc: 0.7989 - val_loss: 0.4131 - val_acc: 0.8258\n",
      "Epoch 27/100\n",
      "711/711 [==============================] - 0s 183us/step - loss: 0.5045 - acc: 0.7750 - val_loss: 0.4133 - val_acc: 0.8258\n",
      "Epoch 28/100\n",
      "711/711 [==============================] - 0s 182us/step - loss: 0.4849 - acc: 0.7961 - val_loss: 0.4124 - val_acc: 0.8315\n",
      "Epoch 29/100\n",
      "711/711 [==============================] - 0s 183us/step - loss: 0.4880 - acc: 0.7918 - val_loss: 0.4116 - val_acc: 0.8371\n",
      "Epoch 30/100\n",
      "711/711 [==============================] - 0s 171us/step - loss: 0.4923 - acc: 0.7975 - val_loss: 0.4096 - val_acc: 0.8258\n",
      "Epoch 31/100\n",
      "711/711 [==============================] - 0s 190us/step - loss: 0.4880 - acc: 0.8059 - val_loss: 0.4107 - val_acc: 0.8258\n",
      "Epoch 32/100\n",
      "711/711 [==============================] - 0s 205us/step - loss: 0.4935 - acc: 0.7820 - val_loss: 0.4102 - val_acc: 0.8258\n",
      "Epoch 33/100\n",
      "711/711 [==============================] - 0s 171us/step - loss: 0.4998 - acc: 0.7904 - val_loss: 0.4105 - val_acc: 0.8258\n",
      "Epoch 34/100\n",
      "711/711 [==============================] - 0s 190us/step - loss: 0.5046 - acc: 0.7778 - val_loss: 0.4129 - val_acc: 0.8371\n",
      "Epoch 35/100\n",
      "711/711 [==============================] - 0s 181us/step - loss: 0.4652 - acc: 0.7975 - val_loss: 0.4112 - val_acc: 0.8371\n",
      "Epoch 36/100\n",
      "711/711 [==============================] - 0s 194us/step - loss: 0.4848 - acc: 0.7918 - val_loss: 0.4100 - val_acc: 0.8427\n",
      "Epoch 37/100\n",
      "711/711 [==============================] - 0s 183us/step - loss: 0.4686 - acc: 0.7947 - val_loss: 0.4066 - val_acc: 0.8371\n",
      "Epoch 38/100\n",
      "711/711 [==============================] - 0s 199us/step - loss: 0.4733 - acc: 0.8003 - val_loss: 0.4063 - val_acc: 0.8371\n",
      "Epoch 39/100\n",
      "711/711 [==============================] - 0s 216us/step - loss: 0.4699 - acc: 0.7961 - val_loss: 0.4060 - val_acc: 0.8371\n",
      "Epoch 40/100\n",
      "711/711 [==============================] - 0s 189us/step - loss: 0.4835 - acc: 0.7932 - val_loss: 0.4063 - val_acc: 0.8371\n",
      "Epoch 41/100\n",
      "711/711 [==============================] - 0s 169us/step - loss: 0.4818 - acc: 0.7918 - val_loss: 0.4069 - val_acc: 0.8371\n",
      "Epoch 42/100\n",
      "711/711 [==============================] - 0s 171us/step - loss: 0.4865 - acc: 0.7834 - val_loss: 0.4057 - val_acc: 0.8315\n",
      "Epoch 43/100\n",
      "711/711 [==============================] - 0s 185us/step - loss: 0.5097 - acc: 0.7904 - val_loss: 0.4081 - val_acc: 0.8371\n",
      "Epoch 44/100\n",
      "711/711 [==============================] - 0s 167us/step - loss: 0.4753 - acc: 0.7904 - val_loss: 0.4081 - val_acc: 0.8371\n",
      "Epoch 45/100\n",
      "711/711 [==============================] - 0s 173us/step - loss: 0.4865 - acc: 0.7904 - val_loss: 0.4069 - val_acc: 0.8371\n",
      "Epoch 46/100\n",
      "711/711 [==============================] - 0s 167us/step - loss: 0.4878 - acc: 0.7932 - val_loss: 0.4082 - val_acc: 0.8371\n",
      "Epoch 47/100\n",
      "711/711 [==============================] - 0s 196us/step - loss: 0.5108 - acc: 0.7834 - val_loss: 0.4094 - val_acc: 0.8315\n",
      "Epoch 48/100\n",
      "711/711 [==============================] - 0s 182us/step - loss: 0.4722 - acc: 0.7918 - val_loss: 0.4073 - val_acc: 0.8371\n",
      "Epoch 49/100\n",
      "711/711 [==============================] - 0s 172us/step - loss: 0.4763 - acc: 0.7932 - val_loss: 0.4066 - val_acc: 0.8371\n",
      "Epoch 50/100\n",
      "711/711 [==============================] - 0s 174us/step - loss: 0.4787 - acc: 0.7975 - val_loss: 0.4056 - val_acc: 0.8371\n",
      "Epoch 51/100\n",
      "711/711 [==============================] - 0s 195us/step - loss: 0.4905 - acc: 0.7876 - val_loss: 0.4070 - val_acc: 0.8371\n",
      "Epoch 52/100\n",
      "711/711 [==============================] - 0s 172us/step - loss: 0.4784 - acc: 0.7989 - val_loss: 0.4056 - val_acc: 0.8371\n",
      "Epoch 53/100\n",
      "711/711 [==============================] - 0s 170us/step - loss: 0.4799 - acc: 0.7918 - val_loss: 0.4045 - val_acc: 0.8371\n",
      "Epoch 54/100\n",
      "711/711 [==============================] - 0s 172us/step - loss: 0.4871 - acc: 0.7904 - val_loss: 0.4064 - val_acc: 0.8371\n",
      "Epoch 55/100\n",
      "711/711 [==============================] - 0s 201us/step - loss: 0.4891 - acc: 0.7820 - val_loss: 0.4081 - val_acc: 0.8371\n",
      "Epoch 56/100\n",
      "711/711 [==============================] - 0s 169us/step - loss: 0.4882 - acc: 0.7848 - val_loss: 0.4075 - val_acc: 0.8371\n",
      "Epoch 57/100\n",
      "711/711 [==============================] - 0s 170us/step - loss: 0.4900 - acc: 0.7848 - val_loss: 0.4062 - val_acc: 0.8371\n",
      "Epoch 58/100\n",
      "711/711 [==============================] - 0s 185us/step - loss: 0.4861 - acc: 0.7904 - val_loss: 0.4059 - val_acc: 0.8371\n",
      "Epoch 59/100\n",
      "711/711 [==============================] - 0s 171us/step - loss: 0.4935 - acc: 0.7876 - val_loss: 0.4052 - val_acc: 0.8371\n",
      "Epoch 60/100\n",
      "711/711 [==============================] - 0s 179us/step - loss: 0.4753 - acc: 0.7932 - val_loss: 0.4027 - val_acc: 0.8371\n",
      "Epoch 61/100\n",
      "711/711 [==============================] - 0s 176us/step - loss: 0.4966 - acc: 0.7862 - val_loss: 0.4040 - val_acc: 0.8371\n",
      "Epoch 62/100\n",
      "711/711 [==============================] - 0s 172us/step - loss: 0.4780 - acc: 0.8003 - val_loss: 0.4038 - val_acc: 0.8371\n",
      "Epoch 63/100\n",
      "711/711 [==============================] - 0s 209us/step - loss: 0.4699 - acc: 0.8017 - val_loss: 0.4044 - val_acc: 0.8371\n",
      "Epoch 64/100\n",
      "711/711 [==============================] - 0s 167us/step - loss: 0.4739 - acc: 0.8045 - val_loss: 0.4038 - val_acc: 0.8371\n",
      "Epoch 65/100\n",
      "711/711 [==============================] - 0s 192us/step - loss: 0.4772 - acc: 0.8045 - val_loss: 0.4035 - val_acc: 0.8315\n",
      "Epoch 66/100\n",
      "711/711 [==============================] - 0s 195us/step - loss: 0.4737 - acc: 0.8017 - val_loss: 0.4017 - val_acc: 0.8371\n",
      "Epoch 67/100\n",
      "711/711 [==============================] - 0s 184us/step - loss: 0.4775 - acc: 0.8045 - val_loss: 0.4029 - val_acc: 0.8371\n",
      "Epoch 68/100\n",
      "711/711 [==============================] - 0s 169us/step - loss: 0.4852 - acc: 0.7989 - val_loss: 0.4040 - val_acc: 0.8371\n",
      "Epoch 69/100\n",
      "711/711 [==============================] - 0s 172us/step - loss: 0.4872 - acc: 0.7862 - val_loss: 0.4028 - val_acc: 0.8371\n",
      "Epoch 70/100\n",
      "711/711 [==============================] - 0s 168us/step - loss: 0.4643 - acc: 0.7890 - val_loss: 0.4021 - val_acc: 0.8371\n",
      "Epoch 71/100\n",
      "711/711 [==============================] - 0s 198us/step - loss: 0.4660 - acc: 0.7904 - val_loss: 0.4011 - val_acc: 0.8371\n",
      "Epoch 72/100\n",
      "711/711 [==============================] - 0s 171us/step - loss: 0.4798 - acc: 0.8003 - val_loss: 0.4007 - val_acc: 0.8371\n",
      "Epoch 73/100\n",
      "711/711 [==============================] - 0s 175us/step - loss: 0.4825 - acc: 0.7918 - val_loss: 0.4022 - val_acc: 0.8371\n",
      "Epoch 74/100\n",
      "711/711 [==============================] - 0s 185us/step - loss: 0.4721 - acc: 0.8059 - val_loss: 0.4026 - val_acc: 0.8371\n",
      "Epoch 75/100\n",
      "711/711 [==============================] - 0s 173us/step - loss: 0.4690 - acc: 0.7932 - val_loss: 0.4018 - val_acc: 0.8371\n",
      "Epoch 76/100\n",
      "711/711 [==============================] - 0s 182us/step - loss: 0.4914 - acc: 0.8045 - val_loss: 0.4039 - val_acc: 0.8371\n",
      "Epoch 77/100\n",
      "711/711 [==============================] - 0s 172us/step - loss: 0.4895 - acc: 0.7947 - val_loss: 0.4036 - val_acc: 0.8371\n",
      "Epoch 78/100\n",
      "711/711 [==============================] - 0s 188us/step - loss: 0.4695 - acc: 0.8059 - val_loss: 0.4004 - val_acc: 0.8315\n",
      "Epoch 79/100\n",
      "711/711 [==============================] - 0s 202us/step - loss: 0.4805 - acc: 0.7876 - val_loss: 0.4000 - val_acc: 0.8371\n",
      "Epoch 80/100\n",
      "711/711 [==============================] - 0s 168us/step - loss: 0.4770 - acc: 0.8031 - val_loss: 0.4031 - val_acc: 0.8315\n",
      "Epoch 81/100\n",
      "711/711 [==============================] - 0s 167us/step - loss: 0.4723 - acc: 0.7862 - val_loss: 0.4017 - val_acc: 0.8315\n",
      "Epoch 82/100\n",
      "711/711 [==============================] - 0s 170us/step - loss: 0.4690 - acc: 0.7806 - val_loss: 0.3986 - val_acc: 0.8371\n",
      "Epoch 83/100\n",
      "711/711 [==============================] - 0s 185us/step - loss: 0.4875 - acc: 0.7890 - val_loss: 0.3985 - val_acc: 0.8371\n",
      "Epoch 84/100\n",
      "711/711 [==============================] - 0s 170us/step - loss: 0.4852 - acc: 0.7862 - val_loss: 0.3989 - val_acc: 0.8371\n",
      "Epoch 85/100\n",
      "711/711 [==============================] - 0s 194us/step - loss: 0.4787 - acc: 0.7792 - val_loss: 0.4002 - val_acc: 0.8371\n",
      "Epoch 86/100\n",
      "711/711 [==============================] - 0s 174us/step - loss: 0.4804 - acc: 0.7890 - val_loss: 0.3989 - val_acc: 0.8371\n",
      "Epoch 87/100\n",
      "711/711 [==============================] - 0s 202us/step - loss: 0.4656 - acc: 0.8031 - val_loss: 0.4001 - val_acc: 0.8371\n",
      "Epoch 88/100\n",
      "711/711 [==============================] - 0s 172us/step - loss: 0.4773 - acc: 0.7820 - val_loss: 0.3989 - val_acc: 0.8315\n",
      "Epoch 89/100\n",
      "711/711 [==============================] - 0s 187us/step - loss: 0.4937 - acc: 0.7989 - val_loss: 0.4015 - val_acc: 0.8371\n",
      "Epoch 90/100\n",
      "711/711 [==============================] - 0s 189us/step - loss: 0.4769 - acc: 0.8017 - val_loss: 0.4027 - val_acc: 0.8315\n",
      "Epoch 91/100\n",
      "711/711 [==============================] - 0s 166us/step - loss: 0.4676 - acc: 0.7947 - val_loss: 0.4005 - val_acc: 0.8371\n",
      "Epoch 92/100\n",
      "711/711 [==============================] - 0s 179us/step - loss: 0.4691 - acc: 0.7932 - val_loss: 0.3993 - val_acc: 0.8371\n",
      "Epoch 93/100\n",
      "711/711 [==============================] - 0s 169us/step - loss: 0.4861 - acc: 0.7904 - val_loss: 0.3987 - val_acc: 0.8315\n",
      "Epoch 94/100\n",
      "711/711 [==============================] - 0s 185us/step - loss: 0.4804 - acc: 0.8031 - val_loss: 0.4006 - val_acc: 0.8315\n",
      "Epoch 95/100\n",
      "711/711 [==============================] - 0s 216us/step - loss: 0.4845 - acc: 0.7961 - val_loss: 0.3993 - val_acc: 0.8315\n",
      "Epoch 96/100\n",
      "711/711 [==============================] - 0s 172us/step - loss: 0.4513 - acc: 0.8045 - val_loss: 0.3963 - val_acc: 0.8315\n",
      "Epoch 97/100\n",
      "711/711 [==============================] - 0s 173us/step - loss: 0.4795 - acc: 0.7989 - val_loss: 0.3951 - val_acc: 0.8371\n",
      "Epoch 98/100\n",
      "711/711 [==============================] - 0s 171us/step - loss: 0.4824 - acc: 0.7961 - val_loss: 0.3951 - val_acc: 0.8371\n",
      "Epoch 99/100\n",
      "711/711 [==============================] - 0s 173us/step - loss: 0.4918 - acc: 0.7932 - val_loss: 0.3974 - val_acc: 0.8371\n",
      "Epoch 100/100\n",
      "711/711 [==============================] - 0s 170us/step - loss: 0.4725 - acc: 0.8003 - val_loss: 0.3964 - val_acc: 0.8371\n"
     ]
    }
   ],
   "source": [
    "# Fitting the train set to the model\n",
    "history = model.fit(X, y, epochs=100, batch_size=32, validation_split=0.2)"
   ]
  },
  {
   "cell_type": "code",
   "execution_count": 113,
   "metadata": {
    "colab": {
     "base_uri": "https://localhost:8080/",
     "height": 707
    },
    "colab_type": "code",
    "executionInfo": {
     "elapsed": 4524,
     "status": "ok",
     "timestamp": 1554215157151,
     "user": {
      "displayName": "Mohit Raj",
      "photoUrl": "https://lh4.googleusercontent.com/-THuQGyH-qf0/AAAAAAAAAAI/AAAAAAAAAKE/sT7jOYuqFyI/s64/photo.jpg",
      "userId": "17943522262909727589"
     },
     "user_tz": -330
    },
    "id": "yefWBrR7YwS7",
    "outputId": "34aca0c0-b7d5-4da7-c76d-412d0009f483"
   },
   "outputs": [
    {
     "data": {
      "image/png": "[encoded data removed]",
      "text/plain": [
       "<Figure size 576x396 with 1 Axes>"
      ]
     },
     "metadata": {
      "tags": []
     },
     "output_type": "display_data"
    },
    {
     "data": {
      "image/png": "[encoded data removed]",
      "text/plain": [
       "<Figure size 576x396 with 1 Axes>"
      ]
     },
     "metadata": {
      "tags": []
     },
     "output_type": "display_data"
    }
   ],
   "source": [
    "# Plotting training and validation accuracy and loss against epochs.\n",
    "acc = history.history['acc']\n",
    "val_acc = history.history['val_acc']\n",
    "loss = history.history['loss']\n",
    "val_loss = history.history['val_loss']\n",
    "epochs = range(1, len(acc) + 1)\n",
    "plt.plot(epochs, acc, 'r', label='Training acc')\n",
    "plt.plot(epochs, val_acc, 'b', label='Validation acc')\n",
    "plt.title('Training and validation accuracy')\n",
    "plt.legend()\n",
    "plt.figure()\n",
    "plt.plot(epochs, loss, 'r', label='Training loss')\n",
    "plt.plot(epochs, val_loss, 'b', label='Validation loss')\n",
    "plt.title('Training and validation loss')\n",
    "plt.legend()\n",
    "plt.show()"
   ]
  },
  {
   "cell_type": "markdown",
   "metadata": {},
   "source": [
    "## Improving the performance of the ANN model"
   ]
  },
  {
   "cell_type": "code",
   "execution_count": 0,
   "metadata": {
    "colab": {},
    "colab_type": "code",
    "id": "AO_JNKkLbMjh"
   },
   "outputs": [],
   "source": [
    "# Making modifications to the model. Adding a new layer\n",
    "model = Sequential()\n",
    "model.add(Dense(16, activation='relu', input_shape=(8,)))\n",
    "model.add(Dropout(0.5))\n",
    "model.add(Dense(16, activation='relu'))\n",
    "model.add(Dropout(0.5))\n",
    "model.add(Dense(16, activation='relu'))\n",
    "model.add(Dropout(0.5))\n",
    "model.add(Dense(1, activation='sigmoid'))"
   ]
  },
  {
   "cell_type": "code",
   "execution_count": 119,
   "metadata": {
    "colab": {
     "base_uri": "https://localhost:8080/",
     "height": 403
    },
    "colab_type": "code",
    "executionInfo": {
     "elapsed": 3047,
     "status": "ok",
     "timestamp": 1554215539226,
     "user": {
      "displayName": "Mohit Raj",
      "photoUrl": "https://lh4.googleusercontent.com/-THuQGyH-qf0/AAAAAAAAAAI/AAAAAAAAAKE/sT7jOYuqFyI/s64/photo.jpg",
      "userId": "17943522262909727589"
     },
     "user_tz": -330
    },
    "id": "eENKoxH3bMgL",
    "outputId": "80b5963b-5c87-4832-a8af-01e33aeafbd4"
   },
   "outputs": [
    {
     "name": "stdout",
     "output_type": "stream",
     "text": [
      "_________________________________________________________________\n",
      "Layer (type)                 Output Shape              Param #   \n",
      "=================================================================\n",
      "dense_7 (Dense)              (None, 16)                144       \n",
      "_________________________________________________________________\n",
      "dropout_5 (Dropout)          (None, 16)                0         \n",
      "_________________________________________________________________\n",
      "dense_8 (Dense)              (None, 16)                272       \n",
      "_________________________________________________________________\n",
      "dropout_6 (Dropout)          (None, 16)                0         \n",
      "_________________________________________________________________\n",
      "dense_9 (Dense)              (None, 16)                272       \n",
      "_________________________________________________________________\n",
      "dropout_7 (Dropout)          (None, 16)                0         \n",
      "_________________________________________________________________\n",
      "dense_10 (Dense)             (None, 1)                 17        \n",
      "=================================================================\n",
      "Total params: 705\n",
      "Trainable params: 705\n",
      "Non-trainable params: 0\n",
      "_________________________________________________________________\n"
     ]
    }
   ],
   "source": [
    "model.summary()"
   ]
  },
  {
   "cell_type": "code",
   "execution_count": 0,
   "metadata": {
    "colab": {},
    "colab_type": "code",
    "id": "0hlVAOuJcz_L"
   },
   "outputs": [],
   "source": [
    "# Compiling the model\n",
    "model.compile(optimizer='adam', loss='binary_crossentropy', metrics=['acc'])"
   ]
  },
  {
   "cell_type": "code",
   "execution_count": 121,
   "metadata": {
    "colab": {
     "base_uri": "https://localhost:8080/",
     "height": 3729
    },
    "colab_type": "code",
    "executionInfo": {
     "elapsed": 21016,
     "status": "ok",
     "timestamp": 1554215585989,
     "user": {
      "displayName": "Mohit Raj",
      "photoUrl": "https://lh4.googleusercontent.com/-THuQGyH-qf0/AAAAAAAAAAI/AAAAAAAAAKE/sT7jOYuqFyI/s64/photo.jpg",
      "userId": "17943522262909727589"
     },
     "user_tz": -330
    },
    "id": "CD50GRGocz_x",
    "outputId": "2b6b3ada-ca80-41c7-f3bc-cc6c8559530c"
   },
   "outputs": [
    {
     "name": "stdout",
     "output_type": "stream",
     "text": [
      "Train on 711 samples, validate on 178 samples\n",
      "Epoch 1/100\n",
      "711/711 [==============================] - 1s 874us/step - loss: 0.7348 - acc: 0.4754 - val_loss: 0.6813 - val_acc: 0.6461\n",
      "Epoch 2/100\n",
      "711/711 [==============================] - 0s 201us/step - loss: 0.6948 - acc: 0.5331 - val_loss: 0.6628 - val_acc: 0.6124\n",
      "Epoch 3/100\n",
      "711/711 [==============================] - 0s 185us/step - loss: 0.6890 - acc: 0.5570 - val_loss: 0.6516 - val_acc: 0.6461\n",
      "Epoch 4/100\n",
      "711/711 [==============================] - 0s 185us/step - loss: 0.6854 - acc: 0.5612 - val_loss: 0.6435 - val_acc: 0.6461\n",
      "Epoch 5/100\n",
      "711/711 [==============================] - 0s 187us/step - loss: 0.6784 - acc: 0.5767 - val_loss: 0.6399 - val_acc: 0.6461\n",
      "Epoch 6/100\n",
      "711/711 [==============================] - 0s 190us/step - loss: 0.6712 - acc: 0.5907 - val_loss: 0.6366 - val_acc: 0.6461\n",
      "Epoch 7/100\n",
      "711/711 [==============================] - 0s 187us/step - loss: 0.6648 - acc: 0.5837 - val_loss: 0.6347 - val_acc: 0.6461\n",
      "Epoch 8/100\n",
      "711/711 [==============================] - 0s 191us/step - loss: 0.6633 - acc: 0.5823 - val_loss: 0.6300 - val_acc: 0.6461\n",
      "Epoch 9/100\n",
      "711/711 [==============================] - 0s 207us/step - loss: 0.6671 - acc: 0.6020 - val_loss: 0.6284 - val_acc: 0.6461\n",
      "Epoch 10/100\n",
      "711/711 [==============================] - 0s 224us/step - loss: 0.6571 - acc: 0.6160 - val_loss: 0.6246 - val_acc: 0.6461\n",
      "Epoch 11/100\n",
      "711/711 [==============================] - 0s 216us/step - loss: 0.6544 - acc: 0.6020 - val_loss: 0.6236 - val_acc: 0.6461\n",
      "Epoch 12/100\n",
      "711/711 [==============================] - 0s 206us/step - loss: 0.6496 - acc: 0.6090 - val_loss: 0.6208 - val_acc: 0.6461\n",
      "Epoch 13/100\n",
      "711/711 [==============================] - 0s 214us/step - loss: 0.6553 - acc: 0.6104 - val_loss: 0.6207 - val_acc: 0.6461\n",
      "Epoch 14/100\n",
      "711/711 [==============================] - 0s 219us/step - loss: 0.6548 - acc: 0.6034 - val_loss: 0.6195 - val_acc: 0.6461\n",
      "Epoch 15/100\n",
      "711/711 [==============================] - 0s 227us/step - loss: 0.6603 - acc: 0.6048 - val_loss: 0.6182 - val_acc: 0.6461\n",
      "Epoch 16/100\n",
      "711/711 [==============================] - 0s 224us/step - loss: 0.6368 - acc: 0.6132 - val_loss: 0.6146 - val_acc: 0.6461\n",
      "Epoch 17/100\n",
      "711/711 [==============================] - 0s 204us/step - loss: 0.6412 - acc: 0.6132 - val_loss: 0.6091 - val_acc: 0.6461\n",
      "Epoch 18/100\n",
      "711/711 [==============================] - 0s 237us/step - loss: 0.6664 - acc: 0.6132 - val_loss: 0.6117 - val_acc: 0.6461\n",
      "Epoch 19/100\n",
      "711/711 [==============================] - 0s 216us/step - loss: 0.6359 - acc: 0.6259 - val_loss: 0.6108 - val_acc: 0.6461\n",
      "Epoch 20/100\n",
      "711/711 [==============================] - 0s 214us/step - loss: 0.6502 - acc: 0.6188 - val_loss: 0.6132 - val_acc: 0.6461\n",
      "Epoch 21/100\n",
      "711/711 [==============================] - 0s 217us/step - loss: 0.6326 - acc: 0.6020 - val_loss: 0.6088 - val_acc: 0.6461\n",
      "Epoch 22/100\n",
      "711/711 [==============================] - 0s 218us/step - loss: 0.6416 - acc: 0.6118 - val_loss: 0.6049 - val_acc: 0.6461\n",
      "Epoch 23/100\n",
      "711/711 [==============================] - 0s 244us/step - loss: 0.6328 - acc: 0.6146 - val_loss: 0.6004 - val_acc: 0.6461\n",
      "Epoch 24/100\n",
      "711/711 [==============================] - 0s 218us/step - loss: 0.6432 - acc: 0.6062 - val_loss: 0.6006 - val_acc: 0.6461\n",
      "Epoch 25/100\n",
      "711/711 [==============================] - 0s 206us/step - loss: 0.6510 - acc: 0.6034 - val_loss: 0.6037 - val_acc: 0.6461\n",
      "Epoch 26/100\n",
      "711/711 [==============================] - 0s 205us/step - loss: 0.6241 - acc: 0.6104 - val_loss: 0.5977 - val_acc: 0.6461\n",
      "Epoch 27/100\n",
      "711/711 [==============================] - 0s 215us/step - loss: 0.6218 - acc: 0.6188 - val_loss: 0.5951 - val_acc: 0.6461\n",
      "Epoch 28/100\n",
      "711/711 [==============================] - 0s 214us/step - loss: 0.6214 - acc: 0.6259 - val_loss: 0.5878 - val_acc: 0.6461\n",
      "Epoch 29/100\n",
      "711/711 [==============================] - 0s 216us/step - loss: 0.6321 - acc: 0.6273 - val_loss: 0.5834 - val_acc: 0.6629\n",
      "Epoch 30/100\n",
      "711/711 [==============================] - 0s 236us/step - loss: 0.6234 - acc: 0.6357 - val_loss: 0.5778 - val_acc: 0.7191\n",
      "Epoch 31/100\n",
      "711/711 [==============================] - 0s 208us/step - loss: 0.6237 - acc: 0.6512 - val_loss: 0.5764 - val_acc: 0.7584\n",
      "Epoch 32/100\n",
      "711/711 [==============================] - 0s 204us/step - loss: 0.6106 - acc: 0.6639 - val_loss: 0.5678 - val_acc: 0.7640\n",
      "Epoch 33/100\n",
      "711/711 [==============================] - 0s 215us/step - loss: 0.6053 - acc: 0.6667 - val_loss: 0.5562 - val_acc: 0.7697\n",
      "Epoch 34/100\n",
      "711/711 [==============================] - 0s 236us/step - loss: 0.6113 - acc: 0.6906 - val_loss: 0.5501 - val_acc: 0.7978\n",
      "Epoch 35/100\n",
      "711/711 [==============================] - 0s 210us/step - loss: 0.5931 - acc: 0.7018 - val_loss: 0.5498 - val_acc: 0.7978\n",
      "Epoch 36/100\n",
      "711/711 [==============================] - 0s 222us/step - loss: 0.5996 - acc: 0.6962 - val_loss: 0.5431 - val_acc: 0.7978\n",
      "Epoch 37/100\n",
      "711/711 [==============================] - 0s 215us/step - loss: 0.5949 - acc: 0.6976 - val_loss: 0.5425 - val_acc: 0.7978\n",
      "Epoch 38/100\n",
      "711/711 [==============================] - 0s 209us/step - loss: 0.5700 - acc: 0.7173 - val_loss: 0.5309 - val_acc: 0.8090\n",
      "Epoch 39/100\n",
      "711/711 [==============================] - 0s 229us/step - loss: 0.6073 - acc: 0.7004 - val_loss: 0.5327 - val_acc: 0.7978\n",
      "Epoch 40/100\n",
      "711/711 [==============================] - 0s 209us/step - loss: 0.6147 - acc: 0.6920 - val_loss: 0.5422 - val_acc: 0.7978\n",
      "Epoch 41/100\n",
      "711/711 [==============================] - 0s 214us/step - loss: 0.5902 - acc: 0.6962 - val_loss: 0.5358 - val_acc: 0.8090\n",
      "Epoch 42/100\n",
      "711/711 [==============================] - 0s 217us/step - loss: 0.6016 - acc: 0.7173 - val_loss: 0.5324 - val_acc: 0.7978\n",
      "Epoch 43/100\n",
      "711/711 [==============================] - 0s 236us/step - loss: 0.5916 - acc: 0.7060 - val_loss: 0.5383 - val_acc: 0.7978\n",
      "Epoch 44/100\n",
      "711/711 [==============================] - 0s 215us/step - loss: 0.5753 - acc: 0.7201 - val_loss: 0.5308 - val_acc: 0.8090\n",
      "Epoch 45/100\n",
      "711/711 [==============================] - 0s 211us/step - loss: 0.5566 - acc: 0.7145 - val_loss: 0.5154 - val_acc: 0.8090\n",
      "Epoch 46/100\n",
      "711/711 [==============================] - 0s 216us/step - loss: 0.5662 - acc: 0.7440 - val_loss: 0.5040 - val_acc: 0.8090\n",
      "Epoch 47/100\n",
      "711/711 [==============================] - 0s 217us/step - loss: 0.5681 - acc: 0.7187 - val_loss: 0.5045 - val_acc: 0.8090\n",
      "Epoch 48/100\n",
      "711/711 [==============================] - 0s 211us/step - loss: 0.5757 - acc: 0.7342 - val_loss: 0.5000 - val_acc: 0.8090\n",
      "Epoch 49/100\n",
      "711/711 [==============================] - 0s 208us/step - loss: 0.5501 - acc: 0.7356 - val_loss: 0.5000 - val_acc: 0.8090\n",
      "Epoch 50/100\n",
      "711/711 [==============================] - 0s 212us/step - loss: 0.5693 - acc: 0.7412 - val_loss: 0.5060 - val_acc: 0.8090\n",
      "Epoch 51/100\n",
      "711/711 [==============================] - 0s 212us/step - loss: 0.5712 - acc: 0.7412 - val_loss: 0.5079 - val_acc: 0.8090\n",
      "Epoch 52/100\n",
      "711/711 [==============================] - 0s 221us/step - loss: 0.5372 - acc: 0.7623 - val_loss: 0.4980 - val_acc: 0.8090\n",
      "Epoch 53/100\n",
      "711/711 [==============================] - 0s 222us/step - loss: 0.5584 - acc: 0.7257 - val_loss: 0.4927 - val_acc: 0.8090\n",
      "Epoch 54/100\n",
      "711/711 [==============================] - 0s 209us/step - loss: 0.5419 - acc: 0.7581 - val_loss: 0.4872 - val_acc: 0.8090\n",
      "Epoch 55/100\n",
      "711/711 [==============================] - 0s 222us/step - loss: 0.5460 - acc: 0.7623 - val_loss: 0.4939 - val_acc: 0.8090\n",
      "Epoch 56/100\n",
      "711/711 [==============================] - 0s 234us/step - loss: 0.5418 - acc: 0.7595 - val_loss: 0.4870 - val_acc: 0.8090\n",
      "Epoch 57/100\n",
      "711/711 [==============================] - 0s 201us/step - loss: 0.5426 - acc: 0.7412 - val_loss: 0.4820 - val_acc: 0.8034\n",
      "Epoch 58/100\n",
      "711/711 [==============================] - 0s 210us/step - loss: 0.5689 - acc: 0.7328 - val_loss: 0.4907 - val_acc: 0.8146\n",
      "Epoch 59/100\n",
      "711/711 [==============================] - 0s 219us/step - loss: 0.5120 - acc: 0.7567 - val_loss: 0.4826 - val_acc: 0.8146\n",
      "Epoch 60/100\n",
      "711/711 [==============================] - 0s 221us/step - loss: 0.5390 - acc: 0.7567 - val_loss: 0.4795 - val_acc: 0.8258\n",
      "Epoch 61/100\n",
      "711/711 [==============================] - 0s 226us/step - loss: 0.5279 - acc: 0.7525 - val_loss: 0.4725 - val_acc: 0.8315\n",
      "Epoch 62/100\n",
      "711/711 [==============================] - 0s 220us/step - loss: 0.5564 - acc: 0.7440 - val_loss: 0.4713 - val_acc: 0.8202\n",
      "Epoch 63/100\n",
      "711/711 [==============================] - 0s 230us/step - loss: 0.5412 - acc: 0.7496 - val_loss: 0.4655 - val_acc: 0.8258\n",
      "Epoch 64/100\n",
      "711/711 [==============================] - 0s 211us/step - loss: 0.5402 - acc: 0.7468 - val_loss: 0.4641 - val_acc: 0.8258\n",
      "Epoch 65/100\n",
      "711/711 [==============================] - 0s 213us/step - loss: 0.5363 - acc: 0.7707 - val_loss: 0.4617 - val_acc: 0.8258\n",
      "Epoch 66/100\n",
      "711/711 [==============================] - 0s 232us/step - loss: 0.5554 - acc: 0.7482 - val_loss: 0.4679 - val_acc: 0.8202\n",
      "Epoch 67/100\n",
      "711/711 [==============================] - 0s 220us/step - loss: 0.5507 - acc: 0.7595 - val_loss: 0.4736 - val_acc: 0.8202\n",
      "Epoch 68/100\n",
      "711/711 [==============================] - 0s 210us/step - loss: 0.5320 - acc: 0.7553 - val_loss: 0.4727 - val_acc: 0.8258\n",
      "Epoch 69/100\n",
      "711/711 [==============================] - 0s 246us/step - loss: 0.5454 - acc: 0.7651 - val_loss: 0.4718 - val_acc: 0.8202\n",
      "Epoch 70/100\n",
      "711/711 [==============================] - 0s 225us/step - loss: 0.5149 - acc: 0.7750 - val_loss: 0.4710 - val_acc: 0.8258\n",
      "Epoch 71/100\n",
      "711/711 [==============================] - 0s 208us/step - loss: 0.5379 - acc: 0.7651 - val_loss: 0.4666 - val_acc: 0.8202\n",
      "Epoch 72/100\n",
      "711/711 [==============================] - 0s 209us/step - loss: 0.5304 - acc: 0.7750 - val_loss: 0.4624 - val_acc: 0.8258\n",
      "Epoch 73/100\n",
      "711/711 [==============================] - 0s 213us/step - loss: 0.5283 - acc: 0.7736 - val_loss: 0.4613 - val_acc: 0.8202\n",
      "Epoch 74/100\n",
      "711/711 [==============================] - 0s 213us/step - loss: 0.5252 - acc: 0.7567 - val_loss: 0.4583 - val_acc: 0.8202\n",
      "Epoch 75/100\n",
      "711/711 [==============================] - 0s 209us/step - loss: 0.5114 - acc: 0.7764 - val_loss: 0.4565 - val_acc: 0.8146\n",
      "Epoch 76/100\n",
      "711/711 [==============================] - 0s 224us/step - loss: 0.5242 - acc: 0.7722 - val_loss: 0.4497 - val_acc: 0.8146\n",
      "Epoch 77/100\n",
      "711/711 [==============================] - 0s 209us/step - loss: 0.5254 - acc: 0.7707 - val_loss: 0.4503 - val_acc: 0.8090\n",
      "Epoch 78/100\n",
      "711/711 [==============================] - 0s 222us/step - loss: 0.5304 - acc: 0.7609 - val_loss: 0.4508 - val_acc: 0.8202\n",
      "Epoch 79/100\n",
      "711/711 [==============================] - 0s 215us/step - loss: 0.5363 - acc: 0.7482 - val_loss: 0.4514 - val_acc: 0.8202\n",
      "Epoch 80/100\n",
      "711/711 [==============================] - 0s 215us/step - loss: 0.5235 - acc: 0.7736 - val_loss: 0.4529 - val_acc: 0.8090\n",
      "Epoch 81/100\n",
      "711/711 [==============================] - 0s 215us/step - loss: 0.5265 - acc: 0.7806 - val_loss: 0.4532 - val_acc: 0.8146\n",
      "Epoch 82/100\n",
      "711/711 [==============================] - 0s 217us/step - loss: 0.5229 - acc: 0.7750 - val_loss: 0.4524 - val_acc: 0.8258\n",
      "Epoch 83/100\n",
      "711/711 [==============================] - 0s 238us/step - loss: 0.5070 - acc: 0.7651 - val_loss: 0.4507 - val_acc: 0.8202\n",
      "Epoch 84/100\n",
      "711/711 [==============================] - 0s 205us/step - loss: 0.5172 - acc: 0.7651 - val_loss: 0.4487 - val_acc: 0.8258\n",
      "Epoch 85/100\n",
      "711/711 [==============================] - 0s 214us/step - loss: 0.5245 - acc: 0.7722 - val_loss: 0.4478 - val_acc: 0.8258\n",
      "Epoch 86/100\n",
      "711/711 [==============================] - 0s 211us/step - loss: 0.5151 - acc: 0.7736 - val_loss: 0.4475 - val_acc: 0.8258\n",
      "Epoch 87/100\n",
      "711/711 [==============================] - 0s 222us/step - loss: 0.5044 - acc: 0.7834 - val_loss: 0.4441 - val_acc: 0.8202\n",
      "Epoch 88/100\n",
      "711/711 [==============================] - 0s 229us/step - loss: 0.5137 - acc: 0.7693 - val_loss: 0.4440 - val_acc: 0.8258\n",
      "Epoch 89/100\n",
      "711/711 [==============================] - 0s 233us/step - loss: 0.5120 - acc: 0.7792 - val_loss: 0.4449 - val_acc: 0.8146\n",
      "Epoch 90/100\n",
      "711/711 [==============================] - 0s 208us/step - loss: 0.5213 - acc: 0.7792 - val_loss: 0.4464 - val_acc: 0.8090\n",
      "Epoch 91/100\n",
      "711/711 [==============================] - 0s 207us/step - loss: 0.5198 - acc: 0.7651 - val_loss: 0.4456 - val_acc: 0.8090\n",
      "Epoch 92/100\n",
      "711/711 [==============================] - 0s 201us/step - loss: 0.5277 - acc: 0.7736 - val_loss: 0.4443 - val_acc: 0.8090\n",
      "Epoch 93/100\n",
      "711/711 [==============================] - 0s 209us/step - loss: 0.5213 - acc: 0.7778 - val_loss: 0.4433 - val_acc: 0.8146\n",
      "Epoch 94/100\n",
      "711/711 [==============================] - 0s 208us/step - loss: 0.4980 - acc: 0.7862 - val_loss: 0.4397 - val_acc: 0.8090\n",
      "Epoch 95/100\n",
      "711/711 [==============================] - 0s 204us/step - loss: 0.5112 - acc: 0.7637 - val_loss: 0.4422 - val_acc: 0.8090\n",
      "Epoch 96/100\n",
      "711/711 [==============================] - 0s 242us/step - loss: 0.5053 - acc: 0.7567 - val_loss: 0.4414 - val_acc: 0.8090\n",
      "Epoch 97/100\n",
      "711/711 [==============================] - 0s 218us/step - loss: 0.5083 - acc: 0.7778 - val_loss: 0.4392 - val_acc: 0.8146\n",
      "Epoch 98/100\n",
      "711/711 [==============================] - 0s 201us/step - loss: 0.5178 - acc: 0.7651 - val_loss: 0.4385 - val_acc: 0.8146\n",
      "Epoch 99/100\n",
      "711/711 [==============================] - 0s 201us/step - loss: 0.5010 - acc: 0.7750 - val_loss: 0.4403 - val_acc: 0.8146\n",
      "Epoch 100/100\n",
      "711/711 [==============================] - 0s 206us/step - loss: 0.5025 - acc: 0.7918 - val_loss: 0.4410 - val_acc: 0.8146\n"
     ]
    }
   ],
   "source": [
    "# Fitting the train set to the model\n",
    "history = model.fit(X, y, epochs=100, batch_size=32, validation_split=0.2)"
   ]
  },
  {
   "cell_type": "code",
   "execution_count": 122,
   "metadata": {
    "colab": {
     "base_uri": "https://localhost:8080/",
     "height": 707
    },
    "colab_type": "code",
    "executionInfo": {
     "elapsed": 2936,
     "status": "ok",
     "timestamp": 1554215615333,
     "user": {
      "displayName": "Mohit Raj",
      "photoUrl": "https://lh4.googleusercontent.com/-THuQGyH-qf0/AAAAAAAAAAI/AAAAAAAAAKE/sT7jOYuqFyI/s64/photo.jpg",
      "userId": "17943522262909727589"
     },
     "user_tz": -330
    },
    "id": "GhX8ptPPbMaN",
    "outputId": "759252c2-559b-42bc-d8b8-3cd5d25bac98"
   },
   "outputs": [
    {
     "data": {
      "image/png": "[encoded data removed]",
      "text/plain": [
       "<Figure size 576x396 with 1 Axes>"
      ]
     },
     "metadata": {
      "tags": []
     },
     "output_type": "display_data"
    },
    {
     "data": {
      "image/png": "[encoded data removed]",
      "text/plain": [
       "<Figure size 576x396 with 1 Axes>"
      ]
     },
     "metadata": {
      "tags": []
     },
     "output_type": "display_data"
    }
   ],
   "source": [
    "# Plotting training and validation accuracy and loss against epochs.\n",
    "acc = history.history['acc']\n",
    "val_acc = history.history['val_acc']\n",
    "loss = history.history['loss']\n",
    "val_loss = history.history['val_loss']\n",
    "epochs = range(1, len(acc) + 1)\n",
    "plt.plot(epochs, acc, 'r', label='Training acc')\n",
    "plt.plot(epochs, val_acc, 'b', label='Validation acc')\n",
    "plt.title('Training and validation accuracy')\n",
    "plt.legend()\n",
    "plt.figure()\n",
    "plt.plot(epochs, loss, 'r', label='Training loss')\n",
    "plt.plot(epochs, val_loss, 'b', label='Validation loss')\n",
    "plt.title('Training and validation loss')\n",
    "plt.legend()\n",
    "plt.show()"
   ]
  },
  {
   "cell_type": "code",
   "execution_count": 0,
   "metadata": {
    "colab": {},
    "colab_type": "code",
    "id": "YDGaXUj5ebe-"
   },
   "outputs": [],
   "source": [
    "# Again making modifications to the model. Changing the number of hidden units and removing the \n",
    "# additional layer.\n",
    "model = Sequential()\n",
    "model.add(Dense(32, activation='relu', input_shape=(8,)))\n",
    "model.add(Dropout(0.5))\n",
    "model.add(Dense(32, activation='relu'))\n",
    "model.add(Dropout(0.5))\n",
    "model.add(Dense(1, activation='sigmoid'))"
   ]
  },
  {
   "cell_type": "code",
   "execution_count": 124,
   "metadata": {
    "colab": {
     "base_uri": "https://localhost:8080/",
     "height": 329
    },
    "colab_type": "code",
    "executionInfo": {
     "elapsed": 4066,
     "status": "ok",
     "timestamp": 1554215854983,
     "user": {
      "displayName": "Mohit Raj",
      "photoUrl": "https://lh4.googleusercontent.com/-THuQGyH-qf0/AAAAAAAAAAI/AAAAAAAAAKE/sT7jOYuqFyI/s64/photo.jpg",
      "userId": "17943522262909727589"
     },
     "user_tz": -330
    },
    "id": "6VN7G-Nxebfk",
    "outputId": "306c50c5-e1e3-45a4-80e8-d39ad63cf0e5"
   },
   "outputs": [
    {
     "name": "stdout",
     "output_type": "stream",
     "text": [
      "_________________________________________________________________\n",
      "Layer (type)                 Output Shape              Param #   \n",
      "=================================================================\n",
      "dense_11 (Dense)             (None, 32)                288       \n",
      "_________________________________________________________________\n",
      "dropout_8 (Dropout)          (None, 32)                0         \n",
      "_________________________________________________________________\n",
      "dense_12 (Dense)             (None, 32)                1056      \n",
      "_________________________________________________________________\n",
      "dropout_9 (Dropout)          (None, 32)                0         \n",
      "_________________________________________________________________\n",
      "dense_13 (Dense)             (None, 1)                 33        \n",
      "=================================================================\n",
      "Total params: 1,377\n",
      "Trainable params: 1,377\n",
      "Non-trainable params: 0\n",
      "_________________________________________________________________\n"
     ]
    }
   ],
   "source": [
    "model.summary()"
   ]
  },
  {
   "cell_type": "code",
   "execution_count": 0,
   "metadata": {
    "colab": {},
    "colab_type": "code",
    "id": "rNxgB_2aebgC"
   },
   "outputs": [],
   "source": [
    "# Compiling the model\n",
    "model.compile(optimizer='adam', loss='binary_crossentropy', metrics=['acc'])"
   ]
  },
  {
   "cell_type": "code",
   "execution_count": 126,
   "metadata": {
    "colab": {
     "base_uri": "https://localhost:8080/",
     "height": 3729
    },
    "colab_type": "code",
    "executionInfo": {
     "elapsed": 18241,
     "status": "ok",
     "timestamp": 1554215881077,
     "user": {
      "displayName": "Mohit Raj",
      "photoUrl": "https://lh4.googleusercontent.com/-THuQGyH-qf0/AAAAAAAAAAI/AAAAAAAAAKE/sT7jOYuqFyI/s64/photo.jpg",
      "userId": "17943522262909727589"
     },
     "user_tz": -330
    },
    "id": "bMqroISNebgU",
    "outputId": "950c89dd-fa43-44a1-89a1-d7355401257a"
   },
   "outputs": [
    {
     "name": "stdout",
     "output_type": "stream",
     "text": [
      "Train on 711 samples, validate on 178 samples\n",
      "Epoch 1/100\n",
      "711/711 [==============================] - 1s 896us/step - loss: 0.6654 - acc: 0.5781 - val_loss: 0.6043 - val_acc: 0.6461\n",
      "Epoch 2/100\n",
      "711/711 [==============================] - 0s 197us/step - loss: 0.6462 - acc: 0.5907 - val_loss: 0.5812 - val_acc: 0.6461\n",
      "Epoch 3/100\n",
      "711/711 [==============================] - 0s 188us/step - loss: 0.6189 - acc: 0.6371 - val_loss: 0.5701 - val_acc: 0.6461\n",
      "Epoch 4/100\n",
      "711/711 [==============================] - 0s 170us/step - loss: 0.6157 - acc: 0.6540 - val_loss: 0.5558 - val_acc: 0.6742\n",
      "Epoch 5/100\n",
      "711/711 [==============================] - 0s 224us/step - loss: 0.6068 - acc: 0.6582 - val_loss: 0.5464 - val_acc: 0.7584\n",
      "Epoch 6/100\n",
      "711/711 [==============================] - 0s 188us/step - loss: 0.5901 - acc: 0.7004 - val_loss: 0.5359 - val_acc: 0.7584\n",
      "Epoch 7/100\n",
      "711/711 [==============================] - 0s 184us/step - loss: 0.5854 - acc: 0.7131 - val_loss: 0.5222 - val_acc: 0.8090\n",
      "Epoch 8/100\n",
      "711/711 [==============================] - 0s 173us/step - loss: 0.5993 - acc: 0.7159 - val_loss: 0.5146 - val_acc: 0.8146\n",
      "Epoch 9/100\n",
      "711/711 [==============================] - 0s 199us/step - loss: 0.5850 - acc: 0.7271 - val_loss: 0.5048 - val_acc: 0.7978\n",
      "Epoch 10/100\n",
      "711/711 [==============================] - 0s 197us/step - loss: 0.5539 - acc: 0.7384 - val_loss: 0.4964 - val_acc: 0.7753\n",
      "Epoch 11/100\n",
      "711/711 [==============================] - 0s 189us/step - loss: 0.5683 - acc: 0.7300 - val_loss: 0.4898 - val_acc: 0.8034\n",
      "Epoch 12/100\n",
      "711/711 [==============================] - 0s 202us/step - loss: 0.5598 - acc: 0.7539 - val_loss: 0.4813 - val_acc: 0.8034\n",
      "Epoch 13/100\n",
      "711/711 [==============================] - 0s 200us/step - loss: 0.5481 - acc: 0.7609 - val_loss: 0.4751 - val_acc: 0.7978\n",
      "Epoch 14/100\n",
      "711/711 [==============================] - 0s 200us/step - loss: 0.5291 - acc: 0.7609 - val_loss: 0.4731 - val_acc: 0.7921\n",
      "Epoch 15/100\n",
      "711/711 [==============================] - 0s 197us/step - loss: 0.5327 - acc: 0.7764 - val_loss: 0.4672 - val_acc: 0.7921\n",
      "Epoch 16/100\n",
      "711/711 [==============================] - 0s 191us/step - loss: 0.5556 - acc: 0.7525 - val_loss: 0.4685 - val_acc: 0.7921\n",
      "Epoch 17/100\n",
      "711/711 [==============================] - 0s 187us/step - loss: 0.5252 - acc: 0.7609 - val_loss: 0.4654 - val_acc: 0.7978\n",
      "Epoch 18/100\n",
      "711/711 [==============================] - 0s 192us/step - loss: 0.5293 - acc: 0.7679 - val_loss: 0.4610 - val_acc: 0.7921\n",
      "Epoch 19/100\n",
      "711/711 [==============================] - 0s 193us/step - loss: 0.5211 - acc: 0.7553 - val_loss: 0.4570 - val_acc: 0.7978\n",
      "Epoch 20/100\n",
      "711/711 [==============================] - 0s 219us/step - loss: 0.5273 - acc: 0.7595 - val_loss: 0.4547 - val_acc: 0.7978\n",
      "Epoch 21/100\n",
      "711/711 [==============================] - 0s 200us/step - loss: 0.5240 - acc: 0.7806 - val_loss: 0.4514 - val_acc: 0.8034\n",
      "Epoch 22/100\n",
      "711/711 [==============================] - 0s 189us/step - loss: 0.5040 - acc: 0.7651 - val_loss: 0.4501 - val_acc: 0.7978\n",
      "Epoch 23/100\n",
      "711/711 [==============================] - 0s 194us/step - loss: 0.5248 - acc: 0.7750 - val_loss: 0.4481 - val_acc: 0.7978\n",
      "Epoch 24/100\n",
      "711/711 [==============================] - 0s 193us/step - loss: 0.5116 - acc: 0.7876 - val_loss: 0.4452 - val_acc: 0.8034\n",
      "Epoch 25/100\n",
      "711/711 [==============================] - 0s 191us/step - loss: 0.5188 - acc: 0.7862 - val_loss: 0.4445 - val_acc: 0.8146\n",
      "Epoch 26/100\n",
      "711/711 [==============================] - 0s 189us/step - loss: 0.5084 - acc: 0.7820 - val_loss: 0.4406 - val_acc: 0.8371\n",
      "Epoch 27/100\n",
      "711/711 [==============================] - 0s 209us/step - loss: 0.4898 - acc: 0.7792 - val_loss: 0.4388 - val_acc: 0.8258\n",
      "Epoch 28/100\n",
      "711/711 [==============================] - 0s 190us/step - loss: 0.5004 - acc: 0.7876 - val_loss: 0.4373 - val_acc: 0.8202\n",
      "Epoch 29/100\n",
      "711/711 [==============================] - 0s 195us/step - loss: 0.4942 - acc: 0.7947 - val_loss: 0.4359 - val_acc: 0.8202\n",
      "Epoch 30/100\n",
      "711/711 [==============================] - 0s 193us/step - loss: 0.5012 - acc: 0.7890 - val_loss: 0.4344 - val_acc: 0.8258\n",
      "Epoch 31/100\n",
      "711/711 [==============================] - 0s 195us/step - loss: 0.4982 - acc: 0.7961 - val_loss: 0.4341 - val_acc: 0.8258\n",
      "Epoch 32/100\n",
      "711/711 [==============================] - 0s 189us/step - loss: 0.4844 - acc: 0.7947 - val_loss: 0.4318 - val_acc: 0.8258\n",
      "Epoch 33/100\n",
      "711/711 [==============================] - 0s 195us/step - loss: 0.5172 - acc: 0.7890 - val_loss: 0.4338 - val_acc: 0.8202\n",
      "Epoch 34/100\n",
      "711/711 [==============================] - 0s 185us/step - loss: 0.4989 - acc: 0.7693 - val_loss: 0.4352 - val_acc: 0.8258\n",
      "Epoch 35/100\n",
      "711/711 [==============================] - 0s 209us/step - loss: 0.4937 - acc: 0.7975 - val_loss: 0.4305 - val_acc: 0.8202\n",
      "Epoch 36/100\n",
      "711/711 [==============================] - 0s 196us/step - loss: 0.4904 - acc: 0.7862 - val_loss: 0.4268 - val_acc: 0.8371\n",
      "Epoch 37/100\n",
      "711/711 [==============================] - 0s 186us/step - loss: 0.4972 - acc: 0.7975 - val_loss: 0.4278 - val_acc: 0.8258\n",
      "Epoch 38/100\n",
      "711/711 [==============================] - 0s 191us/step - loss: 0.4938 - acc: 0.7890 - val_loss: 0.4256 - val_acc: 0.8258\n",
      "Epoch 39/100\n",
      "711/711 [==============================] - 0s 185us/step - loss: 0.4826 - acc: 0.8003 - val_loss: 0.4240 - val_acc: 0.8258\n",
      "Epoch 40/100\n",
      "711/711 [==============================] - 0s 188us/step - loss: 0.4817 - acc: 0.7989 - val_loss: 0.4239 - val_acc: 0.8483\n",
      "Epoch 41/100\n",
      "711/711 [==============================] - 0s 197us/step - loss: 0.4856 - acc: 0.8059 - val_loss: 0.4226 - val_acc: 0.8371\n",
      "Epoch 42/100\n",
      "711/711 [==============================] - 0s 210us/step - loss: 0.4830 - acc: 0.7848 - val_loss: 0.4209 - val_acc: 0.8315\n",
      "Epoch 43/100\n",
      "711/711 [==============================] - 0s 190us/step - loss: 0.4911 - acc: 0.8045 - val_loss: 0.4238 - val_acc: 0.8315\n",
      "Epoch 44/100\n",
      "711/711 [==============================] - 0s 195us/step - loss: 0.4938 - acc: 0.7806 - val_loss: 0.4246 - val_acc: 0.8258\n",
      "Epoch 45/100\n",
      "711/711 [==============================] - 0s 190us/step - loss: 0.4764 - acc: 0.7862 - val_loss: 0.4197 - val_acc: 0.8315\n",
      "Epoch 46/100\n",
      "711/711 [==============================] - 0s 194us/step - loss: 0.4697 - acc: 0.7947 - val_loss: 0.4178 - val_acc: 0.8427\n",
      "Epoch 47/100\n",
      "711/711 [==============================] - 0s 190us/step - loss: 0.4964 - acc: 0.7904 - val_loss: 0.4172 - val_acc: 0.8371\n",
      "Epoch 48/100\n",
      "711/711 [==============================] - 0s 185us/step - loss: 0.4892 - acc: 0.7961 - val_loss: 0.4161 - val_acc: 0.8315\n",
      "Epoch 49/100\n",
      "711/711 [==============================] - 0s 195us/step - loss: 0.4654 - acc: 0.8031 - val_loss: 0.4150 - val_acc: 0.8371\n",
      "Epoch 50/100\n",
      "711/711 [==============================] - 0s 212us/step - loss: 0.4785 - acc: 0.8045 - val_loss: 0.4190 - val_acc: 0.8371\n",
      "Epoch 51/100\n",
      "711/711 [==============================] - 0s 191us/step - loss: 0.4778 - acc: 0.7947 - val_loss: 0.4174 - val_acc: 0.8315\n",
      "Epoch 52/100\n",
      "711/711 [==============================] - 0s 193us/step - loss: 0.4834 - acc: 0.7947 - val_loss: 0.4156 - val_acc: 0.8315\n",
      "Epoch 53/100\n",
      "711/711 [==============================] - 0s 204us/step - loss: 0.4850 - acc: 0.7961 - val_loss: 0.4139 - val_acc: 0.8315\n",
      "Epoch 54/100\n",
      "711/711 [==============================] - 0s 191us/step - loss: 0.4935 - acc: 0.7904 - val_loss: 0.4144 - val_acc: 0.8315\n",
      "Epoch 55/100\n",
      "711/711 [==============================] - 0s 190us/step - loss: 0.4768 - acc: 0.7904 - val_loss: 0.4164 - val_acc: 0.8315\n",
      "Epoch 56/100\n",
      "711/711 [==============================] - 0s 194us/step - loss: 0.4880 - acc: 0.7876 - val_loss: 0.4145 - val_acc: 0.8315\n",
      "Epoch 57/100\n",
      "711/711 [==============================] - 0s 209us/step - loss: 0.4755 - acc: 0.8045 - val_loss: 0.4141 - val_acc: 0.8315\n",
      "Epoch 58/100\n",
      "711/711 [==============================] - 0s 189us/step - loss: 0.4737 - acc: 0.8017 - val_loss: 0.4119 - val_acc: 0.8315\n",
      "Epoch 59/100\n",
      "711/711 [==============================] - 0s 197us/step - loss: 0.4727 - acc: 0.7989 - val_loss: 0.4108 - val_acc: 0.8371\n",
      "Epoch 60/100\n",
      "711/711 [==============================] - 0s 195us/step - loss: 0.4665 - acc: 0.7932 - val_loss: 0.4127 - val_acc: 0.8371\n",
      "Epoch 61/100\n",
      "711/711 [==============================] - 0s 201us/step - loss: 0.4735 - acc: 0.8003 - val_loss: 0.4098 - val_acc: 0.8315\n",
      "Epoch 62/100\n",
      "711/711 [==============================] - 0s 195us/step - loss: 0.4837 - acc: 0.7890 - val_loss: 0.4102 - val_acc: 0.8371\n",
      "Epoch 63/100\n",
      "711/711 [==============================] - 0s 195us/step - loss: 0.4676 - acc: 0.7961 - val_loss: 0.4092 - val_acc: 0.8371\n",
      "Epoch 64/100\n",
      "711/711 [==============================] - 0s 215us/step - loss: 0.4628 - acc: 0.7975 - val_loss: 0.4104 - val_acc: 0.8315\n",
      "Epoch 65/100\n",
      "711/711 [==============================] - 0s 186us/step - loss: 0.4809 - acc: 0.7947 - val_loss: 0.4091 - val_acc: 0.8371\n",
      "Epoch 66/100\n",
      "711/711 [==============================] - 0s 193us/step - loss: 0.4819 - acc: 0.8017 - val_loss: 0.4124 - val_acc: 0.8371\n",
      "Epoch 67/100\n",
      "711/711 [==============================] - 0s 193us/step - loss: 0.4780 - acc: 0.7904 - val_loss: 0.4090 - val_acc: 0.8315\n",
      "Epoch 68/100\n",
      "711/711 [==============================] - 0s 193us/step - loss: 0.4667 - acc: 0.8045 - val_loss: 0.4094 - val_acc: 0.8315\n",
      "Epoch 69/100\n",
      "711/711 [==============================] - 0s 193us/step - loss: 0.4709 - acc: 0.7890 - val_loss: 0.4109 - val_acc: 0.8427\n",
      "Epoch 70/100\n",
      "711/711 [==============================] - 0s 194us/step - loss: 0.4752 - acc: 0.8031 - val_loss: 0.4102 - val_acc: 0.8315\n",
      "Epoch 71/100\n",
      "711/711 [==============================] - 0s 191us/step - loss: 0.4724 - acc: 0.8045 - val_loss: 0.4089 - val_acc: 0.8315\n",
      "Epoch 72/100\n",
      "711/711 [==============================] - 0s 212us/step - loss: 0.4754 - acc: 0.7904 - val_loss: 0.4094 - val_acc: 0.8315\n",
      "Epoch 73/100\n",
      "711/711 [==============================] - 0s 194us/step - loss: 0.4766 - acc: 0.7904 - val_loss: 0.4091 - val_acc: 0.8315\n",
      "Epoch 74/100\n",
      "711/711 [==============================] - 0s 201us/step - loss: 0.4527 - acc: 0.8045 - val_loss: 0.4058 - val_acc: 0.8315\n",
      "Epoch 75/100\n",
      "711/711 [==============================] - 0s 185us/step - loss: 0.4767 - acc: 0.8129 - val_loss: 0.4056 - val_acc: 0.8427\n",
      "Epoch 76/100\n",
      "711/711 [==============================] - 0s 189us/step - loss: 0.4691 - acc: 0.7975 - val_loss: 0.4062 - val_acc: 0.8427\n",
      "Epoch 77/100\n",
      "711/711 [==============================] - 0s 190us/step - loss: 0.4812 - acc: 0.7975 - val_loss: 0.4049 - val_acc: 0.8315\n",
      "Epoch 78/100\n",
      "711/711 [==============================] - 0s 195us/step - loss: 0.4812 - acc: 0.7918 - val_loss: 0.4052 - val_acc: 0.8315\n",
      "Epoch 79/100\n",
      "711/711 [==============================] - 0s 209us/step - loss: 0.4731 - acc: 0.8045 - val_loss: 0.4061 - val_acc: 0.8315\n",
      "Epoch 80/100\n",
      "711/711 [==============================] - 0s 191us/step - loss: 0.4592 - acc: 0.8017 - val_loss: 0.4061 - val_acc: 0.8315\n",
      "Epoch 81/100\n",
      "711/711 [==============================] - 0s 199us/step - loss: 0.4609 - acc: 0.8017 - val_loss: 0.4042 - val_acc: 0.8315\n",
      "Epoch 82/100\n",
      "711/711 [==============================] - 0s 199us/step - loss: 0.4757 - acc: 0.8017 - val_loss: 0.4049 - val_acc: 0.8315\n",
      "Epoch 83/100\n",
      "711/711 [==============================] - 0s 186us/step - loss: 0.4679 - acc: 0.8073 - val_loss: 0.4035 - val_acc: 0.8315\n",
      "Epoch 84/100\n",
      "711/711 [==============================] - 0s 191us/step - loss: 0.4708 - acc: 0.7989 - val_loss: 0.4054 - val_acc: 0.8315\n",
      "Epoch 85/100\n",
      "711/711 [==============================] - 0s 191us/step - loss: 0.4656 - acc: 0.8003 - val_loss: 0.4046 - val_acc: 0.8315\n",
      "Epoch 86/100\n",
      "711/711 [==============================] - 0s 217us/step - loss: 0.4759 - acc: 0.8003 - val_loss: 0.4039 - val_acc: 0.8315\n",
      "Epoch 87/100\n",
      "711/711 [==============================] - 0s 192us/step - loss: 0.4582 - acc: 0.7961 - val_loss: 0.4037 - val_acc: 0.8427\n",
      "Epoch 88/100\n",
      "711/711 [==============================] - 0s 195us/step - loss: 0.4579 - acc: 0.8087 - val_loss: 0.4011 - val_acc: 0.8315\n",
      "Epoch 89/100\n",
      "711/711 [==============================] - 0s 190us/step - loss: 0.4620 - acc: 0.8017 - val_loss: 0.4027 - val_acc: 0.8427\n",
      "Epoch 90/100\n",
      "711/711 [==============================] - 0s 188us/step - loss: 0.4577 - acc: 0.8003 - val_loss: 0.4009 - val_acc: 0.8315\n",
      "Epoch 91/100\n",
      "711/711 [==============================] - 0s 195us/step - loss: 0.4716 - acc: 0.8045 - val_loss: 0.4003 - val_acc: 0.8371\n",
      "Epoch 92/100\n",
      "711/711 [==============================] - 0s 186us/step - loss: 0.4644 - acc: 0.8101 - val_loss: 0.4025 - val_acc: 0.8371\n",
      "Epoch 93/100\n",
      "711/711 [==============================] - 0s 189us/step - loss: 0.4656 - acc: 0.8003 - val_loss: 0.4017 - val_acc: 0.8427\n",
      "Epoch 94/100\n",
      "711/711 [==============================] - 0s 204us/step - loss: 0.4534 - acc: 0.8143 - val_loss: 0.4014 - val_acc: 0.8427\n",
      "Epoch 95/100\n",
      "711/711 [==============================] - 0s 188us/step - loss: 0.4674 - acc: 0.7975 - val_loss: 0.4005 - val_acc: 0.8315\n",
      "Epoch 96/100\n",
      "711/711 [==============================] - 0s 190us/step - loss: 0.4687 - acc: 0.7989 - val_loss: 0.4009 - val_acc: 0.8315\n",
      "Epoch 97/100\n",
      "711/711 [==============================] - 0s 191us/step - loss: 0.4651 - acc: 0.7989 - val_loss: 0.4032 - val_acc: 0.8315\n",
      "Epoch 98/100\n",
      "711/711 [==============================] - 0s 205us/step - loss: 0.4745 - acc: 0.8045 - val_loss: 0.4019 - val_acc: 0.8315\n",
      "Epoch 99/100\n",
      "711/711 [==============================] - 0s 196us/step - loss: 0.4653 - acc: 0.8017 - val_loss: 0.4038 - val_acc: 0.8371\n",
      "Epoch 100/100\n",
      "711/711 [==============================] - 0s 190us/step - loss: 0.4590 - acc: 0.8031 - val_loss: 0.4020 - val_acc: 0.8427\n"
     ]
    }
   ],
   "source": [
    "# Fitting the train set to the model\n",
    "history = model.fit(X, y, epochs=100, batch_size=32, validation_split=0.2)"
   ]
  },
  {
   "cell_type": "code",
   "execution_count": 127,
   "metadata": {
    "colab": {
     "base_uri": "https://localhost:8080/",
     "height": 707
    },
    "colab_type": "code",
    "executionInfo": {
     "elapsed": 6833,
     "status": "ok",
     "timestamp": 1554215909274,
     "user": {
      "displayName": "Mohit Raj",
      "photoUrl": "https://lh4.googleusercontent.com/-THuQGyH-qf0/AAAAAAAAAAI/AAAAAAAAAKE/sT7jOYuqFyI/s64/photo.jpg",
      "userId": "17943522262909727589"
     },
     "user_tz": -330
    },
    "id": "BTb9HWqzebgr",
    "outputId": "059abb8d-7fe1-4001-db0e-d03890e99bb5"
   },
   "outputs": [
    {
     "data": {
      "image/png": "[encoded data removed]",
      "text/plain": [
       "<Figure size 576x396 with 1 Axes>"
      ]
     },
     "metadata": {
      "tags": []
     },
     "output_type": "display_data"
    },
    {
     "data": {
      "image/png": "[encoded data removed]",
      "text/plain": [
       "<Figure size 576x396 with 1 Axes>"
      ]
     },
     "metadata": {
      "tags": []
     },
     "output_type": "display_data"
    }
   ],
   "source": [
    "# Plotting training and validation accuracy and loss against epochs.\n",
    "acc = history.history['acc']\n",
    "val_acc = history.history['val_acc']\n",
    "loss = history.history['loss']\n",
    "val_loss = history.history['val_loss']\n",
    "epochs = range(1, len(acc) + 1)\n",
    "plt.plot(epochs, acc, 'r', label='Training acc')\n",
    "plt.plot(epochs, val_acc, 'b', label='Validation acc')\n",
    "plt.title('Training and validation accuracy')\n",
    "plt.legend()\n",
    "plt.figure()\n",
    "plt.plot(epochs, loss, 'r', label='Training loss')\n",
    "plt.plot(epochs, val_loss, 'b', label='Validation loss')\n",
    "plt.title('Training and validation loss')\n",
    "plt.legend()\n",
    "plt.show()"
   ]
  },
  {
   "cell_type": "code",
   "execution_count": 0,
   "metadata": {
    "colab": {},
    "colab_type": "code",
    "id": "dR5NxvklfRal"
   },
   "outputs": [],
   "source": [
    "# Adding an additional layer to the previous model.\n",
    "model = Sequential()\n",
    "model.add(Dense(32, activation='relu', input_shape=(8,)))\n",
    "model.add(Dropout(0.5))\n",
    "model.add(Dense(32, activation='relu'))\n",
    "model.add(Dropout(0.5))\n",
    "model.add(Dense(32, activation='relu'))\n",
    "model.add(Dropout(0.5))\n",
    "model.add(Dense(1, activation='sigmoid'))"
   ]
  },
  {
   "cell_type": "code",
   "execution_count": 129,
   "metadata": {
    "colab": {
     "base_uri": "https://localhost:8080/",
     "height": 403
    },
    "colab_type": "code",
    "executionInfo": {
     "elapsed": 4132,
     "status": "ok",
     "timestamp": 1554215993838,
     "user": {
      "displayName": "Mohit Raj",
      "photoUrl": "https://lh4.googleusercontent.com/-THuQGyH-qf0/AAAAAAAAAAI/AAAAAAAAAKE/sT7jOYuqFyI/s64/photo.jpg",
      "userId": "17943522262909727589"
     },
     "user_tz": -330
    },
    "id": "2J8AWmBwfRbE",
    "outputId": "98ee823a-cfc2-435e-d96f-692e5394507a"
   },
   "outputs": [
    {
     "name": "stdout",
     "output_type": "stream",
     "text": [
      "_________________________________________________________________\n",
      "Layer (type)                 Output Shape              Param #   \n",
      "=================================================================\n",
      "dense_14 (Dense)             (None, 32)                288       \n",
      "_________________________________________________________________\n",
      "dropout_10 (Dropout)         (None, 32)                0         \n",
      "_________________________________________________________________\n",
      "dense_15 (Dense)             (None, 32)                1056      \n",
      "_________________________________________________________________\n",
      "dropout_11 (Dropout)         (None, 32)                0         \n",
      "_________________________________________________________________\n",
      "dense_16 (Dense)             (None, 32)                1056      \n",
      "_________________________________________________________________\n",
      "dropout_12 (Dropout)         (None, 32)                0         \n",
      "_________________________________________________________________\n",
      "dense_17 (Dense)             (None, 1)                 33        \n",
      "=================================================================\n",
      "Total params: 2,433\n",
      "Trainable params: 2,433\n",
      "Non-trainable params: 0\n",
      "_________________________________________________________________\n"
     ]
    }
   ],
   "source": [
    "model.summary()"
   ]
  },
  {
   "cell_type": "code",
   "execution_count": 0,
   "metadata": {
    "colab": {},
    "colab_type": "code",
    "id": "USCID36cfRbh"
   },
   "outputs": [],
   "source": [
    "# Compiling the model\n",
    "model.compile(optimizer='adam', loss='binary_crossentropy', metrics=['acc'])"
   ]
  },
  {
   "cell_type": "code",
   "execution_count": 131,
   "metadata": {
    "colab": {
     "base_uri": "https://localhost:8080/",
     "height": 3729
    },
    "colab_type": "code",
    "executionInfo": {
     "elapsed": 19226,
     "status": "ok",
     "timestamp": 1554216020628,
     "user": {
      "displayName": "Mohit Raj",
      "photoUrl": "https://lh4.googleusercontent.com/-THuQGyH-qf0/AAAAAAAAAAI/AAAAAAAAAKE/sT7jOYuqFyI/s64/photo.jpg",
      "userId": "17943522262909727589"
     },
     "user_tz": -330
    },
    "id": "1GpKkE_RfRbv",
    "outputId": "899a44b6-9956-4910-e73e-ca440d84903a"
   },
   "outputs": [
    {
     "name": "stdout",
     "output_type": "stream",
     "text": [
      "Train on 711 samples, validate on 178 samples\n",
      "Epoch 1/100\n",
      "711/711 [==============================] - 1s 1ms/step - loss: 0.6857 - acc: 0.5387 - val_loss: 0.6607 - val_acc: 0.6517\n",
      "Epoch 2/100\n",
      "711/711 [==============================] - 0s 206us/step - loss: 0.6617 - acc: 0.5949 - val_loss: 0.6348 - val_acc: 0.6461\n",
      "Epoch 3/100\n",
      "711/711 [==============================] - 0s 187us/step - loss: 0.6636 - acc: 0.5977 - val_loss: 0.6207 - val_acc: 0.6461\n",
      "Epoch 4/100\n",
      "711/711 [==============================] - 0s 194us/step - loss: 0.6523 - acc: 0.6090 - val_loss: 0.6121 - val_acc: 0.6461\n",
      "Epoch 5/100\n",
      "711/711 [==============================] - 0s 182us/step - loss: 0.6307 - acc: 0.6498 - val_loss: 0.5929 - val_acc: 0.6573\n",
      "Epoch 6/100\n",
      "711/711 [==============================] - 0s 184us/step - loss: 0.6294 - acc: 0.6414 - val_loss: 0.5711 - val_acc: 0.7472\n",
      "Epoch 7/100\n",
      "711/711 [==============================] - 0s 192us/step - loss: 0.6199 - acc: 0.6414 - val_loss: 0.5571 - val_acc: 0.7978\n",
      "Epoch 8/100\n",
      "711/711 [==============================] - 0s 181us/step - loss: 0.5953 - acc: 0.6920 - val_loss: 0.5455 - val_acc: 0.7978\n",
      "Epoch 9/100\n",
      "711/711 [==============================] - 0s 195us/step - loss: 0.5928 - acc: 0.6906 - val_loss: 0.5288 - val_acc: 0.7921\n",
      "Epoch 10/100\n",
      "711/711 [==============================] - 0s 231us/step - loss: 0.5895 - acc: 0.7243 - val_loss: 0.5154 - val_acc: 0.7978\n",
      "Epoch 11/100\n",
      "711/711 [==============================] - 0s 228us/step - loss: 0.5754 - acc: 0.7454 - val_loss: 0.4998 - val_acc: 0.7978\n",
      "Epoch 12/100\n",
      "711/711 [==============================] - 0s 216us/step - loss: 0.5706 - acc: 0.7215 - val_loss: 0.4903 - val_acc: 0.8034\n",
      "Epoch 13/100\n",
      "711/711 [==============================] - 0s 214us/step - loss: 0.5594 - acc: 0.7525 - val_loss: 0.4823 - val_acc: 0.7978\n",
      "Epoch 14/100\n",
      "711/711 [==============================] - 0s 220us/step - loss: 0.5775 - acc: 0.7482 - val_loss: 0.4777 - val_acc: 0.8034\n",
      "Epoch 15/100\n",
      "711/711 [==============================] - 0s 217us/step - loss: 0.5512 - acc: 0.7553 - val_loss: 0.4694 - val_acc: 0.8034\n",
      "Epoch 16/100\n",
      "711/711 [==============================] - 0s 243us/step - loss: 0.5623 - acc: 0.7454 - val_loss: 0.4697 - val_acc: 0.8034\n",
      "Epoch 17/100\n",
      "711/711 [==============================] - 0s 220us/step - loss: 0.5579 - acc: 0.7553 - val_loss: 0.4622 - val_acc: 0.8034\n",
      "Epoch 18/100\n",
      "711/711 [==============================] - 0s 211us/step - loss: 0.5728 - acc: 0.7370 - val_loss: 0.4683 - val_acc: 0.8034\n",
      "Epoch 19/100\n",
      "711/711 [==============================] - 0s 219us/step - loss: 0.5418 - acc: 0.7623 - val_loss: 0.4639 - val_acc: 0.8034\n",
      "Epoch 20/100\n",
      "711/711 [==============================] - 0s 213us/step - loss: 0.5271 - acc: 0.7665 - val_loss: 0.4543 - val_acc: 0.8202\n",
      "Epoch 21/100\n",
      "711/711 [==============================] - 0s 211us/step - loss: 0.5531 - acc: 0.7567 - val_loss: 0.4509 - val_acc: 0.8202\n",
      "Epoch 22/100\n",
      "711/711 [==============================] - 0s 220us/step - loss: 0.5247 - acc: 0.7778 - val_loss: 0.4459 - val_acc: 0.8258\n",
      "Epoch 23/100\n",
      "711/711 [==============================] - 0s 236us/step - loss: 0.5272 - acc: 0.7722 - val_loss: 0.4456 - val_acc: 0.8202\n",
      "Epoch 24/100\n",
      "711/711 [==============================] - 0s 214us/step - loss: 0.5256 - acc: 0.7750 - val_loss: 0.4439 - val_acc: 0.8202\n",
      "Epoch 25/100\n",
      "711/711 [==============================] - 0s 205us/step - loss: 0.5416 - acc: 0.7454 - val_loss: 0.4492 - val_acc: 0.8202\n",
      "Epoch 26/100\n",
      "711/711 [==============================] - 0s 216us/step - loss: 0.5107 - acc: 0.7918 - val_loss: 0.4423 - val_acc: 0.8202\n",
      "Epoch 27/100\n",
      "711/711 [==============================] - 0s 222us/step - loss: 0.5216 - acc: 0.7736 - val_loss: 0.4400 - val_acc: 0.8258\n",
      "Epoch 28/100\n",
      "711/711 [==============================] - 0s 223us/step - loss: 0.5223 - acc: 0.7778 - val_loss: 0.4362 - val_acc: 0.8258\n",
      "Epoch 29/100\n",
      "711/711 [==============================] - 0s 218us/step - loss: 0.5050 - acc: 0.7679 - val_loss: 0.4342 - val_acc: 0.8315\n",
      "Epoch 30/100\n",
      "711/711 [==============================] - 0s 242us/step - loss: 0.5110 - acc: 0.7778 - val_loss: 0.4346 - val_acc: 0.8258\n",
      "Epoch 31/100\n",
      "711/711 [==============================] - 0s 212us/step - loss: 0.5226 - acc: 0.7806 - val_loss: 0.4364 - val_acc: 0.8258\n",
      "Epoch 32/100\n",
      "711/711 [==============================] - 0s 218us/step - loss: 0.5217 - acc: 0.7820 - val_loss: 0.4353 - val_acc: 0.8315\n",
      "Epoch 33/100\n",
      "711/711 [==============================] - 0s 231us/step - loss: 0.5042 - acc: 0.7904 - val_loss: 0.4350 - val_acc: 0.8258\n",
      "Epoch 34/100\n",
      "711/711 [==============================] - 0s 225us/step - loss: 0.5245 - acc: 0.7764 - val_loss: 0.4340 - val_acc: 0.8315\n",
      "Epoch 35/100\n",
      "711/711 [==============================] - 0s 208us/step - loss: 0.5083 - acc: 0.7834 - val_loss: 0.4292 - val_acc: 0.8315\n",
      "Epoch 36/100\n",
      "711/711 [==============================] - 0s 240us/step - loss: 0.4938 - acc: 0.7862 - val_loss: 0.4294 - val_acc: 0.8315\n",
      "Epoch 37/100\n",
      "711/711 [==============================] - 0s 216us/step - loss: 0.5106 - acc: 0.7961 - val_loss: 0.4299 - val_acc: 0.8315\n",
      "Epoch 38/100\n",
      "711/711 [==============================] - 0s 208us/step - loss: 0.5103 - acc: 0.7806 - val_loss: 0.4319 - val_acc: 0.8315\n",
      "Epoch 39/100\n",
      "711/711 [==============================] - 0s 217us/step - loss: 0.4990 - acc: 0.7876 - val_loss: 0.4286 - val_acc: 0.8315\n",
      "Epoch 40/100\n",
      "711/711 [==============================] - 0s 224us/step - loss: 0.5093 - acc: 0.7862 - val_loss: 0.4345 - val_acc: 0.8315\n",
      "Epoch 41/100\n",
      "711/711 [==============================] - 0s 208us/step - loss: 0.5121 - acc: 0.7820 - val_loss: 0.4293 - val_acc: 0.8315\n",
      "Epoch 42/100\n",
      "711/711 [==============================] - 0s 213us/step - loss: 0.5224 - acc: 0.7834 - val_loss: 0.4375 - val_acc: 0.8371\n",
      "Epoch 43/100\n",
      "711/711 [==============================] - 0s 234us/step - loss: 0.5033 - acc: 0.7918 - val_loss: 0.4326 - val_acc: 0.8371\n",
      "Epoch 44/100\n",
      "711/711 [==============================] - 0s 213us/step - loss: 0.4933 - acc: 0.8003 - val_loss: 0.4274 - val_acc: 0.8371\n",
      "Epoch 45/100\n",
      "711/711 [==============================] - 0s 210us/step - loss: 0.4885 - acc: 0.7989 - val_loss: 0.4285 - val_acc: 0.8315\n",
      "Epoch 46/100\n",
      "711/711 [==============================] - 0s 207us/step - loss: 0.4866 - acc: 0.7918 - val_loss: 0.4197 - val_acc: 0.8315\n",
      "Epoch 47/100\n",
      "711/711 [==============================] - 0s 205us/step - loss: 0.5025 - acc: 0.7975 - val_loss: 0.4198 - val_acc: 0.8371\n",
      "Epoch 48/100\n",
      "711/711 [==============================] - 0s 215us/step - loss: 0.4917 - acc: 0.7975 - val_loss: 0.4225 - val_acc: 0.8371\n",
      "Epoch 49/100\n",
      "711/711 [==============================] - 0s 227us/step - loss: 0.4789 - acc: 0.7961 - val_loss: 0.4272 - val_acc: 0.8371\n",
      "Epoch 50/100\n",
      "711/711 [==============================] - 0s 216us/step - loss: 0.4820 - acc: 0.8003 - val_loss: 0.4217 - val_acc: 0.8371\n",
      "Epoch 51/100\n",
      "711/711 [==============================] - 0s 220us/step - loss: 0.4746 - acc: 0.7947 - val_loss: 0.4190 - val_acc: 0.8371\n",
      "Epoch 52/100\n",
      "711/711 [==============================] - 0s 228us/step - loss: 0.4896 - acc: 0.8003 - val_loss: 0.4222 - val_acc: 0.8371\n",
      "Epoch 53/100\n",
      "711/711 [==============================] - 0s 214us/step - loss: 0.5171 - acc: 0.7975 - val_loss: 0.4255 - val_acc: 0.8371\n",
      "Epoch 54/100\n",
      "711/711 [==============================] - 0s 221us/step - loss: 0.4992 - acc: 0.7848 - val_loss: 0.4226 - val_acc: 0.8315\n",
      "Epoch 55/100\n",
      "711/711 [==============================] - 0s 218us/step - loss: 0.5007 - acc: 0.7947 - val_loss: 0.4302 - val_acc: 0.8315\n",
      "Epoch 56/100\n",
      "711/711 [==============================] - 0s 244us/step - loss: 0.4972 - acc: 0.7961 - val_loss: 0.4245 - val_acc: 0.8371\n",
      "Epoch 57/100\n",
      "711/711 [==============================] - 0s 215us/step - loss: 0.5045 - acc: 0.7876 - val_loss: 0.4197 - val_acc: 0.8371\n",
      "Epoch 58/100\n",
      "711/711 [==============================] - 0s 225us/step - loss: 0.4897 - acc: 0.8073 - val_loss: 0.4236 - val_acc: 0.8371\n",
      "Epoch 59/100\n",
      "711/711 [==============================] - 0s 216us/step - loss: 0.5041 - acc: 0.7904 - val_loss: 0.4226 - val_acc: 0.8315\n",
      "Epoch 60/100\n",
      "711/711 [==============================] - 0s 220us/step - loss: 0.4946 - acc: 0.8087 - val_loss: 0.4200 - val_acc: 0.8315\n",
      "Epoch 61/100\n",
      "711/711 [==============================] - 0s 227us/step - loss: 0.4753 - acc: 0.7932 - val_loss: 0.4154 - val_acc: 0.8371\n",
      "Epoch 62/100\n",
      "711/711 [==============================] - 0s 222us/step - loss: 0.4830 - acc: 0.8017 - val_loss: 0.4176 - val_acc: 0.8371\n",
      "Epoch 63/100\n",
      "711/711 [==============================] - 0s 219us/step - loss: 0.4748 - acc: 0.8003 - val_loss: 0.4134 - val_acc: 0.8371\n",
      "Epoch 64/100\n",
      "711/711 [==============================] - 0s 212us/step - loss: 0.4866 - acc: 0.8115 - val_loss: 0.4149 - val_acc: 0.8371\n",
      "Epoch 65/100\n",
      "711/711 [==============================] - 0s 211us/step - loss: 0.4902 - acc: 0.8031 - val_loss: 0.4168 - val_acc: 0.8371\n",
      "Epoch 66/100\n",
      "711/711 [==============================] - 0s 216us/step - loss: 0.4928 - acc: 0.8045 - val_loss: 0.4214 - val_acc: 0.8371\n",
      "Epoch 67/100\n",
      "711/711 [==============================] - 0s 217us/step - loss: 0.4940 - acc: 0.7989 - val_loss: 0.4216 - val_acc: 0.8427\n",
      "Epoch 68/100\n",
      "711/711 [==============================] - 0s 226us/step - loss: 0.4777 - acc: 0.8087 - val_loss: 0.4191 - val_acc: 0.8371\n",
      "Epoch 69/100\n",
      "711/711 [==============================] - 0s 233us/step - loss: 0.4645 - acc: 0.7975 - val_loss: 0.4157 - val_acc: 0.8371\n",
      "Epoch 70/100\n",
      "711/711 [==============================] - 0s 231us/step - loss: 0.4886 - acc: 0.8017 - val_loss: 0.4160 - val_acc: 0.8371\n",
      "Epoch 71/100\n",
      "711/711 [==============================] - 0s 213us/step - loss: 0.4684 - acc: 0.7918 - val_loss: 0.4154 - val_acc: 0.8371\n",
      "Epoch 72/100\n",
      "711/711 [==============================] - 0s 211us/step - loss: 0.4869 - acc: 0.8031 - val_loss: 0.4164 - val_acc: 0.8427\n",
      "Epoch 73/100\n",
      "711/711 [==============================] - 0s 209us/step - loss: 0.4871 - acc: 0.7961 - val_loss: 0.4179 - val_acc: 0.8371\n",
      "Epoch 74/100\n",
      "711/711 [==============================] - 0s 212us/step - loss: 0.4642 - acc: 0.8073 - val_loss: 0.4143 - val_acc: 0.8427\n",
      "Epoch 75/100\n",
      "711/711 [==============================] - 0s 224us/step - loss: 0.4821 - acc: 0.8017 - val_loss: 0.4108 - val_acc: 0.8371\n",
      "Epoch 76/100\n",
      "711/711 [==============================] - 0s 234us/step - loss: 0.4823 - acc: 0.7989 - val_loss: 0.4137 - val_acc: 0.8427\n",
      "Epoch 77/100\n",
      "711/711 [==============================] - 0s 218us/step - loss: 0.4857 - acc: 0.7904 - val_loss: 0.4140 - val_acc: 0.8427\n",
      "Epoch 78/100\n",
      "711/711 [==============================] - 0s 213us/step - loss: 0.4758 - acc: 0.8045 - val_loss: 0.4118 - val_acc: 0.8315\n",
      "Epoch 79/100\n",
      "711/711 [==============================] - 0s 219us/step - loss: 0.4591 - acc: 0.8003 - val_loss: 0.4065 - val_acc: 0.8427\n",
      "Epoch 80/100\n",
      "711/711 [==============================] - 0s 222us/step - loss: 0.4820 - acc: 0.7975 - val_loss: 0.4060 - val_acc: 0.8427\n",
      "Epoch 81/100\n",
      "711/711 [==============================] - 0s 218us/step - loss: 0.4688 - acc: 0.8087 - val_loss: 0.4103 - val_acc: 0.8427\n",
      "Epoch 82/100\n",
      "711/711 [==============================] - 0s 238us/step - loss: 0.4675 - acc: 0.8059 - val_loss: 0.4139 - val_acc: 0.8427\n",
      "Epoch 83/100\n",
      "711/711 [==============================] - 0s 218us/step - loss: 0.4748 - acc: 0.7947 - val_loss: 0.4087 - val_acc: 0.8483\n",
      "Epoch 84/100\n",
      "711/711 [==============================] - 0s 225us/step - loss: 0.4721 - acc: 0.8003 - val_loss: 0.4084 - val_acc: 0.8427\n",
      "Epoch 85/100\n",
      "711/711 [==============================] - 0s 210us/step - loss: 0.4732 - acc: 0.8031 - val_loss: 0.4100 - val_acc: 0.8427\n",
      "Epoch 86/100\n",
      "711/711 [==============================] - 0s 203us/step - loss: 0.4697 - acc: 0.8087 - val_loss: 0.4087 - val_acc: 0.8427\n",
      "Epoch 87/100\n",
      "711/711 [==============================] - 0s 216us/step - loss: 0.4661 - acc: 0.8017 - val_loss: 0.4077 - val_acc: 0.8483\n",
      "Epoch 88/100\n",
      "711/711 [==============================] - 0s 210us/step - loss: 0.4763 - acc: 0.8017 - val_loss: 0.4084 - val_acc: 0.8427\n",
      "Epoch 89/100\n",
      "711/711 [==============================] - 0s 229us/step - loss: 0.4724 - acc: 0.8003 - val_loss: 0.4097 - val_acc: 0.8427\n",
      "Epoch 90/100\n",
      "711/711 [==============================] - 0s 217us/step - loss: 0.4653 - acc: 0.8031 - val_loss: 0.4091 - val_acc: 0.8427\n",
      "Epoch 91/100\n",
      "711/711 [==============================] - 0s 219us/step - loss: 0.4629 - acc: 0.8003 - val_loss: 0.4102 - val_acc: 0.8427\n",
      "Epoch 92/100\n",
      "711/711 [==============================] - 0s 223us/step - loss: 0.4701 - acc: 0.8003 - val_loss: 0.4072 - val_acc: 0.8427\n",
      "Epoch 93/100\n",
      "711/711 [==============================] - 0s 220us/step - loss: 0.4809 - acc: 0.8045 - val_loss: 0.4077 - val_acc: 0.8427\n",
      "Epoch 94/100\n",
      "711/711 [==============================] - 0s 224us/step - loss: 0.4563 - acc: 0.7961 - val_loss: 0.4039 - val_acc: 0.8427\n",
      "Epoch 95/100\n",
      "711/711 [==============================] - 0s 234us/step - loss: 0.4715 - acc: 0.8003 - val_loss: 0.4073 - val_acc: 0.8427\n",
      "Epoch 96/100\n",
      "711/711 [==============================] - 0s 213us/step - loss: 0.4629 - acc: 0.8017 - val_loss: 0.4090 - val_acc: 0.8427\n",
      "Epoch 97/100\n",
      "711/711 [==============================] - 0s 214us/step - loss: 0.4619 - acc: 0.8059 - val_loss: 0.4071 - val_acc: 0.8427\n",
      "Epoch 98/100\n",
      "711/711 [==============================] - 0s 221us/step - loss: 0.4775 - acc: 0.7918 - val_loss: 0.4069 - val_acc: 0.8427\n",
      "Epoch 99/100\n",
      "711/711 [==============================] - 0s 219us/step - loss: 0.4784 - acc: 0.8003 - val_loss: 0.4092 - val_acc: 0.8427\n",
      "Epoch 100/100\n",
      "711/711 [==============================] - 0s 216us/step - loss: 0.4858 - acc: 0.7904 - val_loss: 0.4068 - val_acc: 0.8371\n"
     ]
    }
   ],
   "source": [
    "# Fitting the train set to the model\n",
    "history = model.fit(X, y, epochs=100, batch_size=32, validation_split=0.2)"
   ]
  },
  {
   "cell_type": "code",
   "execution_count": 132,
   "metadata": {
    "colab": {
     "base_uri": "https://localhost:8080/",
     "height": 707
    },
    "colab_type": "code",
    "executionInfo": {
     "elapsed": 3203,
     "status": "ok",
     "timestamp": 1554216033778,
     "user": {
      "displayName": "Mohit Raj",
      "photoUrl": "https://lh4.googleusercontent.com/-THuQGyH-qf0/AAAAAAAAAAI/AAAAAAAAAKE/sT7jOYuqFyI/s64/photo.jpg",
      "userId": "17943522262909727589"
     },
     "user_tz": -330
    },
    "id": "jkgJ7uMjfRcE",
    "outputId": "7093d69e-455d-47ed-e3a7-51a8190e4fd1"
   },
   "outputs": [
    {
     "data": {
      "image/png": "[encoded data removed]",
      "text/plain": [
       "<Figure size 576x396 with 1 Axes>"
      ]
     },
     "metadata": {
      "tags": []
     },
     "output_type": "display_data"
    },
    {
     "data": {
      "image/png": "[encoded data removed]",
      "text/plain": [
       "<Figure size 576x396 with 1 Axes>"
      ]
     },
     "metadata": {
      "tags": []
     },
     "output_type": "display_data"
    }
   ],
   "source": [
    "# Plotting training and validation accuracy and loss against epochs.\n",
    "acc = history.history['acc']\n",
    "val_acc = history.history['val_acc']\n",
    "loss = history.history['loss']\n",
    "val_loss = history.history['val_loss']\n",
    "epochs = range(1, len(acc) + 1)\n",
    "plt.plot(epochs, acc, 'r', label='Training acc')\n",
    "plt.plot(epochs, val_acc, 'b', label='Validation acc')\n",
    "plt.title('Training and validation accuracy')\n",
    "plt.legend()\n",
    "plt.figure()\n",
    "plt.plot(epochs, loss, 'r', label='Training loss')\n",
    "plt.plot(epochs, val_loss, 'b', label='Validation loss')\n",
    "plt.title('Training and validation loss')\n",
    "plt.legend()\n",
    "plt.show()"
   ]
  },
  {
   "cell_type": "code",
   "execution_count": 0,
   "metadata": {
    "colab": {},
    "colab_type": "code",
    "id": "vMSMsPjTrlok"
   },
   "outputs": [],
   "source": [
    "# Again making modifications to the model. Changing the number of hidden units and removing the \n",
    "# additional layer.\n",
    "model = Sequential()\n",
    "model.add(Dense(64, activation='relu', input_shape=(8,)))\n",
    "model.add(Dropout(0.5))\n",
    "model.add(Dense(64, activation='relu'))\n",
    "model.add(Dropout(0.5))\n",
    "model.add(Dense(1, activation='sigmoid'))"
   ]
  },
  {
   "cell_type": "code",
   "execution_count": 177,
   "metadata": {
    "colab": {
     "base_uri": "https://localhost:8080/",
     "height": 329
    },
    "colab_type": "code",
    "executionInfo": {
     "elapsed": 1772,
     "status": "ok",
     "timestamp": 1554219187102,
     "user": {
      "displayName": "Mohit Raj",
      "photoUrl": "https://lh4.googleusercontent.com/-THuQGyH-qf0/AAAAAAAAAAI/AAAAAAAAAKE/sT7jOYuqFyI/s64/photo.jpg",
      "userId": "17943522262909727589"
     },
     "user_tz": -330
    },
    "id": "71FOTni2rlo6",
    "outputId": "55ebd7af-8ec3-4356-ebeb-283f0d864783"
   },
   "outputs": [
    {
     "name": "stdout",
     "output_type": "stream",
     "text": [
      "_________________________________________________________________\n",
      "Layer (type)                 Output Shape              Param #   \n",
      "=================================================================\n",
      "dense_18 (Dense)             (None, 64)                576       \n",
      "_________________________________________________________________\n",
      "dropout_13 (Dropout)         (None, 64)                0         \n",
      "_________________________________________________________________\n",
      "dense_19 (Dense)             (None, 64)                4160      \n",
      "_________________________________________________________________\n",
      "dropout_14 (Dropout)         (None, 64)                0         \n",
      "_________________________________________________________________\n",
      "dense_20 (Dense)             (None, 1)                 65        \n",
      "=================================================================\n",
      "Total params: 4,801\n",
      "Trainable params: 4,801\n",
      "Non-trainable params: 0\n",
      "_________________________________________________________________\n"
     ]
    }
   ],
   "source": [
    "model.summary()"
   ]
  },
  {
   "cell_type": "code",
   "execution_count": 0,
   "metadata": {
    "colab": {},
    "colab_type": "code",
    "id": "s2WxrhzprlpQ"
   },
   "outputs": [],
   "source": [
    "# Compiling the model\n",
    "model.compile(optimizer='adam', loss='binary_crossentropy', metrics=['acc'])"
   ]
  },
  {
   "cell_type": "code",
   "execution_count": 179,
   "metadata": {
    "colab": {
     "base_uri": "https://localhost:8080/",
     "height": 3729
    },
    "colab_type": "code",
    "executionInfo": {
     "elapsed": 16893,
     "status": "ok",
     "timestamp": 1554219219784,
     "user": {
      "displayName": "Mohit Raj",
      "photoUrl": "https://lh4.googleusercontent.com/-THuQGyH-qf0/AAAAAAAAAAI/AAAAAAAAAKE/sT7jOYuqFyI/s64/photo.jpg",
      "userId": "17943522262909727589"
     },
     "user_tz": -330
    },
    "id": "yiOd4IHHrlph",
    "outputId": "cfc9568e-8853-40c6-e86c-0f571a7e8855"
   },
   "outputs": [
    {
     "name": "stdout",
     "output_type": "stream",
     "text": [
      "Train on 711 samples, validate on 178 samples\n",
      "Epoch 1/100\n",
      "711/711 [==============================] - 1s 1ms/step - loss: 0.6621 - acc: 0.5837 - val_loss: 0.6098 - val_acc: 0.6461\n",
      "Epoch 2/100\n",
      "711/711 [==============================] - 0s 201us/step - loss: 0.6355 - acc: 0.6076 - val_loss: 0.5771 - val_acc: 0.6461\n",
      "Epoch 3/100\n",
      "711/711 [==============================] - 0s 187us/step - loss: 0.6056 - acc: 0.6470 - val_loss: 0.5536 - val_acc: 0.6629\n",
      "Epoch 4/100\n",
      "711/711 [==============================] - 0s 196us/step - loss: 0.5815 - acc: 0.6723 - val_loss: 0.5297 - val_acc: 0.7697\n",
      "Epoch 5/100\n",
      "711/711 [==============================] - 0s 187us/step - loss: 0.5798 - acc: 0.7257 - val_loss: 0.5130 - val_acc: 0.8258\n",
      "Epoch 6/100\n",
      "711/711 [==============================] - 0s 213us/step - loss: 0.5572 - acc: 0.7665 - val_loss: 0.4939 - val_acc: 0.8202\n",
      "Epoch 7/100\n",
      "711/711 [==============================] - 0s 190us/step - loss: 0.5434 - acc: 0.7679 - val_loss: 0.4798 - val_acc: 0.8202\n",
      "Epoch 8/100\n",
      "711/711 [==============================] - 0s 190us/step - loss: 0.5252 - acc: 0.7736 - val_loss: 0.4696 - val_acc: 0.8202\n",
      "Epoch 9/100\n",
      "711/711 [==============================] - 0s 184us/step - loss: 0.5272 - acc: 0.7862 - val_loss: 0.4585 - val_acc: 0.8202\n",
      "Epoch 10/100\n",
      "711/711 [==============================] - 0s 187us/step - loss: 0.5218 - acc: 0.7679 - val_loss: 0.4519 - val_acc: 0.8202\n",
      "Epoch 11/100\n",
      "711/711 [==============================] - 0s 186us/step - loss: 0.5103 - acc: 0.7806 - val_loss: 0.4463 - val_acc: 0.8202\n",
      "Epoch 12/100\n",
      "711/711 [==============================] - 0s 193us/step - loss: 0.5053 - acc: 0.7750 - val_loss: 0.4416 - val_acc: 0.8202\n",
      "Epoch 13/100\n",
      "711/711 [==============================] - 0s 209us/step - loss: 0.5017 - acc: 0.7904 - val_loss: 0.4374 - val_acc: 0.8202\n",
      "Epoch 14/100\n",
      "711/711 [==============================] - 0s 189us/step - loss: 0.5047 - acc: 0.7764 - val_loss: 0.4340 - val_acc: 0.8202\n",
      "Epoch 15/100\n",
      "711/711 [==============================] - 0s 185us/step - loss: 0.4974 - acc: 0.7806 - val_loss: 0.4309 - val_acc: 0.8202\n",
      "Epoch 16/100\n",
      "711/711 [==============================] - 0s 191us/step - loss: 0.4877 - acc: 0.7890 - val_loss: 0.4303 - val_acc: 0.8202\n",
      "Epoch 17/100\n",
      "711/711 [==============================] - 0s 193us/step - loss: 0.4917 - acc: 0.7904 - val_loss: 0.4252 - val_acc: 0.8202\n",
      "Epoch 18/100\n",
      "711/711 [==============================] - 0s 191us/step - loss: 0.4754 - acc: 0.7961 - val_loss: 0.4213 - val_acc: 0.8315\n",
      "Epoch 19/100\n",
      "711/711 [==============================] - 0s 196us/step - loss: 0.4840 - acc: 0.7918 - val_loss: 0.4220 - val_acc: 0.8202\n",
      "Epoch 20/100\n",
      "711/711 [==============================] - 0s 188us/step - loss: 0.4868 - acc: 0.7918 - val_loss: 0.4196 - val_acc: 0.8258\n",
      "Epoch 21/100\n",
      "711/711 [==============================] - 0s 207us/step - loss: 0.4809 - acc: 0.7932 - val_loss: 0.4171 - val_acc: 0.8315\n",
      "Epoch 22/100\n",
      "711/711 [==============================] - 0s 192us/step - loss: 0.4725 - acc: 0.7961 - val_loss: 0.4138 - val_acc: 0.8427\n",
      "Epoch 23/100\n",
      "711/711 [==============================] - 0s 186us/step - loss: 0.4843 - acc: 0.7961 - val_loss: 0.4139 - val_acc: 0.8427\n",
      "Epoch 24/100\n",
      "711/711 [==============================] - 0s 188us/step - loss: 0.4731 - acc: 0.7932 - val_loss: 0.4138 - val_acc: 0.8315\n",
      "Epoch 25/100\n",
      "711/711 [==============================] - 0s 187us/step - loss: 0.4682 - acc: 0.7947 - val_loss: 0.4107 - val_acc: 0.8427\n",
      "Epoch 26/100\n",
      "711/711 [==============================] - 0s 193us/step - loss: 0.4764 - acc: 0.7961 - val_loss: 0.4110 - val_acc: 0.8427\n",
      "Epoch 27/100\n",
      "711/711 [==============================] - 0s 187us/step - loss: 0.4598 - acc: 0.7989 - val_loss: 0.4082 - val_acc: 0.8315\n",
      "Epoch 28/100\n",
      "711/711 [==============================] - 0s 207us/step - loss: 0.4678 - acc: 0.8087 - val_loss: 0.4101 - val_acc: 0.8315\n",
      "Epoch 29/100\n",
      "711/711 [==============================] - 0s 191us/step - loss: 0.4802 - acc: 0.7989 - val_loss: 0.4070 - val_acc: 0.8427\n",
      "Epoch 30/100\n",
      "711/711 [==============================] - 0s 186us/step - loss: 0.4748 - acc: 0.8003 - val_loss: 0.4086 - val_acc: 0.8427\n",
      "Epoch 31/100\n",
      "711/711 [==============================] - 0s 189us/step - loss: 0.4706 - acc: 0.7947 - val_loss: 0.4104 - val_acc: 0.8315\n",
      "Epoch 32/100\n",
      "711/711 [==============================] - 0s 190us/step - loss: 0.4735 - acc: 0.7848 - val_loss: 0.4040 - val_acc: 0.8371\n",
      "Epoch 33/100\n",
      "711/711 [==============================] - 0s 189us/step - loss: 0.4711 - acc: 0.8031 - val_loss: 0.4066 - val_acc: 0.8427\n",
      "Epoch 34/100\n",
      "711/711 [==============================] - 0s 184us/step - loss: 0.4695 - acc: 0.7989 - val_loss: 0.4072 - val_acc: 0.8427\n",
      "Epoch 35/100\n",
      "711/711 [==============================] - 0s 186us/step - loss: 0.4718 - acc: 0.8101 - val_loss: 0.4061 - val_acc: 0.8483\n",
      "Epoch 36/100\n",
      "711/711 [==============================] - 0s 212us/step - loss: 0.4709 - acc: 0.7961 - val_loss: 0.4073 - val_acc: 0.8427\n",
      "Epoch 37/100\n",
      "711/711 [==============================] - 0s 201us/step - loss: 0.4682 - acc: 0.8031 - val_loss: 0.4052 - val_acc: 0.8371\n",
      "Epoch 38/100\n",
      "711/711 [==============================] - 0s 193us/step - loss: 0.4614 - acc: 0.7932 - val_loss: 0.4048 - val_acc: 0.8483\n",
      "Epoch 39/100\n",
      "711/711 [==============================] - 0s 186us/step - loss: 0.4668 - acc: 0.7975 - val_loss: 0.4007 - val_acc: 0.8315\n",
      "Epoch 40/100\n",
      "711/711 [==============================] - 0s 190us/step - loss: 0.4655 - acc: 0.8031 - val_loss: 0.4045 - val_acc: 0.8483\n",
      "Epoch 41/100\n",
      "711/711 [==============================] - 0s 186us/step - loss: 0.4740 - acc: 0.7834 - val_loss: 0.4004 - val_acc: 0.8315\n",
      "Epoch 42/100\n",
      "711/711 [==============================] - 0s 182us/step - loss: 0.4718 - acc: 0.7947 - val_loss: 0.4041 - val_acc: 0.8483\n",
      "Epoch 43/100\n",
      "711/711 [==============================] - 0s 200us/step - loss: 0.4570 - acc: 0.8003 - val_loss: 0.3989 - val_acc: 0.8315\n",
      "Epoch 44/100\n",
      "711/711 [==============================] - 0s 207us/step - loss: 0.4626 - acc: 0.8017 - val_loss: 0.4000 - val_acc: 0.8427\n",
      "Epoch 45/100\n",
      "711/711 [==============================] - 0s 185us/step - loss: 0.4662 - acc: 0.8031 - val_loss: 0.4027 - val_acc: 0.8483\n",
      "Epoch 46/100\n",
      "711/711 [==============================] - 0s 188us/step - loss: 0.4546 - acc: 0.8045 - val_loss: 0.3977 - val_acc: 0.8315\n",
      "Epoch 47/100\n",
      "711/711 [==============================] - 0s 186us/step - loss: 0.4635 - acc: 0.8101 - val_loss: 0.3955 - val_acc: 0.8371\n",
      "Epoch 48/100\n",
      "711/711 [==============================] - 0s 186us/step - loss: 0.4534 - acc: 0.8045 - val_loss: 0.3980 - val_acc: 0.8483\n",
      "Epoch 49/100\n",
      "711/711 [==============================] - 0s 193us/step - loss: 0.4507 - acc: 0.8115 - val_loss: 0.3981 - val_acc: 0.8483\n",
      "Epoch 50/100\n",
      "711/711 [==============================] - 0s 190us/step - loss: 0.4600 - acc: 0.7947 - val_loss: 0.3990 - val_acc: 0.8483\n",
      "Epoch 51/100\n",
      "711/711 [==============================] - 0s 214us/step - loss: 0.4502 - acc: 0.7989 - val_loss: 0.3950 - val_acc: 0.8371\n",
      "Epoch 52/100\n",
      "711/711 [==============================] - 0s 189us/step - loss: 0.4482 - acc: 0.8031 - val_loss: 0.3940 - val_acc: 0.8371\n",
      "Epoch 53/100\n",
      "711/711 [==============================] - 0s 186us/step - loss: 0.4520 - acc: 0.8101 - val_loss: 0.3933 - val_acc: 0.8483\n",
      "Epoch 54/100\n",
      "711/711 [==============================] - 0s 189us/step - loss: 0.4707 - acc: 0.8003 - val_loss: 0.3915 - val_acc: 0.8371\n",
      "Epoch 55/100\n",
      "711/711 [==============================] - 0s 185us/step - loss: 0.4773 - acc: 0.7932 - val_loss: 0.3933 - val_acc: 0.8371\n",
      "Epoch 56/100\n",
      "711/711 [==============================] - 0s 179us/step - loss: 0.4635 - acc: 0.7989 - val_loss: 0.3969 - val_acc: 0.8371\n",
      "Epoch 57/100\n",
      "711/711 [==============================] - 0s 180us/step - loss: 0.4650 - acc: 0.7989 - val_loss: 0.3918 - val_acc: 0.8371\n",
      "Epoch 58/100\n",
      "711/711 [==============================] - 0s 202us/step - loss: 0.4550 - acc: 0.8045 - val_loss: 0.3938 - val_acc: 0.8371\n",
      "Epoch 59/100\n",
      "711/711 [==============================] - 0s 184us/step - loss: 0.4499 - acc: 0.7918 - val_loss: 0.3948 - val_acc: 0.8483\n",
      "Epoch 60/100\n",
      "711/711 [==============================] - 0s 188us/step - loss: 0.4521 - acc: 0.8087 - val_loss: 0.3919 - val_acc: 0.8483\n",
      "Epoch 61/100\n",
      "711/711 [==============================] - 0s 196us/step - loss: 0.4487 - acc: 0.7947 - val_loss: 0.3891 - val_acc: 0.8427\n",
      "Epoch 62/100\n",
      "711/711 [==============================] - 0s 195us/step - loss: 0.4449 - acc: 0.8186 - val_loss: 0.3874 - val_acc: 0.8427\n",
      "Epoch 63/100\n",
      "711/711 [==============================] - 0s 194us/step - loss: 0.4465 - acc: 0.8073 - val_loss: 0.3884 - val_acc: 0.8371\n",
      "Epoch 64/100\n",
      "711/711 [==============================] - 0s 191us/step - loss: 0.4491 - acc: 0.8115 - val_loss: 0.3918 - val_acc: 0.8483\n",
      "Epoch 65/100\n",
      "711/711 [==============================] - 0s 195us/step - loss: 0.4708 - acc: 0.8045 - val_loss: 0.3891 - val_acc: 0.8427\n",
      "Epoch 66/100\n",
      "711/711 [==============================] - 0s 218us/step - loss: 0.4647 - acc: 0.8073 - val_loss: 0.3914 - val_acc: 0.8427\n",
      "Epoch 67/100\n",
      "711/711 [==============================] - 0s 194us/step - loss: 0.4443 - acc: 0.8129 - val_loss: 0.3879 - val_acc: 0.8483\n",
      "Epoch 68/100\n",
      "711/711 [==============================] - 0s 196us/step - loss: 0.4608 - acc: 0.8115 - val_loss: 0.3892 - val_acc: 0.8427\n",
      "Epoch 69/100\n",
      "711/711 [==============================] - 0s 175us/step - loss: 0.4605 - acc: 0.7961 - val_loss: 0.3878 - val_acc: 0.8483\n",
      "Epoch 70/100\n",
      "711/711 [==============================] - 0s 195us/step - loss: 0.4546 - acc: 0.8031 - val_loss: 0.3892 - val_acc: 0.8427\n",
      "Epoch 71/100\n",
      "711/711 [==============================] - 0s 194us/step - loss: 0.4528 - acc: 0.8045 - val_loss: 0.3917 - val_acc: 0.8427\n",
      "Epoch 72/100\n",
      "711/711 [==============================] - 0s 201us/step - loss: 0.4732 - acc: 0.7918 - val_loss: 0.3930 - val_acc: 0.8371\n",
      "Epoch 73/100\n",
      "711/711 [==============================] - 0s 211us/step - loss: 0.4507 - acc: 0.8158 - val_loss: 0.3888 - val_acc: 0.8427\n",
      "Epoch 74/100\n",
      "711/711 [==============================] - 0s 199us/step - loss: 0.4433 - acc: 0.8059 - val_loss: 0.3880 - val_acc: 0.8427\n",
      "Epoch 75/100\n",
      "711/711 [==============================] - 0s 189us/step - loss: 0.4485 - acc: 0.8101 - val_loss: 0.3870 - val_acc: 0.8427\n",
      "Epoch 76/100\n",
      "711/711 [==============================] - 0s 172us/step - loss: 0.4563 - acc: 0.8017 - val_loss: 0.3878 - val_acc: 0.8483\n",
      "Epoch 77/100\n",
      "711/711 [==============================] - 0s 198us/step - loss: 0.4652 - acc: 0.8073 - val_loss: 0.3880 - val_acc: 0.8483\n",
      "Epoch 78/100\n",
      "711/711 [==============================] - 0s 195us/step - loss: 0.4551 - acc: 0.8017 - val_loss: 0.3862 - val_acc: 0.8371\n",
      "Epoch 79/100\n",
      "711/711 [==============================] - 0s 195us/step - loss: 0.4500 - acc: 0.8031 - val_loss: 0.3866 - val_acc: 0.8371\n",
      "Epoch 80/100\n",
      "711/711 [==============================] - 0s 214us/step - loss: 0.4613 - acc: 0.7975 - val_loss: 0.3862 - val_acc: 0.8371\n",
      "Epoch 81/100\n",
      "711/711 [==============================] - 0s 193us/step - loss: 0.4561 - acc: 0.8031 - val_loss: 0.3852 - val_acc: 0.8427\n",
      "Epoch 82/100\n",
      "711/711 [==============================] - 0s 208us/step - loss: 0.4493 - acc: 0.8101 - val_loss: 0.3895 - val_acc: 0.8483\n",
      "Epoch 83/100\n",
      "711/711 [==============================] - 0s 198us/step - loss: 0.4469 - acc: 0.7961 - val_loss: 0.3864 - val_acc: 0.8483\n",
      "Epoch 84/100\n",
      "711/711 [==============================] - 0s 196us/step - loss: 0.4441 - acc: 0.8073 - val_loss: 0.3832 - val_acc: 0.8371\n",
      "Epoch 85/100\n",
      "711/711 [==============================] - 0s 194us/step - loss: 0.4475 - acc: 0.8045 - val_loss: 0.3855 - val_acc: 0.8371\n",
      "Epoch 86/100\n",
      "711/711 [==============================] - 0s 197us/step - loss: 0.4423 - acc: 0.7989 - val_loss: 0.3832 - val_acc: 0.8371\n",
      "Epoch 87/100\n",
      "711/711 [==============================] - 0s 197us/step - loss: 0.4491 - acc: 0.8115 - val_loss: 0.3852 - val_acc: 0.8483\n",
      "Epoch 88/100\n",
      "711/711 [==============================] - 0s 210us/step - loss: 0.4379 - acc: 0.8129 - val_loss: 0.3829 - val_acc: 0.8483\n",
      "Epoch 89/100\n",
      "711/711 [==============================] - 0s 194us/step - loss: 0.4389 - acc: 0.8172 - val_loss: 0.3849 - val_acc: 0.8483\n",
      "Epoch 90/100\n",
      "711/711 [==============================] - 0s 199us/step - loss: 0.4284 - acc: 0.8256 - val_loss: 0.3834 - val_acc: 0.8483\n",
      "Epoch 91/100\n",
      "711/711 [==============================] - 0s 214us/step - loss: 0.4415 - acc: 0.8115 - val_loss: 0.3842 - val_acc: 0.8483\n",
      "Epoch 92/100\n",
      "711/711 [==============================] - 0s 194us/step - loss: 0.4543 - acc: 0.7947 - val_loss: 0.3829 - val_acc: 0.8427\n",
      "Epoch 93/100\n",
      "711/711 [==============================] - 0s 186us/step - loss: 0.4622 - acc: 0.7947 - val_loss: 0.3867 - val_acc: 0.8483\n",
      "Epoch 94/100\n",
      "711/711 [==============================] - 0s 190us/step - loss: 0.4498 - acc: 0.8031 - val_loss: 0.3836 - val_acc: 0.8371\n",
      "Epoch 95/100\n",
      "711/711 [==============================] - 0s 222us/step - loss: 0.4439 - acc: 0.8045 - val_loss: 0.3843 - val_acc: 0.8371\n",
      "Epoch 96/100\n",
      "711/711 [==============================] - 0s 191us/step - loss: 0.4585 - acc: 0.8017 - val_loss: 0.3840 - val_acc: 0.8427\n",
      "Epoch 97/100\n",
      "711/711 [==============================] - 0s 189us/step - loss: 0.4494 - acc: 0.8045 - val_loss: 0.3824 - val_acc: 0.8371\n",
      "Epoch 98/100\n",
      "711/711 [==============================] - 0s 194us/step - loss: 0.4436 - acc: 0.8143 - val_loss: 0.3843 - val_acc: 0.8427\n",
      "Epoch 99/100\n",
      "711/711 [==============================] - 0s 190us/step - loss: 0.4435 - acc: 0.8101 - val_loss: 0.3849 - val_acc: 0.8427\n",
      "Epoch 100/100\n",
      "711/711 [==============================] - 0s 195us/step - loss: 0.4416 - acc: 0.8087 - val_loss: 0.3814 - val_acc: 0.8371\n"
     ]
    }
   ],
   "source": [
    "# Fitting the train set to the model\n",
    "history = model.fit(X, y, epochs=100, batch_size=32, validation_split=0.2)"
   ]
  },
  {
   "cell_type": "code",
   "execution_count": 180,
   "metadata": {
    "colab": {
     "base_uri": "https://localhost:8080/",
     "height": 707
    },
    "colab_type": "code",
    "executionInfo": {
     "elapsed": 3736,
     "status": "ok",
     "timestamp": 1554219283468,
     "user": {
      "displayName": "Mohit Raj",
      "photoUrl": "https://lh4.googleusercontent.com/-THuQGyH-qf0/AAAAAAAAAAI/AAAAAAAAAKE/sT7jOYuqFyI/s64/photo.jpg",
      "userId": "17943522262909727589"
     },
     "user_tz": -330
    },
    "id": "eMYj_P_Qrlp4",
    "outputId": "3ac5f36d-75eb-45bc-cb6b-1fec91aa230e"
   },
   "outputs": [
    {
     "data": {
      "image/png": "[encoded data removed]",
      "text/plain": [
       "<Figure size 576x396 with 1 Axes>"
      ]
     },
     "metadata": {
      "tags": []
     },
     "output_type": "display_data"
    },
    {
     "data": {
      "image/png": "[encoded data removed]",
      "text/plain": [
       "<Figure size 576x396 with 1 Axes>"
      ]
     },
     "metadata": {
      "tags": []
     },
     "output_type": "display_data"
    }
   ],
   "source": [
    "# Plotting training and validation accuracy and loss against epochs.\n",
    "acc = history.history['acc']\n",
    "val_acc = history.history['val_acc']\n",
    "loss = history.history['loss']\n",
    "val_loss = history.history['val_loss']\n",
    "epochs = range(1, len(acc) + 1)\n",
    "plt.plot(epochs, acc, 'r', label='Training acc')\n",
    "plt.plot(epochs, val_acc, 'b', label='Validation acc')\n",
    "plt.title('Training and validation accuracy')\n",
    "plt.legend()\n",
    "plt.figure()\n",
    "plt.plot(epochs, loss, 'r', label='Training loss')\n",
    "plt.plot(epochs, val_loss, 'b', label='Validation loss')\n",
    "plt.title('Training and validation loss')\n",
    "plt.legend()\n",
    "plt.show()"
   ]
  },
  {
   "cell_type": "code",
   "execution_count": 0,
   "metadata": {
    "colab": {},
    "colab_type": "code",
    "id": "icRNtLaato8T"
   },
   "outputs": [],
   "source": [
    "# Adding another layer to previous model.\n",
    "model = Sequential()\n",
    "model.add(Dense(64, activation='relu', input_shape=(8,)))\n",
    "model.add(Dropout(0.5))\n",
    "model.add(Dense(64, activation='relu'))\n",
    "model.add(Dropout(0.5))\n",
    "model.add(Dense(64, activation='relu'))\n",
    "model.add(Dropout(0.5))\n",
    "model.add(Dense(1, activation='sigmoid'))"
   ]
  },
  {
   "cell_type": "code",
   "execution_count": 206,
   "metadata": {
    "colab": {
     "base_uri": "https://localhost:8080/",
     "height": 403
    },
    "colab_type": "code",
    "executionInfo": {
     "elapsed": 3241,
     "status": "ok",
     "timestamp": 1554220797405,
     "user": {
      "displayName": "Mohit Raj",
      "photoUrl": "https://lh4.googleusercontent.com/-THuQGyH-qf0/AAAAAAAAAAI/AAAAAAAAAKE/sT7jOYuqFyI/s64/photo.jpg",
      "userId": "17943522262909727589"
     },
     "user_tz": -330
    },
    "id": "NQSvqrCfto8v",
    "outputId": "4481b558-cd42-4acb-9f2c-c22ce777724d"
   },
   "outputs": [
    {
     "name": "stdout",
     "output_type": "stream",
     "text": [
      "_________________________________________________________________\n",
      "Layer (type)                 Output Shape              Param #   \n",
      "=================================================================\n",
      "dense_29 (Dense)             (None, 64)                576       \n",
      "_________________________________________________________________\n",
      "dropout_21 (Dropout)         (None, 64)                0         \n",
      "_________________________________________________________________\n",
      "dense_30 (Dense)             (None, 64)                4160      \n",
      "_________________________________________________________________\n",
      "dropout_22 (Dropout)         (None, 64)                0         \n",
      "_________________________________________________________________\n",
      "dense_31 (Dense)             (None, 64)                4160      \n",
      "_________________________________________________________________\n",
      "dropout_23 (Dropout)         (None, 64)                0         \n",
      "_________________________________________________________________\n",
      "dense_32 (Dense)             (None, 1)                 65        \n",
      "=================================================================\n",
      "Total params: 8,961\n",
      "Trainable params: 8,961\n",
      "Non-trainable params: 0\n",
      "_________________________________________________________________\n"
     ]
    }
   ],
   "source": [
    "model.summary()"
   ]
  },
  {
   "cell_type": "code",
   "execution_count": 0,
   "metadata": {
    "colab": {},
    "colab_type": "code",
    "id": "qvUFr3joto9E"
   },
   "outputs": [],
   "source": [
    "# Compiling the model\n",
    "model.compile(optimizer='adam', loss='binary_crossentropy', metrics=['acc'])"
   ]
  },
  {
   "cell_type": "code",
   "execution_count": 208,
   "metadata": {
    "colab": {
     "base_uri": "https://localhost:8080/",
     "height": 3729
    },
    "colab_type": "code",
    "executionInfo": {
     "elapsed": 19524,
     "status": "ok",
     "timestamp": 1554220822674,
     "user": {
      "displayName": "Mohit Raj",
      "photoUrl": "https://lh4.googleusercontent.com/-THuQGyH-qf0/AAAAAAAAAAI/AAAAAAAAAKE/sT7jOYuqFyI/s64/photo.jpg",
      "userId": "17943522262909727589"
     },
     "user_tz": -330
    },
    "id": "EVn83_LCto9W",
    "outputId": "396e85e7-8931-4f8e-c750-2d52195dc3ce"
   },
   "outputs": [
    {
     "name": "stdout",
     "output_type": "stream",
     "text": [
      "Train on 711 samples, validate on 178 samples\n",
      "Epoch 1/100\n",
      "711/711 [==============================] - 1s 2ms/step - loss: 0.6780 - acc: 0.5682 - val_loss: 0.6249 - val_acc: 0.6461\n",
      "Epoch 2/100\n",
      "711/711 [==============================] - 0s 190us/step - loss: 0.6366 - acc: 0.6076 - val_loss: 0.5883 - val_acc: 0.6461\n",
      "Epoch 3/100\n",
      "711/711 [==============================] - 0s 189us/step - loss: 0.6072 - acc: 0.6315 - val_loss: 0.5604 - val_acc: 0.6685\n",
      "Epoch 4/100\n",
      "711/711 [==============================] - 0s 234us/step - loss: 0.6052 - acc: 0.6723 - val_loss: 0.5438 - val_acc: 0.7697\n",
      "Epoch 5/100\n",
      "711/711 [==============================] - 0s 222us/step - loss: 0.5918 - acc: 0.7328 - val_loss: 0.5211 - val_acc: 0.7865\n",
      "Epoch 6/100\n",
      "711/711 [==============================] - 0s 213us/step - loss: 0.5803 - acc: 0.7511 - val_loss: 0.4994 - val_acc: 0.7865\n",
      "Epoch 7/100\n",
      "711/711 [==============================] - 0s 216us/step - loss: 0.5518 - acc: 0.7567 - val_loss: 0.4801 - val_acc: 0.7865\n",
      "Epoch 8/100\n",
      "711/711 [==============================] - 0s 219us/step - loss: 0.5513 - acc: 0.7553 - val_loss: 0.4699 - val_acc: 0.7921\n",
      "Epoch 9/100\n",
      "711/711 [==============================] - 0s 214us/step - loss: 0.5266 - acc: 0.7609 - val_loss: 0.4634 - val_acc: 0.7921\n",
      "Epoch 10/100\n",
      "711/711 [==============================] - 0s 228us/step - loss: 0.5146 - acc: 0.7834 - val_loss: 0.4589 - val_acc: 0.7921\n",
      "Epoch 11/100\n",
      "711/711 [==============================] - 0s 238us/step - loss: 0.5350 - acc: 0.7750 - val_loss: 0.4526 - val_acc: 0.7865\n",
      "Epoch 12/100\n",
      "711/711 [==============================] - 0s 214us/step - loss: 0.5100 - acc: 0.7862 - val_loss: 0.4473 - val_acc: 0.7865\n",
      "Epoch 13/100\n",
      "711/711 [==============================] - 0s 214us/step - loss: 0.5021 - acc: 0.7862 - val_loss: 0.4422 - val_acc: 0.7865\n",
      "Epoch 14/100\n",
      "711/711 [==============================] - 0s 216us/step - loss: 0.4974 - acc: 0.7876 - val_loss: 0.4375 - val_acc: 0.8146\n",
      "Epoch 15/100\n",
      "711/711 [==============================] - 0s 221us/step - loss: 0.4960 - acc: 0.7904 - val_loss: 0.4355 - val_acc: 0.8202\n",
      "Epoch 16/100\n",
      "711/711 [==============================] - 0s 212us/step - loss: 0.4994 - acc: 0.7820 - val_loss: 0.4363 - val_acc: 0.8315\n",
      "Epoch 17/100\n",
      "711/711 [==============================] - 0s 246us/step - loss: 0.4937 - acc: 0.7820 - val_loss: 0.4326 - val_acc: 0.8202\n",
      "Epoch 18/100\n",
      "711/711 [==============================] - 0s 212us/step - loss: 0.4929 - acc: 0.7792 - val_loss: 0.4277 - val_acc: 0.8202\n",
      "Epoch 19/100\n",
      "711/711 [==============================] - 0s 215us/step - loss: 0.4789 - acc: 0.7989 - val_loss: 0.4283 - val_acc: 0.8258\n",
      "Epoch 20/100\n",
      "711/711 [==============================] - 0s 213us/step - loss: 0.4953 - acc: 0.7834 - val_loss: 0.4307 - val_acc: 0.8315\n",
      "Epoch 21/100\n",
      "711/711 [==============================] - 0s 219us/step - loss: 0.4875 - acc: 0.7918 - val_loss: 0.4299 - val_acc: 0.8202\n",
      "Epoch 22/100\n",
      "711/711 [==============================] - 0s 219us/step - loss: 0.4874 - acc: 0.8045 - val_loss: 0.4273 - val_acc: 0.8315\n",
      "Epoch 23/100\n",
      "711/711 [==============================] - 0s 226us/step - loss: 0.4858 - acc: 0.7989 - val_loss: 0.4277 - val_acc: 0.8258\n",
      "Epoch 24/100\n",
      "711/711 [==============================] - 0s 243us/step - loss: 0.4622 - acc: 0.7890 - val_loss: 0.4259 - val_acc: 0.8202\n",
      "Epoch 25/100\n",
      "711/711 [==============================] - 0s 209us/step - loss: 0.4884 - acc: 0.7947 - val_loss: 0.4241 - val_acc: 0.8371\n",
      "Epoch 26/100\n",
      "711/711 [==============================] - 0s 207us/step - loss: 0.4597 - acc: 0.8003 - val_loss: 0.4184 - val_acc: 0.8258\n",
      "Epoch 27/100\n",
      "711/711 [==============================] - 0s 227us/step - loss: 0.4672 - acc: 0.7961 - val_loss: 0.4179 - val_acc: 0.8258\n",
      "Epoch 28/100\n",
      "711/711 [==============================] - 0s 216us/step - loss: 0.4773 - acc: 0.7989 - val_loss: 0.4208 - val_acc: 0.8427\n",
      "Epoch 29/100\n",
      "711/711 [==============================] - 0s 204us/step - loss: 0.4855 - acc: 0.7975 - val_loss: 0.4145 - val_acc: 0.8315\n",
      "Epoch 30/100\n",
      "711/711 [==============================] - 0s 243us/step - loss: 0.4765 - acc: 0.7961 - val_loss: 0.4252 - val_acc: 0.8427\n",
      "Epoch 31/100\n",
      "711/711 [==============================] - 0s 229us/step - loss: 0.4755 - acc: 0.7961 - val_loss: 0.4189 - val_acc: 0.8315\n",
      "Epoch 32/100\n",
      "711/711 [==============================] - 0s 216us/step - loss: 0.4884 - acc: 0.7989 - val_loss: 0.4199 - val_acc: 0.8315\n",
      "Epoch 33/100\n",
      "711/711 [==============================] - 0s 221us/step - loss: 0.4652 - acc: 0.8045 - val_loss: 0.4147 - val_acc: 0.8315\n",
      "Epoch 34/100\n",
      "711/711 [==============================] - 0s 216us/step - loss: 0.4464 - acc: 0.8045 - val_loss: 0.4094 - val_acc: 0.8315\n",
      "Epoch 35/100\n",
      "711/711 [==============================] - 0s 220us/step - loss: 0.4766 - acc: 0.8017 - val_loss: 0.4092 - val_acc: 0.8315\n",
      "Epoch 36/100\n",
      "711/711 [==============================] - 0s 222us/step - loss: 0.4746 - acc: 0.8045 - val_loss: 0.4154 - val_acc: 0.8371\n",
      "Epoch 37/100\n",
      "711/711 [==============================] - 0s 246us/step - loss: 0.4825 - acc: 0.7890 - val_loss: 0.4155 - val_acc: 0.8427\n",
      "Epoch 38/100\n",
      "711/711 [==============================] - 0s 216us/step - loss: 0.4712 - acc: 0.8031 - val_loss: 0.4101 - val_acc: 0.8315\n",
      "Epoch 39/100\n",
      "711/711 [==============================] - 0s 217us/step - loss: 0.4782 - acc: 0.8045 - val_loss: 0.4131 - val_acc: 0.8371\n",
      "Epoch 40/100\n",
      "711/711 [==============================] - 0s 227us/step - loss: 0.4738 - acc: 0.7947 - val_loss: 0.4116 - val_acc: 0.8315\n",
      "Epoch 41/100\n",
      "711/711 [==============================] - 0s 220us/step - loss: 0.4736 - acc: 0.7989 - val_loss: 0.4079 - val_acc: 0.8371\n",
      "Epoch 42/100\n",
      "711/711 [==============================] - 0s 224us/step - loss: 0.4750 - acc: 0.8031 - val_loss: 0.4126 - val_acc: 0.8315\n",
      "Epoch 43/100\n",
      "711/711 [==============================] - 0s 230us/step - loss: 0.4729 - acc: 0.8031 - val_loss: 0.4113 - val_acc: 0.8427\n",
      "Epoch 44/100\n",
      "711/711 [==============================] - 0s 238us/step - loss: 0.4534 - acc: 0.7989 - val_loss: 0.4081 - val_acc: 0.8315\n",
      "Epoch 45/100\n",
      "711/711 [==============================] - 0s 219us/step - loss: 0.4751 - acc: 0.8003 - val_loss: 0.4132 - val_acc: 0.8427\n",
      "Epoch 46/100\n",
      "711/711 [==============================] - 0s 211us/step - loss: 0.4668 - acc: 0.8045 - val_loss: 0.4076 - val_acc: 0.8315\n",
      "Epoch 47/100\n",
      "711/711 [==============================] - 0s 222us/step - loss: 0.4584 - acc: 0.8143 - val_loss: 0.4119 - val_acc: 0.8427\n",
      "Epoch 48/100\n",
      "711/711 [==============================] - 0s 224us/step - loss: 0.4738 - acc: 0.7932 - val_loss: 0.4127 - val_acc: 0.8315\n",
      "Epoch 49/100\n",
      "711/711 [==============================] - 0s 225us/step - loss: 0.4604 - acc: 0.8017 - val_loss: 0.4111 - val_acc: 0.8371\n",
      "Epoch 50/100\n",
      "711/711 [==============================] - 0s 250us/step - loss: 0.4754 - acc: 0.8087 - val_loss: 0.4100 - val_acc: 0.8427\n",
      "Epoch 51/100\n",
      "711/711 [==============================] - 0s 214us/step - loss: 0.4535 - acc: 0.8101 - val_loss: 0.4038 - val_acc: 0.8427\n",
      "Epoch 52/100\n",
      "711/711 [==============================] - 0s 223us/step - loss: 0.4650 - acc: 0.8003 - val_loss: 0.4074 - val_acc: 0.8427\n",
      "Epoch 53/100\n",
      "711/711 [==============================] - 0s 223us/step - loss: 0.4631 - acc: 0.8017 - val_loss: 0.4034 - val_acc: 0.8315\n",
      "Epoch 54/100\n",
      "711/711 [==============================] - 0s 209us/step - loss: 0.4596 - acc: 0.8017 - val_loss: 0.4065 - val_acc: 0.8315\n",
      "Epoch 55/100\n",
      "711/711 [==============================] - 0s 229us/step - loss: 0.4486 - acc: 0.8158 - val_loss: 0.4082 - val_acc: 0.8315\n",
      "Epoch 56/100\n",
      "711/711 [==============================] - 0s 217us/step - loss: 0.4683 - acc: 0.7947 - val_loss: 0.4045 - val_acc: 0.8483\n",
      "Epoch 57/100\n",
      "711/711 [==============================] - 0s 238us/step - loss: 0.4573 - acc: 0.7989 - val_loss: 0.4066 - val_acc: 0.8539\n",
      "Epoch 58/100\n",
      "711/711 [==============================] - 0s 223us/step - loss: 0.4542 - acc: 0.8073 - val_loss: 0.4069 - val_acc: 0.8427\n",
      "Epoch 59/100\n",
      "711/711 [==============================] - 0s 214us/step - loss: 0.4531 - acc: 0.8172 - val_loss: 0.4054 - val_acc: 0.8427\n",
      "Epoch 60/100\n",
      "711/711 [==============================] - 0s 228us/step - loss: 0.4660 - acc: 0.7975 - val_loss: 0.4061 - val_acc: 0.8427\n",
      "Epoch 61/100\n",
      "711/711 [==============================] - 0s 217us/step - loss: 0.4606 - acc: 0.8031 - val_loss: 0.4059 - val_acc: 0.8483\n",
      "Epoch 62/100\n",
      "711/711 [==============================] - 0s 215us/step - loss: 0.4618 - acc: 0.8143 - val_loss: 0.4032 - val_acc: 0.8427\n",
      "Epoch 63/100\n",
      "711/711 [==============================] - 0s 249us/step - loss: 0.4414 - acc: 0.7961 - val_loss: 0.4016 - val_acc: 0.8483\n",
      "Epoch 64/100\n",
      "711/711 [==============================] - 0s 218us/step - loss: 0.4525 - acc: 0.7989 - val_loss: 0.4009 - val_acc: 0.8483\n",
      "Epoch 65/100\n",
      "711/711 [==============================] - 0s 215us/step - loss: 0.4581 - acc: 0.7961 - val_loss: 0.4011 - val_acc: 0.8371\n",
      "Epoch 66/100\n",
      "711/711 [==============================] - 0s 230us/step - loss: 0.4600 - acc: 0.8045 - val_loss: 0.4029 - val_acc: 0.8315\n",
      "Epoch 67/100\n",
      "711/711 [==============================] - 0s 208us/step - loss: 0.4600 - acc: 0.7989 - val_loss: 0.4042 - val_acc: 0.8371\n",
      "Epoch 68/100\n",
      "711/711 [==============================] - 0s 216us/step - loss: 0.4640 - acc: 0.8073 - val_loss: 0.3988 - val_acc: 0.8427\n",
      "Epoch 69/100\n",
      "711/711 [==============================] - 0s 222us/step - loss: 0.4504 - acc: 0.8214 - val_loss: 0.4031 - val_acc: 0.8483\n",
      "Epoch 70/100\n",
      "711/711 [==============================] - 0s 247us/step - loss: 0.4442 - acc: 0.8087 - val_loss: 0.3985 - val_acc: 0.8483\n",
      "Epoch 71/100\n",
      "711/711 [==============================] - 0s 220us/step - loss: 0.4501 - acc: 0.8003 - val_loss: 0.3969 - val_acc: 0.8427\n",
      "Epoch 72/100\n",
      "711/711 [==============================] - 0s 217us/step - loss: 0.4468 - acc: 0.8017 - val_loss: 0.3988 - val_acc: 0.8371\n",
      "Epoch 73/100\n",
      "711/711 [==============================] - 0s 210us/step - loss: 0.4419 - acc: 0.8129 - val_loss: 0.3984 - val_acc: 0.8539\n",
      "Epoch 74/100\n",
      "711/711 [==============================] - 0s 221us/step - loss: 0.4608 - acc: 0.7918 - val_loss: 0.3978 - val_acc: 0.8539\n",
      "Epoch 75/100\n",
      "711/711 [==============================] - 0s 227us/step - loss: 0.4456 - acc: 0.8101 - val_loss: 0.3978 - val_acc: 0.8427\n",
      "Epoch 76/100\n",
      "711/711 [==============================] - 0s 232us/step - loss: 0.4572 - acc: 0.8101 - val_loss: 0.4020 - val_acc: 0.8483\n",
      "Epoch 77/100\n",
      "711/711 [==============================] - 0s 226us/step - loss: 0.4659 - acc: 0.8087 - val_loss: 0.3995 - val_acc: 0.8427\n",
      "Epoch 78/100\n",
      "711/711 [==============================] - 0s 232us/step - loss: 0.4425 - acc: 0.8017 - val_loss: 0.3951 - val_acc: 0.8371\n",
      "Epoch 79/100\n",
      "711/711 [==============================] - 0s 223us/step - loss: 0.4572 - acc: 0.8129 - val_loss: 0.3969 - val_acc: 0.8427\n",
      "Epoch 80/100\n",
      "711/711 [==============================] - 0s 215us/step - loss: 0.4429 - acc: 0.8017 - val_loss: 0.3994 - val_acc: 0.8315\n",
      "Epoch 81/100\n",
      "711/711 [==============================] - 0s 225us/step - loss: 0.4481 - acc: 0.8158 - val_loss: 0.3941 - val_acc: 0.8258\n",
      "Epoch 82/100\n",
      "711/711 [==============================] - 0s 217us/step - loss: 0.4712 - acc: 0.7975 - val_loss: 0.3986 - val_acc: 0.8315\n",
      "Epoch 83/100\n",
      "711/711 [==============================] - 0s 246us/step - loss: 0.4535 - acc: 0.8101 - val_loss: 0.3977 - val_acc: 0.8146\n",
      "Epoch 84/100\n",
      "711/711 [==============================] - 0s 213us/step - loss: 0.4484 - acc: 0.8045 - val_loss: 0.3960 - val_acc: 0.8315\n",
      "Epoch 85/100\n",
      "711/711 [==============================] - 0s 221us/step - loss: 0.4477 - acc: 0.8017 - val_loss: 0.3978 - val_acc: 0.8258\n",
      "Epoch 86/100\n",
      "711/711 [==============================] - 0s 225us/step - loss: 0.4599 - acc: 0.7975 - val_loss: 0.3987 - val_acc: 0.8371\n",
      "Epoch 87/100\n",
      "711/711 [==============================] - 0s 215us/step - loss: 0.4496 - acc: 0.8031 - val_loss: 0.3934 - val_acc: 0.8315\n",
      "Epoch 88/100\n",
      "711/711 [==============================] - 0s 221us/step - loss: 0.4436 - acc: 0.8129 - val_loss: 0.3908 - val_acc: 0.8371\n",
      "Epoch 89/100\n",
      "711/711 [==============================] - 0s 236us/step - loss: 0.4364 - acc: 0.8115 - val_loss: 0.3893 - val_acc: 0.8371\n",
      "Epoch 90/100\n",
      "711/711 [==============================] - 0s 227us/step - loss: 0.4434 - acc: 0.8073 - val_loss: 0.3952 - val_acc: 0.8258\n",
      "Epoch 91/100\n",
      "711/711 [==============================] - 0s 213us/step - loss: 0.4560 - acc: 0.8017 - val_loss: 0.3938 - val_acc: 0.8371\n",
      "Epoch 92/100\n",
      "711/711 [==============================] - 0s 212us/step - loss: 0.4451 - acc: 0.7989 - val_loss: 0.3935 - val_acc: 0.8427\n",
      "Epoch 93/100\n",
      "711/711 [==============================] - 0s 223us/step - loss: 0.4368 - acc: 0.8073 - val_loss: 0.3942 - val_acc: 0.8427\n",
      "Epoch 94/100\n",
      "711/711 [==============================] - 0s 235us/step - loss: 0.4512 - acc: 0.8143 - val_loss: 0.3927 - val_acc: 0.8371\n",
      "Epoch 95/100\n",
      "711/711 [==============================] - 0s 214us/step - loss: 0.4504 - acc: 0.7961 - val_loss: 0.3913 - val_acc: 0.8596\n",
      "Epoch 96/100\n",
      "711/711 [==============================] - 0s 250us/step - loss: 0.4448 - acc: 0.7947 - val_loss: 0.3907 - val_acc: 0.8427\n",
      "Epoch 97/100\n",
      "711/711 [==============================] - 0s 226us/step - loss: 0.4462 - acc: 0.8143 - val_loss: 0.3917 - val_acc: 0.8427\n",
      "Epoch 98/100\n",
      "711/711 [==============================] - 0s 210us/step - loss: 0.4486 - acc: 0.8059 - val_loss: 0.3909 - val_acc: 0.8427\n",
      "Epoch 99/100\n",
      "711/711 [==============================] - 0s 227us/step - loss: 0.4384 - acc: 0.8031 - val_loss: 0.3924 - val_acc: 0.8146\n",
      "Epoch 100/100\n",
      "711/711 [==============================] - 0s 215us/step - loss: 0.4500 - acc: 0.8003 - val_loss: 0.3913 - val_acc: 0.8202\n"
     ]
    }
   ],
   "source": [
    "# Fitting the train set to the model\n",
    "history = model.fit(X, y, epochs=100, batch_size=32, validation_split=0.2)"
   ]
  },
  {
   "cell_type": "code",
   "execution_count": 209,
   "metadata": {
    "colab": {
     "base_uri": "https://localhost:8080/",
     "height": 707
    },
    "colab_type": "code",
    "executionInfo": {
     "elapsed": 4151,
     "status": "ok",
     "timestamp": 1554220834009,
     "user": {
      "displayName": "Mohit Raj",
      "photoUrl": "https://lh4.googleusercontent.com/-THuQGyH-qf0/AAAAAAAAAAI/AAAAAAAAAKE/sT7jOYuqFyI/s64/photo.jpg",
      "userId": "17943522262909727589"
     },
     "user_tz": -330
    },
    "id": "ttCwz-M4to9p",
    "outputId": "bf33fbd0-65ad-4ab1-9617-ae420722bb2e"
   },
   "outputs": [
    {
     "data": {
      "image/png": "[encoded data removed]",
      "text/plain": [
       "<Figure size 576x396 with 1 Axes>"
      ]
     },
     "metadata": {
      "tags": []
     },
     "output_type": "display_data"
    },
    {
     "data": {
      "image/png": "[encoded data removed]",
      "text/plain": [
       "<Figure size 576x396 with 1 Axes>"
      ]
     },
     "metadata": {
      "tags": []
     },
     "output_type": "display_data"
    }
   ],
   "source": [
    "# Plotting training and validation accuracy and loss against epochs.\n",
    "acc = history.history['acc']\n",
    "val_acc = history.history['val_acc']\n",
    "loss = history.history['loss']\n",
    "val_loss = history.history['val_loss']\n",
    "epochs = range(1, len(acc) + 1)\n",
    "plt.plot(epochs, acc, 'r', label='Training acc')\n",
    "plt.plot(epochs, val_acc, 'b', label='Validation acc')\n",
    "plt.title('Training and validation accuracy')\n",
    "plt.legend()\n",
    "plt.figure()\n",
    "plt.plot(epochs, loss, 'r', label='Training loss')\n",
    "plt.plot(epochs, val_loss, 'b', label='Validation loss')\n",
    "plt.title('Training and validation loss')\n",
    "plt.legend()\n",
    "plt.show()"
   ]
  },
  {
   "cell_type": "code",
   "execution_count": 0,
   "metadata": {
    "colab": {},
    "colab_type": "code",
    "id": "RepWBJ1cxYIh"
   },
   "outputs": [],
   "source": [
    "# Will use this model with 3 hidden layers containing 64 hidden units each on test set."
   ]
  },
  {
   "cell_type": "code",
   "execution_count": 0,
   "metadata": {
    "colab": {},
    "colab_type": "code",
    "id": "2uNQ-vDVyNcL"
   },
   "outputs": [],
   "source": []
  },
  {
   "cell_type": "markdown",
   "metadata": {
    "colab_type": "text",
    "id": "fZmusGDCOagv"
   },
   "source": [
    "## Further Improvement\n",
    "The performance can be further improved by:\n",
    "1. Spending more time on tuning the hyperparameters of the ANN.\n",
    "2. Using powerful boosting algorithms like XGBoost and LGBM."
   ]
  },
  {
   "cell_type": "code",
   "execution_count": 0,
   "metadata": {
    "colab": {},
    "colab_type": "code",
    "id": "HF3cFTYhOagv"
   },
   "outputs": [],
   "source": []
  },
  {
   "cell_type": "markdown",
   "metadata": {
    "colab_type": "text",
    "id": "vhhM5Vm0OaYU"
   },
   "source": [
    "## Importing the test set"
   ]
  },
  {
   "cell_type": "code",
   "execution_count": 144,
   "metadata": {
    "colab": {
     "base_uri": "https://localhost:8080/",
     "height": 241
    },
    "colab_type": "code",
    "executionInfo": {
     "elapsed": 2815,
     "status": "ok",
     "timestamp": 1554217329200,
     "user": {
      "displayName": "Mohit Raj",
      "photoUrl": "https://lh4.googleusercontent.com/-THuQGyH-qf0/AAAAAAAAAAI/AAAAAAAAAKE/sT7jOYuqFyI/s64/photo.jpg",
      "userId": "17943522262909727589"
     },
     "user_tz": -330
    },
    "id": "LMkOreNrOaaB",
    "outputId": "deba5478-3a8b-400f-e839-2fd7df22e1c7"
   },
   "outputs": [
    {
     "data": {
      "text/html": [
       "<div>\n",
       "<style scoped>\n",
       "    .dataframe tbody tr th:only-of-type {\n",
       "        vertical-align: middle;\n",
       "    }\n",
       "\n",
       "    .dataframe tbody tr th {\n",
       "        vertical-align: top;\n",
       "    }\n",
       "\n",
       "    .dataframe thead th {\n",
       "        text-align: right;\n",
       "    }\n",
       "</style>\n",
       "<table border=\"1\" class=\"dataframe\">\n",
       "  <thead>\n",
       "    <tr style=\"text-align: right;\">\n",
       "      <th></th>\n",
       "      <th>PassengerId</th>\n",
       "      <th>Pclass</th>\n",
       "      <th>Name</th>\n",
       "      <th>Sex</th>\n",
       "      <th>Age</th>\n",
       "      <th>SibSp</th>\n",
       "      <th>Parch</th>\n",
       "      <th>Ticket</th>\n",
       "      <th>Fare</th>\n",
       "      <th>Cabin</th>\n",
       "      <th>Embarked</th>\n",
       "    </tr>\n",
       "  </thead>\n",
       "  <tbody>\n",
       "    <tr>\n",
       "      <th>0</th>\n",
       "      <td>892</td>\n",
       "      <td>3</td>\n",
       "      <td>Kelly, Mr. James</td>\n",
       "      <td>male</td>\n",
       "      <td>34.5</td>\n",
       "      <td>0</td>\n",
       "      <td>0</td>\n",
       "      <td>330911</td>\n",
       "      <td>7.8292</td>\n",
       "      <td>NaN</td>\n",
       "      <td>Q</td>\n",
       "    </tr>\n",
       "    <tr>\n",
       "      <th>1</th>\n",
       "      <td>893</td>\n",
       "      <td>3</td>\n",
       "      <td>Wilkes, Mrs. James (Ellen Needs)</td>\n",
       "      <td>female</td>\n",
       "      <td>47.0</td>\n",
       "      <td>1</td>\n",
       "      <td>0</td>\n",
       "      <td>363272</td>\n",
       "      <td>7.0000</td>\n",
       "      <td>NaN</td>\n",
       "      <td>S</td>\n",
       "    </tr>\n",
       "    <tr>\n",
       "      <th>2</th>\n",
       "      <td>894</td>\n",
       "      <td>2</td>\n",
       "      <td>Myles, Mr. Thomas Francis</td>\n",
       "      <td>male</td>\n",
       "      <td>62.0</td>\n",
       "      <td>0</td>\n",
       "      <td>0</td>\n",
       "      <td>240276</td>\n",
       "      <td>9.6875</td>\n",
       "      <td>NaN</td>\n",
       "      <td>Q</td>\n",
       "    </tr>\n",
       "    <tr>\n",
       "      <th>3</th>\n",
       "      <td>895</td>\n",
       "      <td>3</td>\n",
       "      <td>Wirz, Mr. Albert</td>\n",
       "      <td>male</td>\n",
       "      <td>27.0</td>\n",
       "      <td>0</td>\n",
       "      <td>0</td>\n",
       "      <td>315154</td>\n",
       "      <td>8.6625</td>\n",
       "      <td>NaN</td>\n",
       "      <td>S</td>\n",
       "    </tr>\n",
       "    <tr>\n",
       "      <th>4</th>\n",
       "      <td>896</td>\n",
       "      <td>3</td>\n",
       "      <td>Hirvonen, Mrs. Alexander (Helga E Lindqvist)</td>\n",
       "      <td>female</td>\n",
       "      <td>22.0</td>\n",
       "      <td>1</td>\n",
       "      <td>1</td>\n",
       "      <td>3101298</td>\n",
       "      <td>12.2875</td>\n",
       "      <td>NaN</td>\n",
       "      <td>S</td>\n",
       "    </tr>\n",
       "  </tbody>\n",
       "</table>\n",
       "</div>"
      ],
      "text/plain": [
       "   PassengerId  Pclass                                          Name     Sex  \\\n",
       "0          892       3                              Kelly, Mr. James    male   \n",
       "1          893       3              Wilkes, Mrs. James (Ellen Needs)  female   \n",
       "2          894       2                     Myles, Mr. Thomas Francis    male   \n",
       "3          895       3                              Wirz, Mr. Albert    male   \n",
       "4          896       3  Hirvonen, Mrs. Alexander (Helga E Lindqvist)  female   \n",
       "\n",
       "    Age  SibSp  Parch   Ticket     Fare Cabin Embarked  \n",
       "0  34.5      0      0   330911   7.8292   NaN        Q  \n",
       "1  47.0      1      0   363272   7.0000   NaN        S  \n",
       "2  62.0      0      0   240276   9.6875   NaN        Q  \n",
       "3  27.0      0      0   315154   8.6625   NaN        S  \n",
       "4  22.0      1      1  3101298  12.2875   NaN        S  "
      ]
     },
     "execution_count": 144,
     "metadata": {
      "tags": []
     },
     "output_type": "execute_result"
    }
   ],
   "source": [
    "df_test = pd.read_csv('/content/drive/My Drive/Colab Notebooks/Internships/Titanic/data/test.csv')\n",
    "df_test.head()"
   ]
  },
  {
   "cell_type": "markdown",
   "metadata": {
    "colab_type": "text",
    "id": "JdXTCabnOaaM"
   },
   "source": [
    "## Analyzing and modifying the test set"
   ]
  },
  {
   "cell_type": "code",
   "execution_count": 145,
   "metadata": {
    "colab": {
     "base_uri": "https://localhost:8080/",
     "height": 311
    },
    "colab_type": "code",
    "executionInfo": {
     "elapsed": 4252,
     "status": "ok",
     "timestamp": 1554217343131,
     "user": {
      "displayName": "Mohit Raj",
      "photoUrl": "https://lh4.googleusercontent.com/-THuQGyH-qf0/AAAAAAAAAAI/AAAAAAAAAKE/sT7jOYuqFyI/s64/photo.jpg",
      "userId": "17943522262909727589"
     },
     "user_tz": -330
    },
    "id": "fXA6SD65OaaN",
    "outputId": "0893d28d-a697-4d0e-ddde-0bbb8434a92e"
   },
   "outputs": [
    {
     "name": "stdout",
     "output_type": "stream",
     "text": [
      "<class 'pandas.core.frame.DataFrame'>\n",
      "RangeIndex: 418 entries, 0 to 417\n",
      "Data columns (total 11 columns):\n",
      "PassengerId    418 non-null int64\n",
      "Pclass         418 non-null int64\n",
      "Name           418 non-null object\n",
      "Sex            418 non-null object\n",
      "Age            332 non-null float64\n",
      "SibSp          418 non-null int64\n",
      "Parch          418 non-null int64\n",
      "Ticket         418 non-null object\n",
      "Fare           417 non-null float64\n",
      "Cabin          91 non-null object\n",
      "Embarked       418 non-null object\n",
      "dtypes: float64(2), int64(4), object(5)\n",
      "memory usage: 36.0+ KB\n"
     ]
    }
   ],
   "source": [
    "df_test.info()"
   ]
  },
  {
   "cell_type": "code",
   "execution_count": 146,
   "metadata": {
    "colab": {
     "base_uri": "https://localhost:8080/",
     "height": 90
    },
    "colab_type": "code",
    "executionInfo": {
     "elapsed": 2364,
     "status": "ok",
     "timestamp": 1554217348601,
     "user": {
      "displayName": "Mohit Raj",
      "photoUrl": "https://lh4.googleusercontent.com/-THuQGyH-qf0/AAAAAAAAAAI/AAAAAAAAAKE/sT7jOYuqFyI/s64/photo.jpg",
      "userId": "17943522262909727589"
     },
     "user_tz": -330
    },
    "id": "PT4IqLj1Oaag",
    "outputId": "1cbeb599-dc51-46b3-be35-ea3e07af8c44"
   },
   "outputs": [
    {
     "data": {
      "text/plain": [
       "3    218\n",
       "1    107\n",
       "2     93\n",
       "Name: Pclass, dtype: int64"
      ]
     },
     "execution_count": 146,
     "metadata": {
      "tags": []
     },
     "output_type": "execute_result"
    }
   ],
   "source": [
    "df_test.Pclass.value_counts()"
   ]
  },
  {
   "cell_type": "code",
   "execution_count": 147,
   "metadata": {
    "colab": {
     "base_uri": "https://localhost:8080/",
     "height": 72
    },
    "colab_type": "code",
    "executionInfo": {
     "elapsed": 2719,
     "status": "ok",
     "timestamp": 1554217353512,
     "user": {
      "displayName": "Mohit Raj",
      "photoUrl": "https://lh4.googleusercontent.com/-THuQGyH-qf0/AAAAAAAAAAI/AAAAAAAAAKE/sT7jOYuqFyI/s64/photo.jpg",
      "userId": "17943522262909727589"
     },
     "user_tz": -330
    },
    "id": "Jbys4Ef5Oaaw",
    "outputId": "8f493235-5e43-41c7-a989-0871059b4f78"
   },
   "outputs": [
    {
     "data": {
      "text/plain": [
       "male      266\n",
       "female    152\n",
       "Name: Sex, dtype: int64"
      ]
     },
     "execution_count": 147,
     "metadata": {
      "tags": []
     },
     "output_type": "execute_result"
    }
   ],
   "source": [
    "df_test.Sex.value_counts()"
   ]
  },
  {
   "cell_type": "code",
   "execution_count": 148,
   "metadata": {
    "colab": {
     "base_uri": "https://localhost:8080/",
     "height": 35
    },
    "colab_type": "code",
    "executionInfo": {
     "elapsed": 2248,
     "status": "ok",
     "timestamp": 1554217359960,
     "user": {
      "displayName": "Mohit Raj",
      "photoUrl": "https://lh4.googleusercontent.com/-THuQGyH-qf0/AAAAAAAAAAI/AAAAAAAAAKE/sT7jOYuqFyI/s64/photo.jpg",
      "userId": "17943522262909727589"
     },
     "user_tz": -330
    },
    "id": "M4G3bGJjOabe",
    "outputId": "650d09d3-b504-473b-ce62-1e02b1987c39"
   },
   "outputs": [
    {
     "data": {
      "text/plain": [
       "86"
      ]
     },
     "execution_count": 148,
     "metadata": {
      "tags": []
     },
     "output_type": "execute_result"
    }
   ],
   "source": [
    "df_test.Age.isnull().sum()"
   ]
  },
  {
   "cell_type": "code",
   "execution_count": 0,
   "metadata": {
    "colab": {},
    "colab_type": "code",
    "id": "J2vdDpzrOabr"
   },
   "outputs": [],
   "source": [
    "# Filling the NA values in Age with mean value in a new column.\n",
    "df_test['Age_NA_Is_Mean'] = df_test.Age.fillna(df_test.Age.mean())"
   ]
  },
  {
   "cell_type": "code",
   "execution_count": 150,
   "metadata": {
    "colab": {
     "base_uri": "https://localhost:8080/",
     "height": 164
    },
    "colab_type": "code",
    "executionInfo": {
     "elapsed": 2542,
     "status": "ok",
     "timestamp": 1554217366354,
     "user": {
      "displayName": "Mohit Raj",
      "photoUrl": "https://lh4.googleusercontent.com/-THuQGyH-qf0/AAAAAAAAAAI/AAAAAAAAAKE/sT7jOYuqFyI/s64/photo.jpg",
      "userId": "17943522262909727589"
     },
     "user_tz": -330
    },
    "id": "lFfXmL0SOacC",
    "outputId": "d585707f-787a-44f4-f3a0-7bd077c4acc9"
   },
   "outputs": [
    {
     "data": {
      "text/plain": [
       "0    283\n",
       "1    110\n",
       "2     14\n",
       "4      4\n",
       "3      4\n",
       "8      2\n",
       "5      1\n",
       "Name: SibSp, dtype: int64"
      ]
     },
     "execution_count": 150,
     "metadata": {
      "tags": []
     },
     "output_type": "execute_result"
    }
   ],
   "source": [
    "df_test.SibSp.value_counts()"
   ]
  },
  {
   "cell_type": "code",
   "execution_count": 151,
   "metadata": {
    "colab": {
     "base_uri": "https://localhost:8080/",
     "height": 182
    },
    "colab_type": "code",
    "executionInfo": {
     "elapsed": 2711,
     "status": "ok",
     "timestamp": 1554217370853,
     "user": {
      "displayName": "Mohit Raj",
      "photoUrl": "https://lh4.googleusercontent.com/-THuQGyH-qf0/AAAAAAAAAAI/AAAAAAAAAKE/sT7jOYuqFyI/s64/photo.jpg",
      "userId": "17943522262909727589"
     },
     "user_tz": -330
    },
    "id": "Nt36GWXMOacj",
    "outputId": "7db7217a-b4dd-4a8c-f70f-9878341b9793"
   },
   "outputs": [
    {
     "data": {
      "text/plain": [
       "0    324\n",
       "1     52\n",
       "2     33\n",
       "3      3\n",
       "9      2\n",
       "4      2\n",
       "6      1\n",
       "5      1\n",
       "Name: Parch, dtype: int64"
      ]
     },
     "execution_count": 151,
     "metadata": {
      "tags": []
     },
     "output_type": "execute_result"
    }
   ],
   "source": [
    "df_test.Parch.value_counts()"
   ]
  },
  {
   "cell_type": "code",
   "execution_count": 152,
   "metadata": {
    "colab": {
     "base_uri": "https://localhost:8080/",
     "height": 98
    },
    "colab_type": "code",
    "executionInfo": {
     "elapsed": 3035,
     "status": "ok",
     "timestamp": 1554217375001,
     "user": {
      "displayName": "Mohit Raj",
      "photoUrl": "https://lh4.googleusercontent.com/-THuQGyH-qf0/AAAAAAAAAAI/AAAAAAAAAKE/sT7jOYuqFyI/s64/photo.jpg",
      "userId": "17943522262909727589"
     },
     "user_tz": -330
    },
    "id": "2Bl0JW9zOadW",
    "outputId": "30e9e17b-c8a3-4cc2-d153-cbb470be6aae"
   },
   "outputs": [
    {
     "data": {
      "text/html": [
       "<div>\n",
       "<style scoped>\n",
       "    .dataframe tbody tr th:only-of-type {\n",
       "        vertical-align: middle;\n",
       "    }\n",
       "\n",
       "    .dataframe tbody tr th {\n",
       "        vertical-align: top;\n",
       "    }\n",
       "\n",
       "    .dataframe thead th {\n",
       "        text-align: right;\n",
       "    }\n",
       "</style>\n",
       "<table border=\"1\" class=\"dataframe\">\n",
       "  <thead>\n",
       "    <tr style=\"text-align: right;\">\n",
       "      <th></th>\n",
       "      <th>PassengerId</th>\n",
       "      <th>Pclass</th>\n",
       "      <th>Name</th>\n",
       "      <th>Sex</th>\n",
       "      <th>Age</th>\n",
       "      <th>SibSp</th>\n",
       "      <th>Parch</th>\n",
       "      <th>Ticket</th>\n",
       "      <th>Fare</th>\n",
       "      <th>Cabin</th>\n",
       "      <th>Embarked</th>\n",
       "      <th>Age_NA_Is_Mean</th>\n",
       "    </tr>\n",
       "  </thead>\n",
       "  <tbody>\n",
       "    <tr>\n",
       "      <th>152</th>\n",
       "      <td>1044</td>\n",
       "      <td>3</td>\n",
       "      <td>Storey, Mr. Thomas</td>\n",
       "      <td>male</td>\n",
       "      <td>60.5</td>\n",
       "      <td>0</td>\n",
       "      <td>0</td>\n",
       "      <td>3701</td>\n",
       "      <td>NaN</td>\n",
       "      <td>NaN</td>\n",
       "      <td>S</td>\n",
       "      <td>60.5</td>\n",
       "    </tr>\n",
       "  </tbody>\n",
       "</table>\n",
       "</div>"
      ],
      "text/plain": [
       "     PassengerId  Pclass                Name   Sex   Age  SibSp  Parch Ticket  \\\n",
       "152         1044       3  Storey, Mr. Thomas  male  60.5      0      0   3701   \n",
       "\n",
       "     Fare Cabin Embarked  Age_NA_Is_Mean  \n",
       "152   NaN   NaN        S            60.5  "
      ]
     },
     "execution_count": 152,
     "metadata": {
      "tags": []
     },
     "output_type": "execute_result"
    }
   ],
   "source": [
    "df_test[df_test.Fare.isnull()]"
   ]
  },
  {
   "cell_type": "code",
   "execution_count": 0,
   "metadata": {
    "colab": {},
    "colab_type": "code",
    "id": "EWjdQ3inOadg"
   },
   "outputs": [],
   "source": [
    "df_test.Fare.fillna(df_test[(df_test.Embarked == 'S') & (df_test.Pclass == 3) & (df_test.SibSp == 0) \n",
    "        & (df_test.Parch == 0)].Fare.mean(), inplace=True)"
   ]
  },
  {
   "cell_type": "code",
   "execution_count": 154,
   "metadata": {
    "colab": {
     "base_uri": "https://localhost:8080/",
     "height": 90
    },
    "colab_type": "code",
    "executionInfo": {
     "elapsed": 2198,
     "status": "ok",
     "timestamp": 1554217382091,
     "user": {
      "displayName": "Mohit Raj",
      "photoUrl": "https://lh4.googleusercontent.com/-THuQGyH-qf0/AAAAAAAAAAI/AAAAAAAAAKE/sT7jOYuqFyI/s64/photo.jpg",
      "userId": "17943522262909727589"
     },
     "user_tz": -330
    },
    "id": "wnUqyqgaOadp",
    "outputId": "1cf7a109-3962-4f19-e434-5309f4014b9c"
   },
   "outputs": [
    {
     "data": {
      "text/plain": [
       "S    270\n",
       "C    102\n",
       "Q     46\n",
       "Name: Embarked, dtype: int64"
      ]
     },
     "execution_count": 154,
     "metadata": {
      "tags": []
     },
     "output_type": "execute_result"
    }
   ],
   "source": [
    "df_test.Embarked.value_counts()"
   ]
  },
  {
   "cell_type": "code",
   "execution_count": 155,
   "metadata": {
    "colab": {
     "base_uri": "https://localhost:8080/",
     "height": 329
    },
    "colab_type": "code",
    "executionInfo": {
     "elapsed": 2074,
     "status": "ok",
     "timestamp": 1554217386073,
     "user": {
      "displayName": "Mohit Raj",
      "photoUrl": "https://lh4.googleusercontent.com/-THuQGyH-qf0/AAAAAAAAAAI/AAAAAAAAAKE/sT7jOYuqFyI/s64/photo.jpg",
      "userId": "17943522262909727589"
     },
     "user_tz": -330
    },
    "id": "xz-TteUkOafk",
    "outputId": "b0360815-4d0a-4ddd-825d-baadab0499c7"
   },
   "outputs": [
    {
     "name": "stdout",
     "output_type": "stream",
     "text": [
      "<class 'pandas.core.frame.DataFrame'>\n",
      "RangeIndex: 418 entries, 0 to 417\n",
      "Data columns (total 12 columns):\n",
      "PassengerId       418 non-null int64\n",
      "Pclass            418 non-null int64\n",
      "Name              418 non-null object\n",
      "Sex               418 non-null object\n",
      "Age               332 non-null float64\n",
      "SibSp             418 non-null int64\n",
      "Parch             418 non-null int64\n",
      "Ticket            418 non-null object\n",
      "Fare              418 non-null float64\n",
      "Cabin             91 non-null object\n",
      "Embarked          418 non-null object\n",
      "Age_NA_Is_Mean    418 non-null float64\n",
      "dtypes: float64(3), int64(4), object(5)\n",
      "memory usage: 39.3+ KB\n"
     ]
    }
   ],
   "source": [
    "df_test.info()"
   ]
  },
  {
   "cell_type": "code",
   "execution_count": 156,
   "metadata": {
    "colab": {
     "base_uri": "https://localhost:8080/",
     "height": 127
    },
    "colab_type": "code",
    "executionInfo": {
     "elapsed": 2026,
     "status": "ok",
     "timestamp": 1554217389203,
     "user": {
      "displayName": "Mohit Raj",
      "photoUrl": "https://lh4.googleusercontent.com/-THuQGyH-qf0/AAAAAAAAAAI/AAAAAAAAAKE/sT7jOYuqFyI/s64/photo.jpg",
      "userId": "17943522262909727589"
     },
     "user_tz": -330
    },
    "id": "g7zyFlouOaft",
    "outputId": "489ab17f-07fd-4620-983d-e89ad314f96d"
   },
   "outputs": [
    {
     "data": {
      "text/plain": [
       "0    892\n",
       "1    893\n",
       "2    894\n",
       "3    895\n",
       "4    896\n",
       "Name: PassengerId, dtype: int64"
      ]
     },
     "execution_count": 156,
     "metadata": {
      "tags": []
     },
     "output_type": "execute_result"
    }
   ],
   "source": [
    "passenger_id = df_test.PassengerId\n",
    "passenger_id[:5]"
   ]
  },
  {
   "cell_type": "code",
   "execution_count": 0,
   "metadata": {
    "colab": {},
    "colab_type": "code",
    "id": "lT_s4xR4Oafy"
   },
   "outputs": [],
   "source": []
  },
  {
   "cell_type": "markdown",
   "metadata": {
    "colab_type": "text",
    "id": "Lc2krCT3Oafz"
   },
   "source": [
    "## Preprocessing the test set for model"
   ]
  },
  {
   "cell_type": "code",
   "execution_count": 157,
   "metadata": {
    "colab": {
     "base_uri": "https://localhost:8080/",
     "height": 35
    },
    "colab_type": "code",
    "executionInfo": {
     "elapsed": 1449,
     "status": "ok",
     "timestamp": 1554217397886,
     "user": {
      "displayName": "Mohit Raj",
      "photoUrl": "https://lh4.googleusercontent.com/-THuQGyH-qf0/AAAAAAAAAAI/AAAAAAAAAKE/sT7jOYuqFyI/s64/photo.jpg",
      "userId": "17943522262909727589"
     },
     "user_tz": -330
    },
    "id": "t9dnMBXgOaf0",
    "outputId": "2077a099-1991-48a6-98e7-deedc8fc52ad"
   },
   "outputs": [
    {
     "data": {
      "text/plain": [
       "array([3, 'male', 0, 0, 7.8292, 'Q', 34.5], dtype=object)"
      ]
     },
     "execution_count": 157,
     "metadata": {
      "tags": []
     },
     "output_type": "execute_result"
    }
   ],
   "source": [
    "X_test = df_test.iloc[:, [1,3,5,6,8,10,11]].values\n",
    "X_test[0]"
   ]
  },
  {
   "cell_type": "code",
   "execution_count": 0,
   "metadata": {
    "colab": {},
    "colab_type": "code",
    "id": "qFKzKg_4Oaf6"
   },
   "outputs": [],
   "source": [
    "# Label encoding on test set\n",
    "X_test[:, 1] = labelencoder_sex.transform(X_test[:, 1])\n",
    "X_test[:, 5] = labelencoder_embarked.transform(X_test[:, 5])"
   ]
  },
  {
   "cell_type": "code",
   "execution_count": 0,
   "metadata": {
    "colab": {},
    "colab_type": "code",
    "id": "DX61gIEXOagB"
   },
   "outputs": [],
   "source": [
    "# One-Hot encoding on test set\n",
    "X_test = ohe.transform(X_test).toarray()"
   ]
  },
  {
   "cell_type": "code",
   "execution_count": 0,
   "metadata": {
    "colab": {},
    "colab_type": "code",
    "id": "yn7l2iVMOagE"
   },
   "outputs": [],
   "source": [
    "X_test = X_test[:, [1,3,4,5,6,7,8,9]]"
   ]
  },
  {
   "cell_type": "code",
   "execution_count": 0,
   "metadata": {
    "colab": {},
    "colab_type": "code",
    "id": "2ksTyMubOagX"
   },
   "outputs": [],
   "source": [
    "# Normalization on test set\n",
    "X_test = norm.transform(X_test)"
   ]
  },
  {
   "cell_type": "code",
   "execution_count": 0,
   "metadata": {
    "colab": {},
    "colab_type": "code",
    "id": "zgnahoCrOaga"
   },
   "outputs": [],
   "source": []
  },
  {
   "cell_type": "markdown",
   "metadata": {
    "colab_type": "text",
    "id": "1j8K-5hdOagd"
   },
   "source": [
    "## Making predictions on test set"
   ]
  },
  {
   "cell_type": "code",
   "execution_count": 0,
   "metadata": {
    "colab": {},
    "colab_type": "code",
    "id": "kDG9_RXQOage"
   },
   "outputs": [],
   "source": [
    "# Making predictions on the test set using classifier_gs_svm\n",
    "y_pred = model.predict(X_test)"
   ]
  },
  {
   "cell_type": "code",
   "execution_count": 224,
   "metadata": {
    "colab": {
     "base_uri": "https://localhost:8080/",
     "height": 109
    },
    "colab_type": "code",
    "executionInfo": {
     "elapsed": 1882,
     "status": "ok",
     "timestamp": 1554222047370,
     "user": {
      "displayName": "Mohit Raj",
      "photoUrl": "https://lh4.googleusercontent.com/-THuQGyH-qf0/AAAAAAAAAAI/AAAAAAAAAKE/sT7jOYuqFyI/s64/photo.jpg",
      "userId": "17943522262909727589"
     },
     "user_tz": -330
    },
    "id": "HLDI7ZoyOagh",
    "outputId": "731f5426-dee4-4afa-d73c-45f21831e04d"
   },
   "outputs": [
    {
     "data": {
      "text/plain": [
       "array([[False],\n",
       "       [False],\n",
       "       [False],\n",
       "       [False],\n",
       "       [False]])"
      ]
     },
     "execution_count": 224,
     "metadata": {
      "tags": []
     },
     "output_type": "execute_result"
    }
   ],
   "source": [
    "# Predictions\n",
    "y_pred[:5]"
   ]
  },
  {
   "cell_type": "code",
   "execution_count": 221,
   "metadata": {
    "colab": {
     "base_uri": "https://localhost:8080/",
     "height": 109
    },
    "colab_type": "code",
    "executionInfo": {
     "elapsed": 1983,
     "status": "ok",
     "timestamp": 1554221944351,
     "user": {
      "displayName": "Mohit Raj",
      "photoUrl": "https://lh4.googleusercontent.com/-THuQGyH-qf0/AAAAAAAAAAI/AAAAAAAAAKE/sT7jOYuqFyI/s64/photo.jpg",
      "userId": "17943522262909727589"
     },
     "user_tz": -330
    },
    "id": "8T967taP0LlY",
    "outputId": "27a1534f-e8d0-4f4e-ebf6-4be04c01b8d9"
   },
   "outputs": [
    {
     "data": {
      "text/plain": [
       "array([[False],\n",
       "       [False],\n",
       "       [False],\n",
       "       [False],\n",
       "       [False]])"
      ]
     },
     "execution_count": 221,
     "metadata": {
      "tags": []
     },
     "output_type": "execute_result"
    }
   ],
   "source": [
    "y_pred = (y_pred > 0.5)\n",
    "y_pred[:5]"
   ]
  },
  {
   "cell_type": "code",
   "execution_count": 234,
   "metadata": {
    "colab": {
     "base_uri": "https://localhost:8080/",
     "height": 206
    },
    "colab_type": "code",
    "executionInfo": {
     "elapsed": 2756,
     "status": "ok",
     "timestamp": 1554222357807,
     "user": {
      "displayName": "Mohit Raj",
      "photoUrl": "https://lh4.googleusercontent.com/-THuQGyH-qf0/AAAAAAAAAAI/AAAAAAAAAKE/sT7jOYuqFyI/s64/photo.jpg",
      "userId": "17943522262909727589"
     },
     "user_tz": -330
    },
    "id": "-oppW6HHOagk",
    "outputId": "23250f64-34ca-4cdd-f380-381fb27a6f63"
   },
   "outputs": [
    {
     "data": {
      "text/html": [
       "<div>\n",
       "<style scoped>\n",
       "    .dataframe tbody tr th:only-of-type {\n",
       "        vertical-align: middle;\n",
       "    }\n",
       "\n",
       "    .dataframe tbody tr th {\n",
       "        vertical-align: top;\n",
       "    }\n",
       "\n",
       "    .dataframe thead th {\n",
       "        text-align: right;\n",
       "    }\n",
       "</style>\n",
       "<table border=\"1\" class=\"dataframe\">\n",
       "  <thead>\n",
       "    <tr style=\"text-align: right;\">\n",
       "      <th></th>\n",
       "      <th>PassengerId</th>\n",
       "      <th>Survived</th>\n",
       "    </tr>\n",
       "  </thead>\n",
       "  <tbody>\n",
       "    <tr>\n",
       "      <th>0</th>\n",
       "      <td>892</td>\n",
       "      <td>False</td>\n",
       "    </tr>\n",
       "    <tr>\n",
       "      <th>1</th>\n",
       "      <td>893</td>\n",
       "      <td>False</td>\n",
       "    </tr>\n",
       "    <tr>\n",
       "      <th>2</th>\n",
       "      <td>894</td>\n",
       "      <td>False</td>\n",
       "    </tr>\n",
       "    <tr>\n",
       "      <th>3</th>\n",
       "      <td>895</td>\n",
       "      <td>False</td>\n",
       "    </tr>\n",
       "    <tr>\n",
       "      <th>4</th>\n",
       "      <td>896</td>\n",
       "      <td>False</td>\n",
       "    </tr>\n",
       "  </tbody>\n",
       "</table>\n",
       "</div>"
      ],
      "text/plain": [
       "   PassengerId  Survived\n",
       "0          892     False\n",
       "1          893     False\n",
       "2          894     False\n",
       "3          895     False\n",
       "4          896     False"
      ]
     },
     "execution_count": 234,
     "metadata": {
      "tags": []
     },
     "output_type": "execute_result"
    }
   ],
   "source": [
    "# Preparing the submission format for the predictions.\n",
    "pred_df = pd.concat({'PassengerId': pd.Series(passenger_id), 'Survived': pd.Series(y_pred[:,0])}, \n",
    "                    axis=1)\n",
    "pred_df.head()"
   ]
  },
  {
   "cell_type": "code",
   "execution_count": 0,
   "metadata": {
    "colab": {},
    "colab_type": "code",
    "id": "UOKfNyA73Ro6"
   },
   "outputs": [],
   "source": [
    "survival_map = {False: 0, True: 1}"
   ]
  },
  {
   "cell_type": "code",
   "execution_count": 0,
   "metadata": {
    "colab": {},
    "colab_type": "code",
    "id": "axIGXJFC2t9Q"
   },
   "outputs": [],
   "source": [
    "pred_df.Survived = pred_df.Survived.map(survival_map)"
   ]
  },
  {
   "cell_type": "code",
   "execution_count": 239,
   "metadata": {
    "colab": {
     "base_uri": "https://localhost:8080/",
     "height": 206
    },
    "colab_type": "code",
    "executionInfo": {
     "elapsed": 2613,
     "status": "ok",
     "timestamp": 1554222532270,
     "user": {
      "displayName": "Mohit Raj",
      "photoUrl": "https://lh4.googleusercontent.com/-THuQGyH-qf0/AAAAAAAAAAI/AAAAAAAAAKE/sT7jOYuqFyI/s64/photo.jpg",
      "userId": "17943522262909727589"
     },
     "user_tz": -330
    },
    "id": "JgwJPLvU3jzv",
    "outputId": "1e123b31-7543-4036-c157-6885421f11d5"
   },
   "outputs": [
    {
     "data": {
      "text/html": [
       "<div>\n",
       "<style scoped>\n",
       "    .dataframe tbody tr th:only-of-type {\n",
       "        vertical-align: middle;\n",
       "    }\n",
       "\n",
       "    .dataframe tbody tr th {\n",
       "        vertical-align: top;\n",
       "    }\n",
       "\n",
       "    .dataframe thead th {\n",
       "        text-align: right;\n",
       "    }\n",
       "</style>\n",
       "<table border=\"1\" class=\"dataframe\">\n",
       "  <thead>\n",
       "    <tr style=\"text-align: right;\">\n",
       "      <th></th>\n",
       "      <th>PassengerId</th>\n",
       "      <th>Survived</th>\n",
       "    </tr>\n",
       "  </thead>\n",
       "  <tbody>\n",
       "    <tr>\n",
       "      <th>0</th>\n",
       "      <td>892</td>\n",
       "      <td>0</td>\n",
       "    </tr>\n",
       "    <tr>\n",
       "      <th>1</th>\n",
       "      <td>893</td>\n",
       "      <td>0</td>\n",
       "    </tr>\n",
       "    <tr>\n",
       "      <th>2</th>\n",
       "      <td>894</td>\n",
       "      <td>0</td>\n",
       "    </tr>\n",
       "    <tr>\n",
       "      <th>3</th>\n",
       "      <td>895</td>\n",
       "      <td>0</td>\n",
       "    </tr>\n",
       "    <tr>\n",
       "      <th>4</th>\n",
       "      <td>896</td>\n",
       "      <td>0</td>\n",
       "    </tr>\n",
       "  </tbody>\n",
       "</table>\n",
       "</div>"
      ],
      "text/plain": [
       "   PassengerId  Survived\n",
       "0          892         0\n",
       "1          893         0\n",
       "2          894         0\n",
       "3          895         0\n",
       "4          896         0"
      ]
     },
     "execution_count": 239,
     "metadata": {
      "tags": []
     },
     "output_type": "execute_result"
    }
   ],
   "source": [
    "pred_df.head()"
   ]
  },
  {
   "cell_type": "code",
   "execution_count": 0,
   "metadata": {
    "colab": {},
    "colab_type": "code",
    "id": "7xv-9iwGOago"
   },
   "outputs": [],
   "source": [
    "# Exporting the predictions to a csv file.\n",
    "pred_df.to_csv('/content/drive/My Drive/Colab Notebooks/Internships/Titanic/data/Survival_Prediction_ANN.csv', index=False)"
   ]
  },
  {
   "cell_type": "code",
   "execution_count": 0,
   "metadata": {
    "colab": {},
    "colab_type": "code",
    "id": "xdUWkSkJOagr"
   },
   "outputs": [],
   "source": []
  }
 ],
 "metadata": {
  "accelerator": "GPU",
  "colab": {
   "collapsed_sections": [],
   "name": "titanic_machine_learning_from_disaster_with_ann.ipynb",
   "provenance": [],
   "version": "0.3.2"
  },
  "kernelspec": {
   "display_name": "Python 3",
   "language": "python",
   "name": "python3"
  },
  "language_info": {
   "codemirror_mode": {
    "name": "ipython",
    "version": 3
   },
   "file_extension": ".py",
   "mimetype": "text/x-python",
   "name": "python",
   "nbconvert_exporter": "python",
   "pygments_lexer": "ipython3",
   "version": "3.7.0"
  }
 },
 "nbformat": 4,
 "nbformat_minor": 1
}
